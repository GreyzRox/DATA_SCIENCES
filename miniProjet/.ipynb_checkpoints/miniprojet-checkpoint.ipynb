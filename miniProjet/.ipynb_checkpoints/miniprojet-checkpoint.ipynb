{
 "cells": [
  {
   "cell_type": "markdown",
   "id": "02f5240a-e773-487c-a562-2027efe70233",
   "metadata": {},
   "source": [
    "IA & Data science (LU3IN0226) -- 2024-2025\n",
    "--------\n",
    "*&copy; Equipe pédagogique: Christophe Marsala, Olivier Schwander, Jean-Noël Vittaut.*\n"
   ]
  },
  {
   "cell_type": "markdown",
   "id": "50018277-b782-446f-9446-0a7163f25315",
   "metadata": {},
   "source": [
    "# Mini-projet final"
   ]
  },
  {
   "cell_type": "markdown",
   "id": "d00a8643-d3b4-42dd-acdf-31e374f15db6",
   "metadata": {},
   "source": [
    "<font size=\"+1\" color=\"RED\">**[Q]**</font> **Indiquer dans la boîte ci-dessous vos noms et prénoms :**"
   ]
  },
  {
   "cell_type": "markdown",
   "id": "4b7f75b3-b8fe-4c1e-a5b4-693fb90bc1c6",
   "metadata": {},
   "source": [
    "Guillaume DUPART - Yanis TOUTAIN"
   ]
  },
  {
   "cell_type": "markdown",
   "id": "f770d35b-fb4c-42ea-8f57-48921b2b82a5",
   "metadata": {},
   "source": [
    "Ce projet peut être fait en binôme (et c'est fortement conseillé) ou tout seul.\n",
    "\n",
    "Le nom de chaque membre du binôme doit être indiqué, et <u>**un seul rendu sur un des deux comptes Moodle doit être fait**</u>.\n",
    "\n",
    "Les groupes de plus de 2 personnes ne sont pas autorisés.\n",
    "\n",
    "**La dernière séance de TD-TME11 de votre groupe sera réservée pour travailler sur ce mini-projet.**"
   ]
  },
  {
   "cell_type": "markdown",
   "id": "2efc44f2-00f2-4679-b0c1-ea4366a6ad80",
   "metadata": {},
   "source": [
    "<font color=\"RED\" size=\"+1\"><b>[Q]</b></font> **Renommer ce fichier ipython**\n",
    "\n",
    "**Nom à donner au fichier à poster** : *projet-Nom1_Nom2.ipynb* \n",
    "- *Nom1* et *Nom2* : noms des membres du binôme\n",
    "- ne pas compresser ou faire une archive: il faut rendre le fichier ipython tel quel, éventuellement, si vous avez d'autres fichiers vous les rendez séparément.\n",
    "\n",
    "**Le compte-rendu est soumis sur la page Moodle.**"
   ]
  },
  {
   "cell_type": "markdown",
   "id": "dcb05912-5ec9-4635-83b9-f056a3429361",
   "metadata": {},
   "source": [
    "# Projet 2 - avril-mai 2025\n",
    "\n",
    "\n",
    "<font size=\"+1\" color=\"RED\"><b>Date de rendu : au plus tard le lundi 19 mai 2025, avant 11h</b></font>\n",
    "    \n",
    "<b>Attention! le site Moodle ferme à 11h pile !</b> prévoyez de vous y connecter au moins 15mn avant la fermeture...\n",
    "<b>Il n'y aura pas de prolongation possible.</b>\n",
    "\n",
    "Vous devez compléter ce notebook en rajoutant vos expérimentations avec vos algorithmes d'apprentissage sur les données fournies dans le répertoire `data`.\n",
    "\n"
   ]
  },
  {
   "cell_type": "markdown",
   "id": "55ad36e1-f91f-41a8-bea8-da028d30e6c4",
   "metadata": {},
   "source": [
    "## Travail à faire\n",
    "\n",
    "Appliquer les algorithmes d'apprentissage vus en cours sur les données comme décrit ci-dessous afin de mettre en évidence des résultats intéressants.\n",
    "\n",
    "\n",
    "## Compte-rendu demandé\n",
    "Ce qui doit être remis avant la date limite : un fichier archive (`.tar`, `.tgz`, ou `.zip` uniquement) contenant:\n",
    "- ce **notebook** complété. Il doit pouvoir être exécuté sans autre apport (pensez à vous en assurer avant de le rendre). \n",
    "- votre **librairie iads** sous la forme d'une archive avec votre répertoire `iads/` contenant tous les fichiers nécessaires \n",
    "- un **poster** sous la forme d'un fichier PDF dont le nom est de la forme: *tme11-Nom1_Nom2.pdf* qui correspond à un poster décrivant l'ensemble des expérimentations menées et les résultats obtenus.\n",
    "\n",
    "\n",
    "<b>IMPORTANT</b>: \n",
    "- Les <u>fichiers de données ne doivent pas être inclus dans votre archive</u> ! \n",
    "- Pensez à vérifier que votre archive contient bien tous les fichiers demandés et **seulement** les fichiers demandés.\n",
    "- **Tous les fichiers demandés doivent être soumis avant la date limite*, le jour de la soutenance, vous pourrez fournir des versions (légèrement) modifiées.\n",
    "\n",
    "## Soutenance des projets\n",
    "La soutenance aura lieu le <font size=\"+1\" color=\"RED\">**mardi 20 mai 2025**</font>, à partir de 9h. Un ordre de passage ainsi que la salle de TME où aura lieu les soutenances seront affichées sur le Moodle la veille (la remise d'un compte-rendu avant lundi 19 mai 11h est obligatoire pour être autorisé à passer une soutenance).\n",
    "\n",
    "La <b>soutenance est obligatoire</b> : tout projet pour lequel une soutenance n'a pas eu lieu sera noté $0$.\n",
    "\n",
    "Modalités de la soutenance:\n",
    "- durée de la soutenance : 10 mn pour un binôme, 7 mn pour un monôme ;\n",
    "- elle a lieu devant un ordinateur avec le notebook et le poster comme support ;\n",
    "    - elle commence par une rapide présentation des expérimentations réalisées et résultats obtenus (max. 4 à 5mns)\n",
    "    - puis elle se poursuit par des questions posées individuellement aux membres du binômes sur les expériences ou le code python réalisé.\n",
    "- la note de soutenance est individuelle pour chaque membre d'un binôme.\n",
    "\n",
    "\n",
    "**Très important** : les fichiers de données doivent être placés de façon à respecter la structure de fichiers suivante :\n",
    "\n",
    "          --iads/\n",
    "              -- Classifiers.py\n",
    "              -- etc.\n",
    "          -- MiniProjet/\n",
    "              -- ce_notebook.ipynb\n",
    "\n",
    "Les données seront chargées par les commandes de chargement des données fournies dans ce notebook (ci-dessous).\n",
    "\n",
    "Dans le notebook que vous rendrez, le chargement des fichiers de données doit considérer cette arborescence.\n",
    "\n"
   ]
  },
  {
   "cell_type": "code",
   "execution_count": 2,
   "id": "64e0796c-a140-4bbf-a11a-58f40b9e0497",
   "metadata": {},
   "outputs": [
    {
     "name": "stdout",
     "output_type": "stream",
     "text": [
      "The autoreload extension is already loaded. To reload it, use:\n",
      "  %reload_ext autoreload\n",
      "The autoreload extension is already loaded. To reload it, use:\n",
      "  %reload_ext autoreload\n"
     ]
    }
   ],
   "source": [
    "# Importation de librairies standards:\n",
    "import numpy as np\n",
    "import pandas as pd\n",
    "import matplotlib.pyplot as plt\n",
    "%matplotlib inline  \n",
    "\n",
    "# un nouvel import utile pour la 3D:\n",
    "from matplotlib import cm\n",
    "\n",
    "# Les instructions suivantes sont TRES utiles pour recharger automatiquement \n",
    "# le code modifié dans les librairies externes\n",
    "%load_ext autoreload\n",
    "%autoreload 2\n",
    "\n",
    "# Pour mesurer le temps\n",
    "import time\n",
    "\n",
    "# Importation de votre librairie iads:\n",
    "# La ligne suivante permet de préciser le chemin d'accès à la librairie iads\n",
    "import sys\n",
    "sys.path.append('../')   # iads doit être dans le répertoire père du répertoire courant !\n",
    "\n",
    "# Importation de la librairie iads\n",
    "import iads as iads\n",
    "\n",
    "# importation de Classifiers\n",
    "from iads import Classifiers as classif\n",
    "\n",
    "# importation de utils\n",
    "from iads import utils as ut\n",
    "\n",
    "# importation de evaluation\n",
    "from iads import evaluation as ev\n",
    "\n",
    "# importation de Clustering\n",
    "from iads import Clustering as clust\n",
    "\n",
    "import graphviz as gv\n",
    "\n",
    "# commande TRES utile pour recharger automatiquement le code que vous modifiez dans les modules\n",
    "%load_ext autoreload\n",
    "%autoreload 2"
   ]
  },
  {
   "cell_type": "markdown",
   "id": "ca98bdab-80fe-44a1-8057-d027925d8d0f",
   "metadata": {},
   "source": [
    "## Données pour le projet : 20newsgroups\n",
    "\n",
    "Les données sont fournies dans le fichier CSV `20newsgroups.csv` contenu dans l'archive. Une documentation sur ces données peut être consultée sur la <a href=\"http://qwone.com/~jason/20Newsgroups/\" target=\"NEW\">page ScikitLearn</a>.\n",
    "Ces données sont des dépêches issues de 20 groupes de discussions.\n"
   ]
  },
  {
   "cell_type": "markdown",
   "id": "6a483d33-8e89-4f7c-8525-5dfaae092e86",
   "metadata": {},
   "source": [
    "### Chargement des données"
   ]
  },
  {
   "cell_type": "code",
   "execution_count": 3,
   "id": "49b32889",
   "metadata": {},
   "outputs": [
    {
     "data": {
      "text/html": [
       "<div>\n",
       "<style scoped>\n",
       "    .dataframe tbody tr th:only-of-type {\n",
       "        vertical-align: middle;\n",
       "    }\n",
       "\n",
       "    .dataframe tbody tr th {\n",
       "        vertical-align: top;\n",
       "    }\n",
       "\n",
       "    .dataframe thead th {\n",
       "        text-align: right;\n",
       "    }\n",
       "</style>\n",
       "<table border=\"1\" class=\"dataframe\">\n",
       "  <thead>\n",
       "    <tr style=\"text-align: right;\">\n",
       "      <th></th>\n",
       "      <th>messages</th>\n",
       "      <th>target</th>\n",
       "    </tr>\n",
       "  </thead>\n",
       "  <tbody>\n",
       "    <tr>\n",
       "      <th>0</th>\n",
       "      <td>\\n\\nI am sure some bashers of Pens fans are pr...</td>\n",
       "      <td>10</td>\n",
       "    </tr>\n",
       "    <tr>\n",
       "      <th>1</th>\n",
       "      <td>My brother is in the market for a high-perform...</td>\n",
       "      <td>3</td>\n",
       "    </tr>\n",
       "    <tr>\n",
       "      <th>2</th>\n",
       "      <td>\\n\\n\\n\\n\\tFinally you said what you dream abou...</td>\n",
       "      <td>17</td>\n",
       "    </tr>\n",
       "    <tr>\n",
       "      <th>3</th>\n",
       "      <td>\\nThink!\\n\\nIt's the SCSI card doing the DMA t...</td>\n",
       "      <td>3</td>\n",
       "    </tr>\n",
       "    <tr>\n",
       "      <th>4</th>\n",
       "      <td>1)    I have an old Jasmine drive which I cann...</td>\n",
       "      <td>4</td>\n",
       "    </tr>\n",
       "    <tr>\n",
       "      <th>...</th>\n",
       "      <td>...</td>\n",
       "      <td>...</td>\n",
       "    </tr>\n",
       "    <tr>\n",
       "      <th>18841</th>\n",
       "      <td>DN&gt; From: nyeda@cnsvax.uwec.edu (David Nye)\\nD...</td>\n",
       "      <td>13</td>\n",
       "    </tr>\n",
       "    <tr>\n",
       "      <th>18842</th>\n",
       "      <td>\\nNot in isolated ground recepticles (usually ...</td>\n",
       "      <td>12</td>\n",
       "    </tr>\n",
       "    <tr>\n",
       "      <th>18843</th>\n",
       "      <td>I just installed a DX2-66 CPU in a clone mothe...</td>\n",
       "      <td>3</td>\n",
       "    </tr>\n",
       "    <tr>\n",
       "      <th>18844</th>\n",
       "      <td>\\nWouldn't this require a hyper-sphere.  In 3-...</td>\n",
       "      <td>1</td>\n",
       "    </tr>\n",
       "    <tr>\n",
       "      <th>18845</th>\n",
       "      <td>After a tip from Gary Crum (crum@fcom.cc.utah....</td>\n",
       "      <td>7</td>\n",
       "    </tr>\n",
       "  </tbody>\n",
       "</table>\n",
       "<p>18846 rows × 2 columns</p>\n",
       "</div>"
      ],
      "text/plain": [
       "                                                messages  target\n",
       "0      \\n\\nI am sure some bashers of Pens fans are pr...      10\n",
       "1      My brother is in the market for a high-perform...       3\n",
       "2      \\n\\n\\n\\n\\tFinally you said what you dream abou...      17\n",
       "3      \\nThink!\\n\\nIt's the SCSI card doing the DMA t...       3\n",
       "4      1)    I have an old Jasmine drive which I cann...       4\n",
       "...                                                  ...     ...\n",
       "18841  DN> From: nyeda@cnsvax.uwec.edu (David Nye)\\nD...      13\n",
       "18842  \\nNot in isolated ground recepticles (usually ...      12\n",
       "18843  I just installed a DX2-66 CPU in a clone mothe...       3\n",
       "18844  \\nWouldn't this require a hyper-sphere.  In 3-...       1\n",
       "18845  After a tip from Gary Crum (crum@fcom.cc.utah....       7\n",
       "\n",
       "[18846 rows x 2 columns]"
      ]
     },
     "execution_count": 3,
     "metadata": {},
     "output_type": "execute_result"
    }
   ],
   "source": [
    "newsgroups_df = pd.read_csv(\"data/20newsgroups.csv\")\n",
    "newsgroups_df2 = pd.read_csv(\"data/20newsgroups.csv\")\n",
    "newsgroups_df"
   ]
  },
  {
   "cell_type": "markdown",
   "id": "d9453549-a545-468d-a0a9-0caa750630ea",
   "metadata": {},
   "source": [
    "### Prétraitement\n",
    "\n",
    "Dans un premier temps, vous devez appliquer les étapes de prétraitements vues dans le TME 6. Pour le nettoyage, la liste des mots inutiles (stopwords) est fournie dans le fichier `stopwords.csv` de l'archive"
   ]
  },
  {
   "cell_type": "code",
   "execution_count": 4,
   "id": "9462a8e5-061c-41ae-ad3e-16a95d84db64",
   "metadata": {},
   "outputs": [
    {
     "data": {
      "text/html": [
       "<div>\n",
       "<style scoped>\n",
       "    .dataframe tbody tr th:only-of-type {\n",
       "        vertical-align: middle;\n",
       "    }\n",
       "\n",
       "    .dataframe tbody tr th {\n",
       "        vertical-align: top;\n",
       "    }\n",
       "\n",
       "    .dataframe thead th {\n",
       "        text-align: right;\n",
       "    }\n",
       "</style>\n",
       "<table border=\"1\" class=\"dataframe\">\n",
       "  <thead>\n",
       "    <tr style=\"text-align: right;\">\n",
       "      <th></th>\n",
       "      <th>stopword</th>\n",
       "    </tr>\n",
       "  </thead>\n",
       "  <tbody>\n",
       "    <tr>\n",
       "      <th>0</th>\n",
       "      <td>a</td>\n",
       "    </tr>\n",
       "    <tr>\n",
       "      <th>1</th>\n",
       "      <td>about</td>\n",
       "    </tr>\n",
       "    <tr>\n",
       "      <th>2</th>\n",
       "      <td>above</td>\n",
       "    </tr>\n",
       "    <tr>\n",
       "      <th>3</th>\n",
       "      <td>after</td>\n",
       "    </tr>\n",
       "    <tr>\n",
       "      <th>4</th>\n",
       "      <td>again</td>\n",
       "    </tr>\n",
       "    <tr>\n",
       "      <th>...</th>\n",
       "      <td>...</td>\n",
       "    </tr>\n",
       "    <tr>\n",
       "      <th>193</th>\n",
       "      <td>you're</td>\n",
       "    </tr>\n",
       "    <tr>\n",
       "      <th>194</th>\n",
       "      <td>yours</td>\n",
       "    </tr>\n",
       "    <tr>\n",
       "      <th>195</th>\n",
       "      <td>yourself</td>\n",
       "    </tr>\n",
       "    <tr>\n",
       "      <th>196</th>\n",
       "      <td>yourselves</td>\n",
       "    </tr>\n",
       "    <tr>\n",
       "      <th>197</th>\n",
       "      <td>you've</td>\n",
       "    </tr>\n",
       "  </tbody>\n",
       "</table>\n",
       "<p>198 rows × 1 columns</p>\n",
       "</div>"
      ],
      "text/plain": [
       "       stopword\n",
       "0             a\n",
       "1         about\n",
       "2         above\n",
       "3         after\n",
       "4         again\n",
       "..          ...\n",
       "193      you're\n",
       "194       yours\n",
       "195    yourself\n",
       "196  yourselves\n",
       "197      you've\n",
       "\n",
       "[198 rows x 1 columns]"
      ]
     },
     "execution_count": 4,
     "metadata": {},
     "output_type": "execute_result"
    }
   ],
   "source": [
    "stop_words_df = pd.read_csv(\"data/stopwords.csv\")\n",
    "stop_words_df"
   ]
  },
  {
   "cell_type": "code",
   "execution_count": 5,
   "id": "eb057408-d12a-451f-89d0-54fae59c1662",
   "metadata": {},
   "outputs": [
    {
     "data": {
      "text/html": [
       "<div>\n",
       "<style scoped>\n",
       "    .dataframe tbody tr th:only-of-type {\n",
       "        vertical-align: middle;\n",
       "    }\n",
       "\n",
       "    .dataframe tbody tr th {\n",
       "        vertical-align: top;\n",
       "    }\n",
       "\n",
       "    .dataframe thead th {\n",
       "        text-align: right;\n",
       "    }\n",
       "</style>\n",
       "<table border=\"1\" class=\"dataframe\">\n",
       "  <thead>\n",
       "    <tr style=\"text-align: right;\">\n",
       "      <th></th>\n",
       "      <th>messages</th>\n",
       "      <th>target</th>\n",
       "      <th>les_mots</th>\n",
       "    </tr>\n",
       "  </thead>\n",
       "  <tbody>\n",
       "    <tr>\n",
       "      <th>0</th>\n",
       "      <td>\\n\\nI am sure some bashers of Pens fans are pr...</td>\n",
       "      <td>10</td>\n",
       "      <td>[sure, bashers, pens, fans, pretty, confused, ...</td>\n",
       "    </tr>\n",
       "    <tr>\n",
       "      <th>1</th>\n",
       "      <td>My brother is in the market for a high-perform...</td>\n",
       "      <td>3</td>\n",
       "      <td>[brother, market, high, performance, video, ca...</td>\n",
       "    </tr>\n",
       "    <tr>\n",
       "      <th>2</th>\n",
       "      <td>\\n\\n\\n\\n\\tFinally you said what you dream abou...</td>\n",
       "      <td>17</td>\n",
       "      <td>[finally, said, dream, mediterranean, new, are...</td>\n",
       "    </tr>\n",
       "    <tr>\n",
       "      <th>3</th>\n",
       "      <td>\\nThink!\\n\\nIt's the SCSI card doing the DMA t...</td>\n",
       "      <td>3</td>\n",
       "      <td>[think, scsi, card, dma, transfers, disks, scs...</td>\n",
       "    </tr>\n",
       "    <tr>\n",
       "      <th>4</th>\n",
       "      <td>1)    I have an old Jasmine drive which I cann...</td>\n",
       "      <td>4</td>\n",
       "      <td>[1, old, jasmine, drive, cannot, use, new, sys...</td>\n",
       "    </tr>\n",
       "    <tr>\n",
       "      <th>...</th>\n",
       "      <td>...</td>\n",
       "      <td>...</td>\n",
       "      <td>...</td>\n",
       "    </tr>\n",
       "    <tr>\n",
       "      <th>18841</th>\n",
       "      <td>DN&gt; From: nyeda@cnsvax.uwec.edu (David Nye)\\nD...</td>\n",
       "      <td>13</td>\n",
       "      <td>[dn, nyeda, cnsvax, uwec, edu, david, nye, dn,...</td>\n",
       "    </tr>\n",
       "    <tr>\n",
       "      <th>18842</th>\n",
       "      <td>\\nNot in isolated ground recepticles (usually ...</td>\n",
       "      <td>12</td>\n",
       "      <td>[isolated, ground, recepticles, usually, unusu...</td>\n",
       "    </tr>\n",
       "    <tr>\n",
       "      <th>18843</th>\n",
       "      <td>I just installed a DX2-66 CPU in a clone mothe...</td>\n",
       "      <td>3</td>\n",
       "      <td>[installed, dx2, 66, cpu, clone, motherboard, ...</td>\n",
       "    </tr>\n",
       "    <tr>\n",
       "      <th>18844</th>\n",
       "      <td>\\nWouldn't this require a hyper-sphere.  In 3-...</td>\n",
       "      <td>1</td>\n",
       "      <td>[require, hyper, sphere, 3, space, 4, points, ...</td>\n",
       "    </tr>\n",
       "    <tr>\n",
       "      <th>18845</th>\n",
       "      <td>After a tip from Gary Crum (crum@fcom.cc.utah....</td>\n",
       "      <td>7</td>\n",
       "      <td>[tip, gary, crum, crum, fcom, cc, utah, edu, g...</td>\n",
       "    </tr>\n",
       "  </tbody>\n",
       "</table>\n",
       "<p>18846 rows × 3 columns</p>\n",
       "</div>"
      ],
      "text/plain": [
       "                                                messages  target  \\\n",
       "0      \\n\\nI am sure some bashers of Pens fans are pr...      10   \n",
       "1      My brother is in the market for a high-perform...       3   \n",
       "2      \\n\\n\\n\\n\\tFinally you said what you dream abou...      17   \n",
       "3      \\nThink!\\n\\nIt's the SCSI card doing the DMA t...       3   \n",
       "4      1)    I have an old Jasmine drive which I cann...       4   \n",
       "...                                                  ...     ...   \n",
       "18841  DN> From: nyeda@cnsvax.uwec.edu (David Nye)\\nD...      13   \n",
       "18842  \\nNot in isolated ground recepticles (usually ...      12   \n",
       "18843  I just installed a DX2-66 CPU in a clone mothe...       3   \n",
       "18844  \\nWouldn't this require a hyper-sphere.  In 3-...       1   \n",
       "18845  After a tip from Gary Crum (crum@fcom.cc.utah....       7   \n",
       "\n",
       "                                                les_mots  \n",
       "0      [sure, bashers, pens, fans, pretty, confused, ...  \n",
       "1      [brother, market, high, performance, video, ca...  \n",
       "2      [finally, said, dream, mediterranean, new, are...  \n",
       "3      [think, scsi, card, dma, transfers, disks, scs...  \n",
       "4      [1, old, jasmine, drive, cannot, use, new, sys...  \n",
       "...                                                  ...  \n",
       "18841  [dn, nyeda, cnsvax, uwec, edu, david, nye, dn,...  \n",
       "18842  [isolated, ground, recepticles, usually, unusu...  \n",
       "18843  [installed, dx2, 66, cpu, clone, motherboard, ...  \n",
       "18844  [require, hyper, sphere, 3, space, 4, points, ...  \n",
       "18845  [tip, gary, crum, crum, fcom, cc, utah, edu, g...  \n",
       "\n",
       "[18846 rows x 3 columns]"
      ]
     },
     "execution_count": 5,
     "metadata": {},
     "output_type": "execute_result"
    }
   ],
   "source": [
    "newsgroups_df[\"messages\"] = newsgroups_df[\"messages\"].fillna(\"\")\n",
    "newsgroups_df[\"les_mots\"] = newsgroups_df[\"messages\"].apply(ut.text2vect, args=(stop_words_df[\"stopword\"].tolist(),))\n",
    "newsgroups_df2[\"messages\"] = newsgroups_df[\"messages\"].fillna(\"\")\n",
    "newsgroups_df2[\"les_mots\"] = newsgroups_df[\"messages\"].apply(ut.text2vect, args=([],))\n",
    "newsgroups_df"
   ]
  },
  {
   "cell_type": "markdown",
   "id": "10616bb3-c4ff-4e72-b204-483559165c06",
   "metadata": {},
   "source": [
    "## Construction du dataset d'apprentissage et de test"
   ]
  },
  {
   "cell_type": "code",
   "execution_count": 25,
   "id": "784296b3-92e8-4c21-a832-35a6292c1262",
   "metadata": {
    "editable": true,
    "slideshow": {
     "slide_type": ""
    },
    "tags": []
   },
   "outputs": [
    {
     "name": "stdout",
     "output_type": "stream",
     "text": [
      "Dimension de df_train:\t(173, 3)\n",
      "Dimension de df_test:\t(932, 3)\n",
      "Dimension de df_train:\t(173, 3)\n",
      "Dimension de df_test:\t(932, 3)\n"
     ]
    }
   ],
   "source": [
    "# pourcentage d'exemples de chaque classe à garder:\n",
    "taux_app = 0.01    # ici on prend 1% \n",
    "taux_test = 0.05 # Taux pour le df de test à 5%\n",
    "les_labels = newsgroups_df['target'].unique()\n",
    "les_labels2 = newsgroups_df2['target'].unique()\n",
    "# déclaration des variables qui seront initialisées dans la boucle:\n",
    "df_train = []  \n",
    "df_test = []\n",
    "for l in les_labels:\n",
    "    les_ids = newsgroups_df[newsgroups_df['target'] == l].index.to_list()\n",
    "    np.random.shuffle(les_ids)\n",
    "    \n",
    "    nb_total = len(les_ids)\n",
    "    nb_app = int(nb_total * taux_app)\n",
    "    nb_test = int(nb_total * taux_test)\n",
    "\n",
    "    ids_app = les_ids[:nb_app]\n",
    "    ids_test = les_ids[nb_app:nb_app + nb_test]\n",
    "\n",
    "    df_train.append(newsgroups_df.loc[ids_app])\n",
    "    df_test.append(newsgroups_df.loc[ids_test])\n",
    "\n",
    "df_train = pd.concat(df_train)\n",
    "df_test = pd.concat(df_test)\n",
    "\n",
    "# ###########################################################\n",
    "\n",
    "# déclaration des variables qui seront initialisées dans la boucle:\n",
    "df_train2 = []  \n",
    "df_test2 = []\n",
    "for l in les_labels2:\n",
    "    les_ids = newsgroups_df2[newsgroups_df2['target'] == l].index.to_list()\n",
    "    np.random.shuffle(les_ids)\n",
    "\n",
    "    nb_total = len(les_ids)\n",
    "    nb_app = int(nb_total * taux_app)\n",
    "    nb_test = int(nb_total * taux_test)\n",
    "\n",
    "    ids_app = les_ids[:nb_app]\n",
    "    ids_test = les_ids[nb_app:nb_app + nb_test]\n",
    "\n",
    "    df_train2.append(newsgroups_df2.loc[ids_app])\n",
    "    df_test2.append(newsgroups_df2.loc[ids_test])\n",
    "\n",
    "df_train2 = pd.concat(df_train2)\n",
    "df_test2 = pd.concat(df_test2)\n",
    "\n",
    "##############################################################\n",
    "\n",
    "# Résultat:\n",
    "print(f\"Dimension de df_train:\\t{df_train.shape}\")\n",
    "print(f\"Dimension de df_test:\\t{df_test.shape}\")\n",
    "print(f\"Dimension de df_train:\\t{df_train2.shape}\")\n",
    "print(f\"Dimension de df_test:\\t{df_test2.shape}\")"
   ]
  },
  {
   "cell_type": "code",
   "execution_count": 26,
   "id": "afa38068-dcfe-4926-a9ab-ea81f2400ca9",
   "metadata": {},
   "outputs": [],
   "source": [
    "# Création de l'index de mots\n",
    "index_mots = list(dict.fromkeys(mot for sous_liste in df_train[\"les_mots\"] for mot in sous_liste))\n",
    "index_mots2 = list(dict.fromkeys(mot for sous_liste in df_train2[\"les_mots\"] for mot in sous_liste))"
   ]
  },
  {
   "cell_type": "markdown",
   "id": "a981e230-4d58-4c55-bd81-f5720a5d50e0",
   "metadata": {},
   "source": [
    "## Construction avec les différentes représentations"
   ]
  },
  {
   "cell_type": "code",
   "execution_count": 27,
   "id": "06ad2acc-b963-4b41-9d5c-652138433f15",
   "metadata": {},
   "outputs": [],
   "source": [
    "# Datasets avec stopwords\n",
    "X_train_binaire = ut.df2array(df_train, index_mots) # bag of words binaire\n",
    "X_test_binaire = ut.df2array(df_test, index_mots)\n",
    "\n",
    "X_train_comptage = ut.df2array_comptage(df_train, index_mots) # bag of words avec comptage\n",
    "X_test_comptage = ut.df2array_comptage(df_test, index_mots)\n",
    "\n",
    "X_train_freq = ut.df2array_freq(df_train, index_mots) # bag of words avec fréquence\n",
    "X_test_freq = ut.df2array_freq(df_test, index_mots)\n",
    "\n",
    "X_train_tfidf = ut.df2array_tfidf(df_train, index_mots) # bag of words avec la méthode tf-idf\n",
    "X_test_tfidf = ut.df2array_tfidf(df_test, index_mots)\n",
    "\n",
    "Y_train = df_train[\"target\"].to_numpy()\n",
    "Y_test = df_test[\"target\"].to_numpy()\n",
    "\n",
    "# Datasets sans stopwords\n",
    "X_train_binaire2 = ut.df2array(df_train2, index_mots2) # bag of words binaire\n",
    "X_test_binaire2 = ut.df2array(df_test2, index_mots2)\n",
    "\n",
    "X_train_comptage2 = ut.df2array_comptage(df_train2, index_mots2) # bag of words avec comptage\n",
    "X_test_comptage2 = ut.df2array_comptage(df_test2, index_mots2)\n",
    "\n",
    "X_train_freq2 = ut.df2array_freq(df_train2, index_mots2) # bag of words avec fréquence\n",
    "X_test_freq2 = ut.df2array_freq(df_test2, index_mots2)\n",
    "\n",
    "X_train_tfidf2 = ut.df2array_tfidf(df_train2, index_mots2) # bag of words avec la méthode tf-idf\n",
    "X_test_tfidf2 = ut.df2array_tfidf(df_test2, index_mots2)\n",
    "\n",
    "Y_train2 = df_train2[\"target\"].to_numpy()\n",
    "Y_test2 = df_test2[\"target\"].to_numpy()"
   ]
  },
  {
   "cell_type": "markdown",
   "id": "5cabf183-5055-4a78-a485-34e57e33ad1d",
   "metadata": {},
   "source": [
    "## Tâches à réaliser"
   ]
  },
  {
   "cell_type": "markdown",
   "id": "b8a96998-c20b-4893-bb69-b5d0031474bb",
   "metadata": {},
   "source": [
    "### Apprentissage supervisé\n",
    "\n",
    "*Tâches*: évaluation d'algorithmes et de représentations des données.\n",
    "- classification binaire\n",
    "- classification multi-classe\n",
    "\n",
    "*Etudes suggérées*:\n",
    "- représentations des données\n",
    "    - avec ou sans suppression des stopwords\n",
    "    - différentes représentations: bag-of-words binaire, avec comptage, avec fréquences, avec tfidf\n",
    "- différents classifiers:\n",
    "    - perceptron,\n",
    "    - k-plus proches voisins avec distance euclidienne,\n",
    "    - k-plus proches voisins avec distance cosinus (cf. TD),\n",
    "    - Naives Bayes,\n",
    "    - arbres de décision\n",
    "- analyse des résultats:\n",
    "    - accuracy, temps d'exécutions\n",
    "    - score fold par fold\n",
    "    - matrice de confusion\n"
   ]
  },
  {
   "cell_type": "markdown",
   "id": "143ad533",
   "metadata": {},
   "source": [
    "### Apprentissage non-supervisé\n",
    "\n",
    "*Tâche*: vérifier que le découpage a du sens par rapport aux groupes fournis. \n",
    "\n",
    "*Etudes suggérées*:\n",
    "- étudier l'application d'un clustering hiérarchique et son résultat;\n",
    "- étudier les résultats de l'application de l'algorithme des k-moyennes, pour différentes valeurs de k;\n",
    "- proposer des évaluations des clusters trouvés afin de mettre en évidence les plus intéressants:\n",
    "    - en utilisant les indices d'évaluation présentés en cours;\n",
    "    - en comparant par diverses méthodes les clusters trouvés avec les vrais labels des classes (targets y).\n",
    "- proposer une visualisation des résultats obtenus\n",
    "\n",
    "\n",
    "   \n"
   ]
  },
  {
   "cell_type": "markdown",
   "id": "7a907d27",
   "metadata": {},
   "source": [
    "## Poster à rendre dans le compte-rendu (format PDF)\n",
    "\n",
    "Votre poster doit décrire de façon synthétique **l'ensemble des expérimentations** menées sur les données, les résultats obtenus en apprentissage supervisé et en apprentissage non-supervisé ainsi que les conclusions/bilans que vous tirez de ces expérimentations (ie. ce que vous avez appris sur ces données).\n",
    "\n",
    "*Remarque*: vous devez indiquer vos noms/prénoms et groupe (1, 2, ou 3) sur le poster.\n"
   ]
  },
  {
   "cell_type": "markdown",
   "id": "70fd07b1-746e-4446-bcf4-43220e0790a1",
   "metadata": {},
   "source": [
    "## KNN avec distance euclidienne"
   ]
  },
  {
   "cell_type": "code",
   "execution_count": 20,
   "id": "cebaeaec-9792-435f-a1fe-46a9c77c744e",
   "metadata": {
    "editable": true,
    "slideshow": {
     "slide_type": ""
    },
    "tags": []
   },
   "outputs": [
    {
     "name": "stdout",
     "output_type": "stream",
     "text": [
      "TEST AVEC UNE VECTORISATION BAG OF WORDS BINAIRE\n",
      "Calcul de l'accuracy du dataset (932 exemples) en 106.09455 secondes\n",
      "Taux de bonne classification sur le dataset X_test_binaire (avec stopwords): 0.057\n",
      "Calcul de l'accuracy du dataset (932 exemples) en 43.05279 secondes\n",
      "Taux de bonne classification sur le dataset X_test_binaire2 (sans stopwords): 0.057\n"
     ]
    }
   ],
   "source": [
    "# Création des KNN avec la distance euclidienne avec et sans stop words\n",
    "k = 5\n",
    "\n",
    "knn_euclidienne = classif.ClassifierKNN(len(index_mots),k) # avec stopword\n",
    "knn_multi_classes = classif.ClassifierMultiOAA(knn_euclidienne)\n",
    "\n",
    "knn_euclidienne2 = classif.ClassifierKNN(len(index_mots2),k) # sans stopword\n",
    "knn_multi_classes2 = classif.ClassifierMultiOAA(knn_euclidienne2)\n",
    "\n",
    "# Entrainements\n",
    "knn_multi_classes.train(X_train_binaire,Y_train)\n",
    "knn_multi_classes2.train(X_train_binaire2,Y_train2)\n",
    "\n",
    "# Affichage du taux de bonne classification   \n",
    "tic = time.time() \n",
    "val_accuracy =  knn_multi_classes.accuracy(X_test_binaire,Y_test)\n",
    "toc = time.time()\n",
    "\n",
    "tic2 = time.time() \n",
    "val_accuracy2 =  knn_multi_classes2.accuracy(X_test_binaire2,Y_test2)\n",
    "toc2 = time.time()\n",
    "\n",
    "print(\"TEST AVEC UNE VECTORISATION BAG OF WORDS BINAIRE\")\n",
    "\n",
    "print(f'Calcul de l\\'accuracy du dataset ({X_test_binaire.shape[0]} exemples) en {(toc-tic):1.5f} secondes')\n",
    "\n",
    "print(f'Taux de bonne classification sur le dataset X_test_binaire (avec stopwords): {val_accuracy:1.3f}')\n",
    "\n",
    "print(f'Calcul de l\\'accuracy du dataset ({X_test_binaire2.shape[0]} exemples) en {(toc2-tic2):1.5f} secondes')\n",
    "\n",
    "print(f'Taux de bonne classification sur le dataset X_test_binaire2 (sans stopwords): {val_accuracy2:1.3f}')"
   ]
  },
  {
   "cell_type": "code",
   "execution_count": 11,
   "id": "b2383b0c-49bd-49e0-804c-5e19de042548",
   "metadata": {},
   "outputs": [
    {
     "name": "stdout",
     "output_type": "stream",
     "text": [
      "TEST AVEC UNE VECTORISATION BAG OF WORDS COMPTAGE\n",
      "Calcul de l'accuracy du dataset (932 exemples) en 107.93440 secondes\n",
      "Taux de bonne classification sur le dataset X_test_comptage (avec stopwords): 0.063\n",
      "Calcul de l'accuracy du dataset (932 exemples) en 79.43288 secondes\n",
      "Taux de bonne classification sur le dataset X_test_comptage2 (sans stopwords): 0.088\n"
     ]
    }
   ],
   "source": [
    "# Entrainements\n",
    "knn_multi_classes.train(X_train_comptage,Y_train)\n",
    "knn_multi_classes2.train(X_train_comptage2,Y_train2)\n",
    "\n",
    "# Affichage du taux de bonne classification   \n",
    "tic = time.time() \n",
    "val_accuracy =  knn_multi_classes.accuracy(X_test_comptage,Y_test)\n",
    "toc = time.time()\n",
    "\n",
    "tic2 = time.time() \n",
    "val_accuracy2 =  knn_multi_classes2.accuracy(X_test_comptage2,Y_test2)\n",
    "toc2 = time.time()\n",
    "\n",
    "print(\"TEST AVEC UNE VECTORISATION BAG OF WORDS COMPTAGE\")\n",
    "\n",
    "print(f'Calcul de l\\'accuracy du dataset ({X_test_comptage.shape[0]} exemples) en {(toc-tic):1.5f} secondes')\n",
    "\n",
    "print(f'Taux de bonne classification sur le dataset X_test_comptage (avec stopwords): {val_accuracy:1.3f}')\n",
    "\n",
    "print(f'Calcul de l\\'accuracy du dataset ({X_test_comptage2.shape[0]} exemples) en {(toc2-tic2):1.5f} secondes')\n",
    "\n",
    "print(f'Taux de bonne classification sur le dataset X_test_comptage2 (sans stopwords): {val_accuracy2:1.3f}')"
   ]
  },
  {
   "cell_type": "code",
   "execution_count": 12,
   "id": "9363af56-2c4f-4566-a9b5-7d71f6d8ffe5",
   "metadata": {
    "editable": true,
    "slideshow": {
     "slide_type": ""
    },
    "tags": []
   },
   "outputs": [
    {
     "name": "stdout",
     "output_type": "stream",
     "text": [
      "TEST AVEC UNE VECTORISATION BAG OF WORDS FREQUENCE\n",
      "Calcul de l'accuracy du dataset (932 exemples) en 74.19798 secondes\n",
      "Taux de bonne classification sur le dataset X_test_freq (avec stopwords): 0.050\n",
      "Calcul de l'accuracy du dataset (932 exemples) en 21.73882 secondes\n",
      "Taux de bonne classification sur le dataset X_test_freq2 (sans stopwords): 0.084\n"
     ]
    }
   ],
   "source": [
    "# Entrainements\n",
    "knn_multi_classes.train(X_train_freq,Y_train)\n",
    "knn_multi_classes2.train(X_train_freq2,Y_train2)\n",
    "\n",
    "# Affichage du taux de bonne classification   \n",
    "tic = time.time() \n",
    "val_accuracy =  knn_multi_classes.accuracy(X_test_freq,Y_test)\n",
    "toc = time.time()\n",
    "\n",
    "tic2 = time.time() \n",
    "val_accuracy2 =  knn_multi_classes2.accuracy(X_test_freq2,Y_test2)\n",
    "toc2 = time.time()\n",
    "\n",
    "print(\"TEST AVEC UNE VECTORISATION BAG OF WORDS FREQUENCE\")\n",
    "\n",
    "print(f'Calcul de l\\'accuracy du dataset ({X_test_freq.shape[0]} exemples) en {(toc-tic):1.5f} secondes')\n",
    "\n",
    "print(f'Taux de bonne classification sur le dataset X_test_freq (avec stopwords): {val_accuracy:1.3f}')\n",
    "\n",
    "print(f'Calcul de l\\'accuracy du dataset ({X_test_freq2.shape[0]} exemples) en {(toc2-tic2):1.5f} secondes')\n",
    "\n",
    "print(f'Taux de bonne classification sur le dataset X_test_freq2 (sans stopwords): {val_accuracy2:1.3f}')"
   ]
  },
  {
   "cell_type": "code",
   "execution_count": 13,
   "id": "e7e3c42b-5c4e-48d4-948d-182bb07325a8",
   "metadata": {},
   "outputs": [
    {
     "name": "stdout",
     "output_type": "stream",
     "text": [
      "TEST AVEC UNE VECTORISATION BAG OF WORDS TF-IDF\n",
      "Calcul de l'accuracy du dataset (932 exemples) en 72.64570 secondes\n",
      "Taux de bonne classification sur le dataset X_test_tfidf (avec stopwords): 0.053\n",
      "Calcul de l'accuracy du dataset (932 exemples) en 22.67490 secondes\n",
      "Taux de bonne classification sur le dataset X_test_tfidf2 (sans stopwords): 0.070\n"
     ]
    }
   ],
   "source": [
    "# Entrainements\n",
    "knn_multi_classes.train(X_train_tfidf,Y_train)\n",
    "knn_multi_classes2.train(X_train_tfidf2,Y_train2)\n",
    "\n",
    "# Affichage du taux de bonne classification   \n",
    "tic = time.time() \n",
    "val_accuracy =  knn_multi_classes.accuracy(X_test_tfidf,Y_test)\n",
    "toc = time.time()\n",
    "\n",
    "tic2 = time.time() \n",
    "val_accuracy2 =  knn_multi_classes2.accuracy(X_test_tfidf2,Y_test2)\n",
    "toc2 = time.time()\n",
    "\n",
    "print(\"TEST AVEC UNE VECTORISATION BAG OF WORDS TF-IDF\")\n",
    "\n",
    "print(f'Calcul de l\\'accuracy du dataset ({X_test_tfidf.shape[0]} exemples) en {(toc-tic):1.5f} secondes')\n",
    "\n",
    "print(f'Taux de bonne classification sur le dataset X_test_tfidf (avec stopwords): {val_accuracy:1.3f}')\n",
    "\n",
    "print(f'Calcul de l\\'accuracy du dataset ({X_test_tfidf2.shape[0]} exemples) en {(toc2-tic2):1.5f} secondes')\n",
    "\n",
    "print(f'Taux de bonne classification sur le dataset X_test_tfidf2 (sans stopwords): {val_accuracy2:1.3f}')"
   ]
  },
  {
   "cell_type": "markdown",
   "id": "3d06089e-3f78-456b-8fa9-4cd8bda90190",
   "metadata": {},
   "source": [
    "## KNN avec distance cosinus"
   ]
  },
  {
   "cell_type": "code",
   "execution_count": 16,
   "id": "bb996633-52f3-43c7-928c-848d582aefdf",
   "metadata": {},
   "outputs": [
    {
     "name": "stdout",
     "output_type": "stream",
     "text": [
      "TEST AVEC UNE VECTORISATION BAG OF WORDS BINAIRE\n",
      "Calcul de l'accuracy du dataset (932 exemples) en 5.14398 secondes\n",
      "Taux de bonne classification sur le dataset X_test_binaire (avec stopwords): 0.226\n",
      "Calcul de l'accuracy du dataset (932 exemples) en 41.95850 secondes\n",
      "Taux de bonne classification sur le dataset X_test_binaire2 (sans stopwords): 0.057\n"
     ]
    }
   ],
   "source": [
    "# Création des KNN avec la distance cosinus avec et sans stop words\n",
    "k = 5\n",
    "\n",
    "knn_cosinus = classif.ClassifierKNNCos(len(index_mots),k) # avec stopword\n",
    "knn_multi_classes = classif.ClassifierMultiOAA(knn_cosinus)\n",
    "\n",
    "knn_cosinus2 = classif.ClassifierKNN(len(index_mots2),k) # sans stopword\n",
    "knn_multi_classes2 = classif.ClassifierMultiOAA(knn_cosinus2)\n",
    "\n",
    "# Entrainements\n",
    "knn_multi_classes.train(X_train_binaire,Y_train)\n",
    "knn_multi_classes2.train(X_train_binaire2,Y_train2)\n",
    "\n",
    "# Affichage du taux de bonne classification   \n",
    "tic = time.time() \n",
    "val_accuracy =  knn_multi_classes.accuracy(X_test_binaire,Y_test)\n",
    "toc = time.time()\n",
    "\n",
    "tic2 = time.time() \n",
    "val_accuracy2 =  knn_multi_classes2.accuracy(X_test_binaire2,Y_test2)\n",
    "toc2 = time.time()\n",
    "\n",
    "print(\"TEST AVEC UNE VECTORISATION BAG OF WORDS BINAIRE\")\n",
    "\n",
    "print(f'Calcul de l\\'accuracy du dataset ({X_test_binaire.shape[0]} exemples) en {(toc-tic):1.5f} secondes')\n",
    "\n",
    "print(f'Taux de bonne classification sur le dataset X_test_binaire (avec stopwords): {val_accuracy:1.3f}')\n",
    "\n",
    "print(f'Calcul de l\\'accuracy du dataset ({X_test_binaire2.shape[0]} exemples) en {(toc2-tic2):1.5f} secondes')\n",
    "\n",
    "print(f'Taux de bonne classification sur le dataset X_test_binaire2 (sans stopwords): {val_accuracy2:1.3f}')"
   ]
  },
  {
   "cell_type": "code",
   "execution_count": 17,
   "id": "2227262b-69f9-48d5-947a-6fa9d8d03dfd",
   "metadata": {},
   "outputs": [
    {
     "name": "stdout",
     "output_type": "stream",
     "text": [
      "TEST AVEC UNE VECTORISATION BAG OF WORDS COMPTAGE\n",
      "Calcul de l'accuracy du dataset (932 exemples) en 5.63190 secondes\n",
      "Taux de bonne classification sur le dataset X_test_comptage (avec stopwords): 0.247\n",
      "Calcul de l'accuracy du dataset (932 exemples) en 44.28092 secondes\n",
      "Taux de bonne classification sur le dataset X_test_comptage2 (sans stopwords): 0.088\n"
     ]
    }
   ],
   "source": [
    "# Entrainements\n",
    "knn_multi_classes.train(X_train_comptage,Y_train)\n",
    "knn_multi_classes2.train(X_train_comptage2,Y_train2)\n",
    "\n",
    "# Affichage du taux de bonne classification   \n",
    "tic = time.time() \n",
    "val_accuracy =  knn_multi_classes.accuracy(X_test_comptage,Y_test)\n",
    "toc = time.time()\n",
    "\n",
    "tic2 = time.time() \n",
    "val_accuracy2 =  knn_multi_classes2.accuracy(X_test_comptage2,Y_test2)\n",
    "toc2 = time.time()\n",
    "\n",
    "print(\"TEST AVEC UNE VECTORISATION BAG OF WORDS COMPTAGE\")\n",
    "\n",
    "print(f'Calcul de l\\'accuracy du dataset ({X_test_comptage.shape[0]} exemples) en {(toc-tic):1.5f} secondes')\n",
    "\n",
    "print(f'Taux de bonne classification sur le dataset X_test_comptage (avec stopwords): {val_accuracy:1.3f}')\n",
    "\n",
    "print(f'Calcul de l\\'accuracy du dataset ({X_test_comptage2.shape[0]} exemples) en {(toc2-tic2):1.5f} secondes')\n",
    "\n",
    "print(f'Taux de bonne classification sur le dataset X_test_comptage2 (sans stopwords): {val_accuracy2:1.3f}')"
   ]
  },
  {
   "cell_type": "code",
   "execution_count": 18,
   "id": "9b2bf8c4-9d7d-4360-be25-3018814784a9",
   "metadata": {},
   "outputs": [
    {
     "name": "stdout",
     "output_type": "stream",
     "text": [
      "TEST AVEC UNE VECTORISATION BAG OF WORDS FREQUENCE\n",
      "Calcul de l'accuracy du dataset (932 exemples) en 5.34016 secondes\n",
      "Taux de bonne classification sur le dataset X_test_freq (avec stopwords): 0.246\n",
      "Calcul de l'accuracy du dataset (932 exemples) en 23.31704 secondes\n",
      "Taux de bonne classification sur le dataset X_test_freq2 (sans stopwords): 0.084\n"
     ]
    }
   ],
   "source": [
    "# Entrainements\n",
    "knn_multi_classes.train(X_train_freq,Y_train)\n",
    "knn_multi_classes2.train(X_train_freq2,Y_train2)\n",
    "\n",
    "# Affichage du taux de bonne classification   \n",
    "tic = time.time() \n",
    "val_accuracy =  knn_multi_classes.accuracy(X_test_freq,Y_test)\n",
    "toc = time.time()\n",
    "\n",
    "tic2 = time.time() \n",
    "val_accuracy2 =  knn_multi_classes2.accuracy(X_test_freq2,Y_test2)\n",
    "toc2 = time.time()\n",
    "\n",
    "print(\"TEST AVEC UNE VECTORISATION BAG OF WORDS FREQUENCE\")\n",
    "\n",
    "print(f'Calcul de l\\'accuracy du dataset ({X_test_freq.shape[0]} exemples) en {(toc-tic):1.5f} secondes')\n",
    "\n",
    "print(f'Taux de bonne classification sur le dataset X_test_freq (avec stopwords): {val_accuracy:1.3f}')\n",
    "\n",
    "print(f'Calcul de l\\'accuracy du dataset ({X_test_freq2.shape[0]} exemples) en {(toc2-tic2):1.5f} secondes')\n",
    "\n",
    "print(f'Taux de bonne classification sur le dataset X_test_freq2 (sans stopwords): {val_accuracy2:1.3f}')"
   ]
  },
  {
   "cell_type": "code",
   "execution_count": 19,
   "id": "b6ed8a3e-4283-4116-b7f5-b17a89bc7670",
   "metadata": {},
   "outputs": [
    {
     "name": "stdout",
     "output_type": "stream",
     "text": [
      "TEST AVEC UNE VECTORISATION BAG OF WORDS TF-IDF\n",
      "Calcul de l'accuracy du dataset (932 exemples) en 5.11586 secondes\n",
      "Taux de bonne classification sur le dataset X_test_tfidf (avec stopwords): 0.335\n",
      "Calcul de l'accuracy du dataset (932 exemples) en 24.30975 secondes\n",
      "Taux de bonne classification sur le dataset X_test_tfidf2 (sans stopwords): 0.070\n"
     ]
    }
   ],
   "source": [
    "# Entrainements\n",
    "knn_multi_classes.train(X_train_tfidf,Y_train)\n",
    "knn_multi_classes2.train(X_train_tfidf2,Y_train2)\n",
    "\n",
    "# Affichage du taux de bonne classification   \n",
    "tic = time.time() \n",
    "val_accuracy =  knn_multi_classes.accuracy(X_test_tfidf,Y_test)\n",
    "toc = time.time()\n",
    "\n",
    "tic2 = time.time() \n",
    "val_accuracy2 =  knn_multi_classes2.accuracy(X_test_tfidf2,Y_test2)\n",
    "toc2 = time.time()\n",
    "\n",
    "print(\"TEST AVEC UNE VECTORISATION BAG OF WORDS TF-IDF\")\n",
    "\n",
    "print(f'Calcul de l\\'accuracy du dataset ({X_test_tfidf.shape[0]} exemples) en {(toc-tic):1.5f} secondes')\n",
    "\n",
    "print(f'Taux de bonne classification sur le dataset X_test_tfidf (avec stopwords): {val_accuracy:1.3f}')\n",
    "\n",
    "print(f'Calcul de l\\'accuracy du dataset ({X_test_tfidf2.shape[0]} exemples) en {(toc2-tic2):1.5f} secondes')\n",
    "\n",
    "print(f'Taux de bonne classification sur le dataset X_test_tfidf2 (sans stopwords): {val_accuracy2:1.3f}')"
   ]
  },
  {
   "cell_type": "markdown",
   "id": "be4c2d77-d118-4a0a-b566-6f6241c1aea2",
   "metadata": {},
   "source": [
    "## Perceptron"
   ]
  },
  {
   "cell_type": "code",
   "execution_count": 9,
   "id": "aec1ed05-b205-4756-aaca-3ea97aff2959",
   "metadata": {},
   "outputs": [
    {
     "name": "stdout",
     "output_type": "stream",
     "text": [
      "TEST AVEC UNE VECTORISATION BAG OF WORDS BINAIRE\n",
      "Calcul de l'accuracy du dataset (932 exemples) en 0.08089 secondes\n",
      "Taux de bonne classification sur le dataset X_test_binaire (avec stopwords): 0.247\n",
      "Calcul de l'accuracy du dataset (932 exemples) en 0.05709 secondes\n",
      "Taux de bonne classification sur le dataset X_test_binaire2 (sans stopwords): 0.143\n"
     ]
    }
   ],
   "source": [
    "# Création de perceptron avec et sans stop words\n",
    "eps = 0.01\n",
    "init = True\n",
    "\n",
    "perceptron = classif.ClassifierPerceptron(len(index_mots),eps,init) # avec stopword\n",
    "multi_classes = classif.ClassifierMultiOAA(perceptron)\n",
    "\n",
    "perceptron2 = classif.ClassifierPerceptron(len(index_mots2),eps,init) # sans stopword\n",
    "multi_classes2 = classif.ClassifierMultiOAA(perceptron2)\n",
    "\n",
    "# Entrainements\n",
    "multi_classes.train(X_train_binaire,Y_train)\n",
    "multi_classes2.train(X_train_binaire2,Y_train2)\n",
    "\n",
    "# Affichage du taux de bonne classification   \n",
    "tic = time.time() \n",
    "val_accuracy =  multi_classes.accuracy(X_test_binaire,Y_test)\n",
    "toc = time.time()\n",
    "\n",
    "tic2 = time.time() \n",
    "val_accuracy2 =  multi_classes2.accuracy(X_test_binaire2,Y_test2)\n",
    "toc2 = time.time()\n",
    "\n",
    "print(\"TEST AVEC UNE VECTORISATION BAG OF WORDS BINAIRE\")\n",
    "\n",
    "print(f'Calcul de l\\'accuracy du dataset ({X_test_binaire.shape[0]} exemples) en {(toc-tic):1.5f} secondes')\n",
    "\n",
    "print(f'Taux de bonne classification sur le dataset X_test_binaire (avec stopwords): {val_accuracy:1.3f}')\n",
    "\n",
    "print(f'Calcul de l\\'accuracy du dataset ({X_test_binaire2.shape[0]} exemples) en {(toc2-tic2):1.5f} secondes')\n",
    "\n",
    "print(f'Taux de bonne classification sur le dataset X_test_binaire2 (sans stopwords): {val_accuracy2:1.3f}')"
   ]
  },
  {
   "cell_type": "code",
   "execution_count": 10,
   "id": "20ebb48d-2541-4e89-b293-37b97b7b9401",
   "metadata": {},
   "outputs": [
    {
     "name": "stdout",
     "output_type": "stream",
     "text": [
      "TEST AVEC UNE VECTORISATION BAG OF WORDS COMPTAGE\n",
      "Calcul de l'accuracy du dataset (932 exemples) en 0.08155 secondes\n",
      "Taux de bonne classification sur le dataset X_test_comptage (avec stopwords): 0.149\n",
      "Calcul de l'accuracy du dataset (932 exemples) en 0.05665 secondes\n",
      "Taux de bonne classification sur le dataset X_test_comptage2 (sans stopwords): 0.161\n"
     ]
    }
   ],
   "source": [
    "perceptron = classif.ClassifierPerceptron(len(index_mots),eps,init) # avec stopword\n",
    "multi_classes = classif.ClassifierMultiOAA(perceptron)\n",
    "\n",
    "perceptron2 = classif.ClassifierPerceptron(len(index_mots2),eps,init) # sans stopword\n",
    "multi_classes2 = classif.ClassifierMultiOAA(perceptron2)\n",
    "\n",
    "# Entrainements\n",
    "multi_classes.train(X_train_comptage,Y_train)\n",
    "multi_classes2.train(X_train_comptage2,Y_train2)\n",
    "\n",
    "# Affichage du taux de bonne classification   \n",
    "tic = time.time() \n",
    "val_accuracy =  multi_classes.accuracy(X_test_comptage,Y_test)\n",
    "toc = time.time()\n",
    "\n",
    "tic2 = time.time() \n",
    "val_accuracy2 =  multi_classes2.accuracy(X_test_comptage2,Y_test2)\n",
    "toc2 = time.time()\n",
    "\n",
    "print(\"TEST AVEC UNE VECTORISATION BAG OF WORDS COMPTAGE\")\n",
    "\n",
    "print(f'Calcul de l\\'accuracy du dataset ({X_test_comptage.shape[0]} exemples) en {(toc-tic):1.5f} secondes')\n",
    "\n",
    "print(f'Taux de bonne classification sur le dataset X_test_comptage (avec stopwords): {val_accuracy:1.3f}')\n",
    "\n",
    "print(f'Calcul de l\\'accuracy du dataset ({X_test_comptage2.shape[0]} exemples) en {(toc2-tic2):1.5f} secondes')\n",
    "\n",
    "print(f'Taux de bonne classification sur le dataset X_test_comptage2 (sans stopwords): {val_accuracy2:1.3f}')"
   ]
  },
  {
   "cell_type": "code",
   "execution_count": 11,
   "id": "79c7c197-3286-47fd-a826-77c729a74105",
   "metadata": {},
   "outputs": [
    {
     "name": "stdout",
     "output_type": "stream",
     "text": [
      "TEST AVEC UNE VECTORISATION BAG OF WORDS FREQUENCE\n",
      "Calcul de l'accuracy du dataset (932 exemples) en 0.03698 secondes\n",
      "Taux de bonne classification sur le dataset X_test_freq (avec stopwords): 0.182\n",
      "Calcul de l'accuracy du dataset (932 exemples) en 0.02664 secondes\n",
      "Taux de bonne classification sur le dataset X_test_freq2 (sans stopwords): 0.134\n"
     ]
    }
   ],
   "source": [
    "perceptron = classif.ClassifierPerceptron(len(index_mots),eps,init) # avec stopword\n",
    "multi_classes = classif.ClassifierMultiOAA(perceptron)\n",
    "\n",
    "perceptron2 = classif.ClassifierPerceptron(len(index_mots2),eps,init) # sans stopword\n",
    "multi_classes2 = classif.ClassifierMultiOAA(perceptron2)\n",
    "\n",
    "# Entrainements\n",
    "multi_classes.train(X_train_freq,Y_train)\n",
    "multi_classes2.train(X_train_freq2,Y_train2)\n",
    "\n",
    "# Affichage du taux de bonne classification   \n",
    "tic = time.time() \n",
    "val_accuracy =  multi_classes.accuracy(X_test_freq,Y_test)\n",
    "toc = time.time()\n",
    "\n",
    "tic2 = time.time() \n",
    "val_accuracy2 =  multi_classes2.accuracy(X_test_freq2,Y_test2)\n",
    "toc2 = time.time()\n",
    "\n",
    "print(\"TEST AVEC UNE VECTORISATION BAG OF WORDS FREQUENCE\")\n",
    "\n",
    "print(f'Calcul de l\\'accuracy du dataset ({X_test_freq.shape[0]} exemples) en {(toc-tic):1.5f} secondes')\n",
    "\n",
    "print(f'Taux de bonne classification sur le dataset X_test_freq (avec stopwords): {val_accuracy:1.3f}')\n",
    "\n",
    "print(f'Calcul de l\\'accuracy du dataset ({X_test_freq2.shape[0]} exemples) en {(toc2-tic2):1.5f} secondes')\n",
    "\n",
    "print(f'Taux de bonne classification sur le dataset X_test_freq2 (sans stopwords): {val_accuracy2:1.3f}')"
   ]
  },
  {
   "cell_type": "code",
   "execution_count": 14,
   "id": "b90fcadd-080e-4374-a29c-983372d192a5",
   "metadata": {},
   "outputs": [
    {
     "name": "stdout",
     "output_type": "stream",
     "text": [
      "TEST AVEC UNE VECTORISATION BAG OF WORDS TF-IDF\n",
      "Calcul de l'accuracy du dataset (932 exemples) en 0.03478 secondes\n",
      "Taux de bonne classification sur le dataset X_test_tfidf (avec stopwords): 0.241\n",
      "Calcul de l'accuracy du dataset (932 exemples) en 0.02569 secondes\n",
      "Taux de bonne classification sur le dataset X_test_tfidf (sans stopwords): 0.276\n"
     ]
    }
   ],
   "source": [
    "perceptron = classif.ClassifierPerceptron(len(index_mots),eps,init) # avec stopword\n",
    "multi_classes = classif.ClassifierMultiOAA(perceptron)\n",
    "\n",
    "perceptron2 = classif.ClassifierPerceptron(len(index_mots2),eps,init) # sans stopword\n",
    "multi_classes2 = classif.ClassifierMultiOAA(perceptron2)\n",
    "\n",
    "# Entrainements\n",
    "multi_classes.train(X_train_tfidf,Y_train)\n",
    "multi_classes2.train(X_train_tfidf2,Y_train2)\n",
    "\n",
    "# Affichage du taux de bonne classification   \n",
    "tic = time.time() \n",
    "val_accuracy =  multi_classes.accuracy(X_test_tfidf,Y_test)\n",
    "toc = time.time()\n",
    "\n",
    "tic2 = time.time() \n",
    "val_accuracy2 =  multi_classes2.accuracy(X_test_tfidf2,Y_test2)\n",
    "toc2 = time.time()\n",
    "\n",
    "print(\"TEST AVEC UNE VECTORISATION BAG OF WORDS TF-IDF\")\n",
    "\n",
    "print(f'Calcul de l\\'accuracy du dataset ({X_test_tfidf.shape[0]} exemples) en {(toc-tic):1.5f} secondes')\n",
    "\n",
    "print(f'Taux de bonne classification sur le dataset X_test_tfidf (avec stopwords): {val_accuracy:1.3f}')\n",
    "\n",
    "print(f'Calcul de l\\'accuracy du dataset ({X_test_tfidf2.shape[0]} exemples) en {(toc2-tic2):1.5f} secondes')\n",
    "\n",
    "print(f'Taux de bonne classification sur le dataset X_test_tfidf (sans stopwords): {val_accuracy2:1.3f}')"
   ]
  },
  {
   "cell_type": "code",
   "execution_count": 18,
   "id": "c08c60f1-b86f-4339-994b-812ff3dd954e",
   "metadata": {},
   "outputs": [
    {
     "name": "stdout",
     "output_type": "stream",
     "text": [
      "0\n",
      "1\n",
      "2\n",
      "3\n",
      "4\n",
      "5\n",
      "6\n",
      "7\n",
      "8\n",
      "9\n",
      "10\n",
      "11\n",
      "12\n",
      "13\n",
      "14\n",
      "15\n",
      "16\n",
      "17\n",
      "18\n",
      "19\n",
      "20\n",
      "21\n",
      "22\n",
      "23\n",
      "24\n",
      "25\n",
      "26\n",
      "27\n",
      "28\n",
      "29\n",
      "30\n",
      "31\n",
      "32\n",
      "33\n",
      "34\n",
      "35\n",
      "36\n",
      "37\n",
      "38\n",
      "39\n",
      "40\n",
      "41\n",
      "42\n",
      "43\n",
      "44\n",
      "45\n",
      "46\n",
      "47\n",
      "48\n",
      "49\n"
     ]
    },
    {
     "data": {
      "image/png": "[encoded data removed]",
      "text/plain": [
       "<Figure size 800x500 with 1 Axes>"
      ]
     },
     "metadata": {},
     "output_type": "display_data"
    }
   ],
   "source": [
    "pourcentage = np.linspace(0.05,0.2,50)\n",
    "perfs = []\n",
    "for i in range(len(pourcentage)):\n",
    "    print(i)\n",
    "    # déclaration des variables qui seront initialisées dans la boucle:\n",
    "    df_train_percep = []  \n",
    "    df_test_percep = []\n",
    "    for l in les_labels2:\n",
    "        les_ids = newsgroups_df2[newsgroups_df2['target'] == l].index.to_list()\n",
    "        np.random.shuffle(les_ids)\n",
    "    \n",
    "        nb_total = len(les_ids)\n",
    "        nb_app = int(nb_total * pourcentage[i])\n",
    "        nb_test = int(nb_total * taux_test)\n",
    "    \n",
    "        ids_app = les_ids[:nb_app]\n",
    "        ids_test = les_ids[nb_app:nb_app + nb_test]\n",
    "    \n",
    "        df_train_percep.append(newsgroups_df2.loc[ids_app])\n",
    "        df_test_percep.append(newsgroups_df2.loc[ids_test])\n",
    "    \n",
    "    df_train_percep = pd.concat(df_train_percep)\n",
    "    df_test_percep = pd.concat(df_test_percep)\n",
    "\n",
    "    X_train_percep = ut.df2array_tfidf(df_train_percep, index_mots2) # bag of words avec la méthode tf-idf\n",
    "    X_test_percep = ut.df2array_tfidf(df_test_percep, index_mots2)\n",
    "    \n",
    "    Y_train_percep = df_train2[\"target\"].to_numpy()\n",
    "    Y_test_percep = df_test2[\"target\"].to_numpy()\n",
    "\n",
    "    perceptron2 = classif.ClassifierPerceptron(len(index_mots2),eps,init) # sans stopword\n",
    "    multi_classes2 = classif.ClassifierMultiOAA(perceptron2)\n",
    "    multi_classes2.train(X_train_percep,Y_train_percep)\n",
    "    \n",
    "    tic2 = time.time() \n",
    "    val_accuracy2 =  multi_classes2.accuracy(X_test_percep,Y_test_percep)\n",
    "    toc2 = time.time()\n",
    "\n",
    "    perfs.append(val_accuracy2)\n",
    "\n",
    "plt.figure(figsize=(8,5))\n",
    "plt.plot(pourcentage, perfs, marker='o', linestyle='-', color='blue')\n",
    "plt.xlabel(\"Pourcentage de données d'apprentissage par classe\")\n",
    "plt.ylabel(\"Accuracy sur le test set\")\n",
    "plt.title(\"Performance du classifieur Perceptron selon la quantité de données\")\n",
    "plt.grid(True)\n",
    "plt.tight_layout()\n",
    "plt.savefig(\"courbe_perceptron.png\")\n",
    "plt.show()"
   ]
  },
  {
   "cell_type": "markdown",
   "id": "81174b78-193d-43e2-91fe-f5e76e5ed11e",
   "metadata": {},
   "source": [
    "## Arbre de décision"
   ]
  },
  {
   "cell_type": "markdown",
   "id": "7054e81f-7d29-4f27-a92f-bed912090480",
   "metadata": {},
   "source": [
    "### BAG binaire"
   ]
  },
  {
   "cell_type": "code",
   "execution_count": 28,
   "id": "68b90b90-0a0e-4677-81c0-378aaf546571",
   "metadata": {},
   "outputs": [
    {
     "data": {
      "text/plain": [
       "'arbre1_sw.png'"
      ]
     },
     "execution_count": 28,
     "metadata": {},
     "output_type": "execute_result"
    }
   ],
   "source": [
    "arbre_elections = classif.ClassifierArbreNumerique(len(index_mots), 0.8, index_mots)\n",
    "arbre_elections.train(X_train_binaire, Y_train)\n",
    "\n",
    "graphe_arbre = gv.Digraph(format='png')\n",
    "arbre_elections.affiche(graphe_arbre)  # Remplit le graphe avec les nœuds/arcs\n",
    "\n",
    "graphe_arbre.render(filename='arbre1_sw', directory='.', cleanup=True)\n"
   ]
  },
  {
   "cell_type": "code",
   "execution_count": 38,
   "id": "8fe1c21e-134e-4731-8080-2b3aad38e8a1",
   "metadata": {},
   "outputs": [
    {
     "name": "stdout",
     "output_type": "stream",
     "text": [
      "Accuracy de l’arbre : 0.1427038626609442\n"
     ]
    }
   ],
   "source": [
    "Y_pred = []\n",
    "for x in X_test_binaire:\n",
    "    Y_pred.append(arbre_elections.predict(x))\n",
    "\n",
    "# Conversion en tableau numpy pour vectoriser la comparaison\n",
    "Y_pred = np.array(Y_pred)\n",
    "\n",
    "accuracy = np.mean(Y_pred == Y_test)\n",
    "print(\"Accuracy de l’arbre :\", accuracy)"
   ]
  },
  {
   "cell_type": "code",
   "execution_count": 31,
   "id": "42225503-dc63-4a41-bc46-544ece4b0479",
   "metadata": {
    "scrolled": true
   },
   "outputs": [
    {
     "data": {
      "text/plain": [
       "'arbre1_sans_sw.png'"
      ]
     },
     "execution_count": 31,
     "metadata": {},
     "output_type": "execute_result"
    }
   ],
   "source": [
    "arbre_elections2 = classif.ClassifierArbreNumerique(len(index_mots2), 0.8, index_mots2)\n",
    "arbre_elections2.train(X_train_binaire2, Y_train2)\n",
    "\n",
    "graphe_arbre2 = gv.Digraph(format='png')\n",
    "arbre_elections2.affiche(graphe_arbre2)  # Remplit le graphe avec les nœuds/arcs\n",
    "\n",
    "graphe_arbre2.render(filename='arbre1_sans_sw', directory='.', cleanup=True)\n"
   ]
  },
  {
   "cell_type": "code",
   "execution_count": 40,
   "id": "4482f94f-574d-47eb-8472-dfc176b2d4b0",
   "metadata": {},
   "outputs": [
    {
     "name": "stdout",
     "output_type": "stream",
     "text": [
      "Accuracy de l’arbre : 0.11373390557939914\n"
     ]
    }
   ],
   "source": [
    "Y_pred = []\n",
    "for x in X_test_binaire2:\n",
    "    Y_pred.append(arbre_elections2.predict(x))\n",
    "\n",
    "# Conversion en tableau numpy pour vectoriser la comparaison\n",
    "Y_pred = np.array(Y_pred)\n",
    "\n",
    "accuracy = np.mean(Y_pred == Y_test2)\n",
    "print(\"Accuracy de l’arbre :\", accuracy)"
   ]
  },
  {
   "cell_type": "markdown",
   "id": "345a96e4-e070-405e-855c-a61b63b121b1",
   "metadata": {},
   "source": [
    "### BAG Comptage"
   ]
  },
  {
   "cell_type": "code",
   "execution_count": 33,
   "id": "9bdbee86-e5cc-414e-bee9-d01c9ec6c9fa",
   "metadata": {},
   "outputs": [
    {
     "data": {
      "text/plain": [
       "'arbre2_sw.png'"
      ]
     },
     "execution_count": 33,
     "metadata": {},
     "output_type": "execute_result"
    }
   ],
   "source": [
    "arbre_elections = classif.ClassifierArbreNumerique(len(index_mots), 0.8, index_mots)\n",
    "arbre_elections.train(X_train_comptage,Y_train)\n",
    "\n",
    "graphe_arbre = gv.Digraph(format='png')\n",
    "arbre_elections.affiche(graphe_arbre)  # Remplit le graphe avec les nœuds/arcs\n",
    "\n",
    "graphe_arbre.render(filename='arbre2_sw', directory='.', cleanup=True)\n"
   ]
  },
  {
   "cell_type": "code",
   "execution_count": 45,
   "id": "bb8de221-309c-4db4-a001-87a28af52404",
   "metadata": {},
   "outputs": [
    {
     "name": "stdout",
     "output_type": "stream",
     "text": [
      "Accuracy de l’arbre : 0.14377682403433475\n"
     ]
    }
   ],
   "source": [
    "Y_pred = []\n",
    "\n",
    "for x in X_test_comptage:\n",
    "    Y_pred.append(arbre_elections.predict(x))\n",
    "\n",
    "# Conversion en tableau numpy pour vectoriser la comparaison\n",
    "Y_pred = np.array(Y_pred)\n",
    "\n",
    "accuracy = np.mean(Y_pred == Y_test)\n",
    "print(\"Accuracy de l’arbre :\", accuracy)"
   ]
  },
  {
   "cell_type": "code",
   "execution_count": 46,
   "id": "d9e08891-1c69-4973-a7e7-7cf5306e3091",
   "metadata": {},
   "outputs": [
    {
     "data": {
      "text/plain": [
       "'arbre2_sans_sw.png'"
      ]
     },
     "execution_count": 46,
     "metadata": {},
     "output_type": "execute_result"
    }
   ],
   "source": [
    "arbre_elections2 = classif.ClassifierArbreNumerique(len(index_mots2), 0.8, index_mots2)\n",
    "arbre_elections2.train(X_train_comptage2,Y_train2)\n",
    "\n",
    "graphe_arbre2 = gv.Digraph(format='png')\n",
    "arbre_elections2.affiche(graphe_arbre2)  # Remplit le graphe avec les nœuds/arcs\n",
    "\n",
    "graphe_arbre2.render(filename='arbre2_sans_sw', directory='.', cleanup=True)\n"
   ]
  },
  {
   "cell_type": "code",
   "execution_count": 47,
   "id": "c7a7a01a-6575-451e-a7d8-7f5b1049b714",
   "metadata": {},
   "outputs": [
    {
     "name": "stdout",
     "output_type": "stream",
     "text": [
      "Accuracy de l’arbre : 0.1255364806866953\n"
     ]
    }
   ],
   "source": [
    "Y_pred = []\n",
    "\n",
    "for x in X_test_comptage2:\n",
    "    Y_pred.append(arbre_elections2.predict(x))\n",
    "\n",
    "# Conversion en tableau numpy pour vectoriser la comparaison\n",
    "Y_pred = np.array(Y_pred)\n",
    "\n",
    "accuracy = np.mean(Y_pred == Y_test2)\n",
    "print(\"Accuracy de l’arbre :\", accuracy)"
   ]
  },
  {
   "cell_type": "markdown",
   "id": "3a93740b-d8f8-4fe0-9383-9fa09b9f89eb",
   "metadata": {},
   "source": [
    "### Frequence"
   ]
  },
  {
   "cell_type": "code",
   "execution_count": 48,
   "id": "c87cc780-ac18-4c25-bc66-9d29bb9fd5db",
   "metadata": {},
   "outputs": [
    {
     "data": {
      "text/plain": [
       "'arbre3_sw.png'"
      ]
     },
     "execution_count": 48,
     "metadata": {},
     "output_type": "execute_result"
    }
   ],
   "source": [
    "arbre_elections = classif.ClassifierArbreNumerique(len(index_mots), 0.8, index_mots)\n",
    "arbre_elections.train(X_train_freq,Y_train)\n",
    "\n",
    "graphe_arbre = gv.Digraph(format='png')\n",
    "arbre_elections.affiche(graphe_arbre)  # Remplit le graphe avec les nœuds/arcs\n",
    "\n",
    "graphe_arbre.render(filename='arbre3_sw', directory='.', cleanup=True)\n"
   ]
  },
  {
   "cell_type": "code",
   "execution_count": 49,
   "id": "2c2ca96b-078c-459b-8c45-d35d31b05ee4",
   "metadata": {},
   "outputs": [
    {
     "name": "stdout",
     "output_type": "stream",
     "text": [
      "Accuracy de l’arbre : 0.12017167381974249\n"
     ]
    }
   ],
   "source": [
    "Y_pred = []\n",
    "\n",
    "for x in X_test_freq:\n",
    "    Y_pred.append(arbre_elections.predict(x))\n",
    "\n",
    "# Conversion en tableau numpy pour vectoriser la comparaison\n",
    "Y_pred = np.array(Y_pred)\n",
    "\n",
    "accuracy = np.mean(Y_pred == Y_test)\n",
    "print(\"Accuracy de l’arbre :\", accuracy)"
   ]
  },
  {
   "cell_type": "code",
   "execution_count": 50,
   "id": "20ba27ad-2f65-4756-988b-07d9886298ca",
   "metadata": {},
   "outputs": [
    {
     "data": {
      "text/plain": [
       "'arbre3_sans_sw.png'"
      ]
     },
     "execution_count": 50,
     "metadata": {},
     "output_type": "execute_result"
    }
   ],
   "source": [
    "arbre_elections2 = classif.ClassifierArbreNumerique(len(index_mots2), 0.8, index_mots2)\n",
    "arbre_elections2.train(X_train_freq2,Y_train2)\n",
    "\n",
    "graphe_arbre2 = gv.Digraph(format='png')\n",
    "arbre_elections2.affiche(graphe_arbre2)  # Remplit le graphe avec les nœuds/arcs\n",
    "\n",
    "graphe_arbre2.render(filename='arbre3_sans_sw', directory='.', cleanup=True)\n"
   ]
  },
  {
   "cell_type": "code",
   "execution_count": 51,
   "id": "66eaaca3-8565-4bf7-be7a-eb4f467e9a3b",
   "metadata": {},
   "outputs": [
    {
     "name": "stdout",
     "output_type": "stream",
     "text": [
      "Accuracy de l’arbre : 0.09334763948497854\n"
     ]
    }
   ],
   "source": [
    "Y_pred = []\n",
    "\n",
    "for x in X_test_freq2:\n",
    "    Y_pred.append(arbre_elections2.predict(x))\n",
    "\n",
    "# Conversion en tableau numpy pour vectoriser la comparaison\n",
    "Y_pred = np.array(Y_pred)\n",
    "\n",
    "accuracy = np.mean(Y_pred == Y_test2)\n",
    "print(\"Accuracy de l’arbre :\", accuracy)"
   ]
  },
  {
   "cell_type": "markdown",
   "id": "b201e1cd-3e16-4e9f-88ce-544326347b21",
   "metadata": {},
   "source": [
    "### TF-IDF"
   ]
  },
  {
   "cell_type": "code",
   "execution_count": 52,
   "id": "c8203802-3301-40e2-a184-0515688da988",
   "metadata": {},
   "outputs": [
    {
     "data": {
      "text/plain": [
       "'arbre4_sw.png'"
      ]
     },
     "execution_count": 52,
     "metadata": {},
     "output_type": "execute_result"
    }
   ],
   "source": [
    "arbre_elections = classif.ClassifierArbreNumerique(len(index_mots), 0.8, index_mots)\n",
    "arbre_elections.train(X_train_tfidf,Y_train)\n",
    "\n",
    "graphe_arbre = gv.Digraph(format='png')\n",
    "arbre_elections.affiche(graphe_arbre)  # Remplit le graphe avec les nœuds/arcs\n",
    "\n",
    "graphe_arbre.render(filename='arbre4_sw', directory='.', cleanup=True)\n"
   ]
  },
  {
   "cell_type": "code",
   "execution_count": 53,
   "id": "2df87006-0af5-4fff-b278-c979c76259c6",
   "metadata": {},
   "outputs": [
    {
     "name": "stdout",
     "output_type": "stream",
     "text": [
      "Accuracy de l’arbre : 0.12017167381974249\n"
     ]
    }
   ],
   "source": [
    "Y_pred = []\n",
    "\n",
    "for x in X_test_tfidf:\n",
    "    Y_pred.append(arbre_elections.predict(x))\n",
    "\n",
    "# Conversion en tableau numpy pour vectoriser la comparaison\n",
    "Y_pred = np.array(Y_pred)\n",
    "\n",
    "accuracy = np.mean(Y_pred == Y_test)\n",
    "print(\"Accuracy de l’arbre :\", accuracy)"
   ]
  },
  {
   "cell_type": "code",
   "execution_count": 54,
   "id": "af59efc6-e4f2-4fb3-8180-b5f300146c17",
   "metadata": {},
   "outputs": [
    {
     "data": {
      "text/plain": [
       "'arbre4_sans_sw.png'"
      ]
     },
     "execution_count": 54,
     "metadata": {},
     "output_type": "execute_result"
    }
   ],
   "source": [
    "arbre_elections2 = classif.ClassifierArbreNumerique(len(index_mots2), 0.8, index_mots2)\n",
    "arbre_elections2.train(X_train_tfidf2,Y_train2)\n",
    "\n",
    "graphe_arbre2 = gv.Digraph(format='png')\n",
    "arbre_elections2.affiche(graphe_arbre2)  # Remplit le graphe avec les nœuds/arcs\n",
    "\n",
    "graphe_arbre2.render(filename='arbre4_sans_sw', directory='.', cleanup=True)\n"
   ]
  },
  {
   "cell_type": "code",
   "execution_count": 55,
   "id": "4e965eaa-a74a-47d9-aa00-c53e1c812705",
   "metadata": {},
   "outputs": [
    {
     "name": "stdout",
     "output_type": "stream",
     "text": [
      "Accuracy de l’arbre : 0.09012875536480687\n"
     ]
    }
   ],
   "source": [
    "Y_pred = []\n",
    "\n",
    "for x in X_test_tfidf2:\n",
    "    Y_pred.append(arbre_elections2.predict(x))\n",
    "\n",
    "# Conversion en tableau numpy pour vectoriser la comparaison\n",
    "Y_pred = np.array(Y_pred)\n",
    "\n",
    "accuracy = np.mean(Y_pred == Y_test2)\n",
    "print(\"Accuracy de l’arbre :\", accuracy)"
   ]
  },
  {
   "cell_type": "markdown",
   "id": "3af4b9f0-9f19-48f8-9dce-0a53464bee94",
   "metadata": {},
   "source": [
    "## Apprentissage non supervisé"
   ]
  },
  {
   "cell_type": "code",
   "execution_count": null,
   "id": "2dd3ff64-7138-4438-81cc-a05ddbbad7f5",
   "metadata": {},
   "outputs": [],
   "source": []
  }
 ],
 "metadata": {
  "kernelspec": {
   "display_name": "Python 3 (ipykernel)",
   "language": "python",
   "name": "python3"
  },
  "language_info": {
   "codemirror_mode": {
    "name": "ipython",
    "version": 3
   },
   "file_extension": ".py",
   "mimetype": "text/x-python",
   "name": "python",
   "nbconvert_exporter": "python",
   "pygments_lexer": "ipython3",
   "version": "3.11.2"
  }
 },
 "nbformat": 4,
 "nbformat_minor": 5
}
