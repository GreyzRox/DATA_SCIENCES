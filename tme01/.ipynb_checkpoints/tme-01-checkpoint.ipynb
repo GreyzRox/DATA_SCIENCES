{
 "cells": [
  {
   "cell_type": "markdown",
   "metadata": {},
   "source": [
    "IA & Data science (LU3IN0226) -- 2024-2025\n",
    "--------\n",
    "*&copy; Equipe pédagogique: Christophe Marsala, Olivier Schwander, Jean-Noël Vittaut.*\n"
   ]
  },
  {
   "cell_type": "markdown",
   "metadata": {},
   "source": [
    "<font size=\"+1\" color=\"RED\">**[Q]**</font> **Indiquer dans la boîte ci-dessous vos noms et prénoms :**"
   ]
  },
  {
   "cell_type": "markdown",
   "metadata": {},
   "source": [
    "*Double-cliquer ici et insérer les noms et prénoms de votre binôme*"
   ]
  },
  {
   "cell_type": "markdown",
   "metadata": {},
   "source": [
    "<font color=\"RED\" size=\"+1\">**[Q]**</font> **Renommer ce fichier ipython**\n",
    "\n",
    "Tout en haut de cette page, cliquer sur <tt>tme-01</tt> et rajouter à la suite de <tt>tme-01</tt> les noms des membres du binômes séparés par un tiret.\n",
    "\n",
    "Par exemple, pour le binôme Luke Skywalker et Han Solo, le nom de fichier devient : <pre>tme-01-Skywalker-Solo</pre>\n",
    "\n",
    "Penser à sauvegarder fréquemment le fichier en cours de travail :\n",
    "- soit en cliquant sur l'icône \"disquette\"\n",
    "- soit par la combinaison de touches [Ctrl]-S"
   ]
  },
  {
   "cell_type": "markdown",
   "metadata": {},
   "source": [
    "<font color=\"RED\" size=\"+1\">IMPORTANT: soumission de votre fichier final</font>\n",
    "\n",
    "**Nom à donner au fichier à poster** : *Nom1_Nom2.ipynb* \n",
    "- *Nom1* et *Nom2* : noms des membres du binôme\n",
    "- ne pas compresser ou faire une archive: il faut rendre le fichier ipython tel quel, éventuellement, si vous avez d'autres fichiers vous les rendez séparément.\n",
    "\n",
    "**Echancier pour la soumission de votre compte-rendu:**\n",
    "- le compte-rendu d'une séance doit être remis obligatoirement <font color=\"RED\">avant le début de la séance suivante</font>.\n",
    "\n",
    "**Le compte-rendu est soumis sur la page Moodle.**"
   ]
  },
  {
   "cell_type": "markdown",
   "metadata": {},
   "source": [
    "## Semaine 1: structures de données\n"
   ]
  },
  {
   "cell_type": "markdown",
   "metadata": {},
   "source": [
    "## Présentation ##\n",
    "\n",
    "### Objectifs de ce TME 1\n",
    "\n",
    "Le travail à réaliser est le suivant :\n",
    "- apprendre à utiliser jupyter notebook (cf doc: <https://docs.jupyter.org/en/latest/>).\n",
    "- se documenter sur les structures de données qui seront utilisées pour programmer tout au long du semestre: numpy et pandas.\n",
    "- implémenter des premières fonctions qui seront utiles ce semestre."
   ]
  },
  {
   "cell_type": "markdown",
   "metadata": {},
   "source": [
    "## Apprendre à utiliser jupyter notebook\n",
    "\n",
    "Ce document est dynamique: il est composé de \"boîtes\" qui peuvent être \"compilées\" par la commande \"Run Cells\" du menu \"Cell\" (ou bien en cliquant sur l'icône >| ou par la combinaison des touches [SHIFT][ENTREE]).\n",
    "\n",
    "Il y a **2 types principaux** de boîtes :\n",
    "- les boîtes \"Markdown\": tout ce qui est tapé dans ces boîtes est du texte qui sera rendu \"joliment\" après avoir été compilé. On peut y écrire des commandes en Latex pour définir des équations, et il reconnaît certaines balises HTML. En cliquant 2 fois dans une boîte Markdown compilée, on a accès à son contenu et on peut alors le modifier.\n",
    "- les boîtes \"Code\": dans ces boîtes, on écrit du code Python. La compilation de la boîte produit l'exécution de ce code Python et produit une boîte \"Out\" dans laquelle le résultat de la dernière commande est affiché. On peut y écrire tout code Python valide. Ce type de boîtes se reconnaît par \"In [n]\" inscrit à côté de leur coin haut gauche (\"n\" est un entier).\n",
    "\n",
    "Le type d'une boîte peut être modifié à l'aide du menu en haut de la page (juste au dessus du texte).\n",
    "\n",
    "L'icône \"+\" permet de créer une nouvelle boîte juste en dessous de la boîte active.\n",
    "\n",
    "L'icône avec les ciseaux permet d'effacer la boîte active (attention ! c'est **irréversible !**).\n",
    "\n",
    "Pour en savoir plus :\n",
    "- http://ipython.org/\n",
    "\n",
    "Vous pouvez aussi vous référer à la documentation Python:\n",
    "- https://www.python.org/\n",
    "\n",
    "\n",
    "Dans ce qui suit, les boîtes Markdown commençant par <font color=\"RED\" size=\"+1\">**[Q]**</font> posent des questions auxquelles il faut répondre dans la boîte qui suit directement (éventuellement, en créant des nouvelles boîtes de type \"Code\" ou \"Markdown\", à votre convenance).\n",
    "Certaines des boîtes \"Code\" à remplir sont suivies d'une sortie \"Out[.]:\" qui montre un exemple de résultat attendu. \n",
    "\n",
    "N'hésitez pas à créer de nouvelles boîtes \"Code\" ou \"Markdown\" dans ce document si vous en avez besoin (cela est même conseillé !).\n"
   ]
  },
  {
   "cell_type": "code",
   "execution_count": 1,
   "metadata": {},
   "outputs": [
    {
     "name": "stdout",
     "output_type": "stream",
     "text": [
      "Un essai quelconque :\n"
     ]
    },
    {
     "data": {
      "text/plain": [
       "5"
      ]
     },
     "execution_count": 1,
     "metadata": {},
     "output_type": "execute_result"
    }
   ],
   "source": [
    "# exemple de boîte de code :\n",
    "#    --> sélectionner cette boîte (en cliquant à l'intérieur)\n",
    "#    --> effectuer \"Run Cells\" du Menu \"Cell\" (ou bien cliquer sur l'icône >|)\n",
    "# \n",
    "\n",
    "print(\"Un essai quelconque :\")\n",
    "2+3\n"
   ]
  },
  {
   "cell_type": "markdown",
   "metadata": {},
   "source": [
    "<font color=\"RED\" size=\"+1\">**[Q]**</font> Dans la boîte \"Code\" suivante, donner les instructions Python pour effectuer le calcul : \n",
    "$$-\\frac{1}{3}\\log_2(\\frac{1}{3})-\\frac{2}{3}\\log_2(\\frac{2}{3})$$\n",
    "\n",
    "Dont la valeur à trouver est :\n",
    "    0.9182958340544896"
   ]
  },
  {
   "cell_type": "code",
   "execution_count": 3,
   "metadata": {},
   "outputs": [
    {
     "name": "stdout",
     "output_type": "stream",
     "text": [
      "0.9182958340544896\n"
     ]
    }
   ],
   "source": [
    "import numpy as np\n",
    "\n",
    "print(-np.log2(1/3)/3-2*np.log2(2/3)/3)"
   ]
  },
  {
   "cell_type": "markdown",
   "metadata": {},
   "source": [
    "<div class=\"alert alert-block alert-danger\">\n",
    "<font style=\"BACKGROUND-COLOR: lightgray\" color='red'> Important</font> :\n",
    "en lisant le texte d'un fichier jupyter sur votre ordinateur, pensez bien à exécuter les boîtes \"Code\" dans l'ordre de leur apparition. Toute la page se comporte comme une session Python unique et il pour exécuter certaines boîtes il est nécessaire que les précédentes aient été exécutées au préalable.\n",
    "    \n",
    "De même, vous pouvez réinitialiser complètement la session en cliquant sur Noyau et redémarrer.\n",
    "</div>"
   ]
  },
  {
   "cell_type": "markdown",
   "metadata": {},
   "source": [
    "<font color=\"RED\" size=\"+1\">**[Q]**</font> Dans la boîte \"Code\" suivante, écrire la fonction `calcul` qui, étant donné un réel $x$ de [0,1] rend la valeur du calcul $$-x\\log_2(x)-(1-x)\\log_2(1-x)$$ si $x\\not= 0$ et $x \\not= 1$ ou la valeur $0.0$ sinon."
   ]
  },
  {
   "cell_type": "code",
   "execution_count": 10,
   "metadata": {},
   "outputs": [],
   "source": [
    "def calcul(x):\n",
    "    if x==0 or x==1:\n",
    "        return 0.0\n",
    "    return -x*np.log2(x)-(1-x)*np.log2(1-x)"
   ]
  },
  {
   "cell_type": "code",
   "execution_count": 11,
   "metadata": {},
   "outputs": [
    {
     "data": {
      "text/plain": [
       "0.0"
      ]
     },
     "execution_count": 11,
     "metadata": {},
     "output_type": "execute_result"
    }
   ],
   "source": [
    "calcul(0)"
   ]
  },
  {
   "cell_type": "code",
   "execution_count": 12,
   "metadata": {},
   "outputs": [
    {
     "name": "stdout",
     "output_type": "stream",
     "text": [
      "0.9182958340544896\n"
     ]
    }
   ],
   "source": [
    "print(calcul(1/3))"
   ]
  },
  {
   "cell_type": "code",
   "execution_count": 13,
   "metadata": {},
   "outputs": [
    {
     "name": "stdout",
     "output_type": "stream",
     "text": [
      "1.0\n"
     ]
    }
   ],
   "source": [
    "print(calcul(0.5))"
   ]
  },
  {
   "cell_type": "markdown",
   "metadata": {},
   "source": [
    "## Documentation\n",
    "\n",
    "\n",
    "Dans un premier temps, et c'est un des objectifs de cette séance, vous devez prendre en main les libraries **numpy**, **pandas** et **matplotlib**:\n",
    "\n",
    "- Numpy = <http://scipy.github.io/old-wiki/pages/Tentative_NumPy_Tutorial>\n",
    "  ou bien <https://realpython.com/numpy-tutorial/>\n",
    "- Pandas = http://pandas.pydata.org/pandas-docs/stable/10min.html\n",
    "- Matplotlib = https://matplotlib.org/stable/index.html\n",
    "\n",
    "Lisez ces pages et pratiquez ces tutoriaux afin de bien vous familiariser avec ces outils."
   ]
  },
  {
   "cell_type": "markdown",
   "metadata": {},
   "source": [
    "<font color=\"RED\" size=\"+1\">**[Q]**</font> Donner dans la boîte suivante les grandes caractéristiques de chacunes de ces 3 librairies: A quoi servent-elles ? Que permettent-elles de représenter ? Quelle est leur utilité et leurs spécificités ? etc. etc.\n",
    "\n",
    "Donner des exemples de leurs utilisations spécifiques."
   ]
  },
  {
   "cell_type": "markdown",
   "metadata": {},
   "source": [
    "<div class=\"alert alert-block alert-info\">\n",
    "    Pour utiliser les 3 librairies précédentes, vous devrez d'abord les importer dans Jupyter par les commandes données dans la boite suivante.\n",
    "\n",
    "Si une librairie n'est pas installée, une erreur peut se produire lors de son import. Il est alors nécessaire de l'installer. Par exemple, pour la librairie pandas sur les machines de la PPTI:\n",
    "- dans un terminal, exécuter la commande:\n",
    "    \n",
    "        pip install --user -U --proxy http://proxy:3128 pandas\n",
    "\n",
    "(le proxy n'est nécessaire que pour les salles machines, vous n'avez pas à l'utiliser sur vos machines personnelles).\n",
    "- une fois la librairie installée, il est nécessaire de relancer le noyau Python de Jupyter:\n",
    "    dans le menu de Jupyter tout en haut de la page, choisir \"<tt>Kernel -> restart</tt>\"\n",
    "</div>\n"
   ]
  },
  {
   "cell_type": "code",
   "execution_count": 14,
   "metadata": {},
   "outputs": [
    {
     "name": "stderr",
     "output_type": "stream",
     "text": [
      "/home/yanis/.local/lib/python3.10/site-packages/matplotlib/projections/__init__.py:63: UserWarning: Unable to import Axes3D. This may be due to multiple versions of Matplotlib being installed (e.g. as a system package and as a pip package). As a result, the 3D projection is not available.\n",
      "  warnings.warn(\"Unable to import Axes3D. This may be due to multiple versions of \"\n"
     ]
    }
   ],
   "source": [
    "import numpy as np\n",
    "import pandas as pd\n",
    "import matplotlib.pyplot as plt\n",
    "%matplotlib inline  "
   ]
  },
  {
   "cell_type": "markdown",
   "metadata": {},
   "source": [
    "<font color=\"RED\" size=\"+1\">**[Q]**</font> On souhaite tracer la courbe associée à la fonction `calcul` précédente pour $x\\in[0,1]$. On commence d'abord par calculer des valeurs de la fonction pour plusieurs $x$ puis on trace la courbe avec la fonction `plot` de la librairie matplotlib (cf. la doc)."
   ]
  },
  {
   "cell_type": "code",
   "execution_count": 15,
   "metadata": {},
   "outputs": [
    {
     "data": {
      "text/plain": [
       "Text(0, 0.5, 'calcul(x)')"
      ]
     },
     "execution_count": 15,
     "metadata": {},
     "output_type": "execute_result"
    },
    {
     "data": {
      "image/png": "[encoded data removed]",
      "text/plain": [
       "<Figure size 700x700 with 1 Axes>"
      ]
     },
     "metadata": {},
     "output_type": "display_data"
    }
   ],
   "source": [
    "# Compléter les instructions suivantes:\n",
    "\n",
    "valeurs_x =  np.linspace(0,1,20) #A COMPLETER#  # liste qui contient 21 valeurs de 0.0 à 1.0 espacées de 1/20. (ie. 0.0, 0.0+1/20, etc.)\n",
    "calculNp = np.vectorize(calcul)\n",
    "res_calcul =  calculNp(valeurs_x) #A COMPLETER#  # liste qui contient la valeur de la fonction calcul pour chaque x contenu dans la valeur\n",
    "\n",
    "\n",
    "# -----------------------------------------------\n",
    "#A COMPLETER# \n",
    "plt.figure(figsize=(7,7))\n",
    "plt.plot(valeurs_x, res_calcul)\n",
    "plt.xlabel('x')\n",
    "plt.ylabel('calcul(x)')\n",
    "\n",
    "# -> indiquer comme label de l'axe des x : \"x\"\n",
    "# -> indiquer comme label de l'axe des y: \"calcul(x)\"\n",
    "\n"
   ]
  },
  {
   "cell_type": "markdown",
   "metadata": {},
   "source": [
    "## Programmation et expérimentation ##\n",
    "\n",
    "Le jeu de données (ou *dataset*) qui sera utilisé dans cette séance pour valider vos fonctions correspond à des données concernant des prix dans différents états d'Amérique du Nord. \n",
    "\n",
    "\n",
    "La référence de ce dataset est disponible ici : <https://github.com/amitkaps/weed/blob/master/1-Acquire.ipynb>\n",
    "\n",
    "Ces données sont aussi fournies dans le fichier <tt>data-01.zip</tt> à télécharger sur le site Moodle.\n",
    "\n",
    "Elles se composent de trois fichiers:\n",
    "* <tt>\"data-01/Weed_Price.csv\"</tt>: prix par date et par état (pour trois qualités différentes)\n",
    "* <tt>\"data-01/Demographics_State.csv\"</tt>: informations démographiques sur chaque état\n",
    "* <tt>\"data-01/Population_State.csv\"</tt>: population de chaque état\n",
    "\n",
    "La première étape est de télécharger ces fichiers dans des dataframes pandas.\n",
    "\n",
    "Comme ce sont des fichiers <a href=\"https://fr.wikipedia.org/wiki/Comma-separated_values\"><tt>CSV</tt></a>, on utilise la librairie Pandas qui contient une fonction de lecture de ce type de fichiers."
   ]
  },
  {
   "cell_type": "code",
   "execution_count": 16,
   "metadata": {},
   "outputs": [],
   "source": [
    "# Chargement des fichiers de données :\n",
    "\n",
    "prices_pd = pd.read_csv(\"data-01/Weed_Price.csv\", parse_dates=[-1])\n",
    "demography_pd = pd.read_csv(\"data-01/Demographics_State.csv\")\n",
    "population_pd = pd.read_csv(\"data-01/Population_State.csv\")\n",
    "\n",
    "# ATTENTION : le répertoire data-01 doit se trouver dans le même répertoire que ce notebook (dans tme-01 donc)."
   ]
  },
  {
   "cell_type": "markdown",
   "metadata": {},
   "source": [
    "<font color=\"RED\" size=\"+1\">**[Q]**</font> **Des dataframes**\n",
    "Commencer par regarder la documentation de la fonction <tt>read_csv</tt> de la librairie Pandas. Que rend cette fonction (quel est le type de ce qui est rendu) ?"
   ]
  },
  {
   "cell_type": "markdown",
   "metadata": {},
   "source": [
    "<font color=\"RED\" size=\"+1\">**[Q]**</font> **Des dataframes**\n",
    "\n",
    "Les dataframes Pandas permettent de stocker ensemble des données dont les valeurs peuvent être différentes. Cela peut s'apparenter à une feuille Excel (ou Libreoffice) : chaque ligne correspond à une même donnée (un \"exemple\") et contient dans chaque colonne des valeurs qui peuvent être de différents types.\n",
    "\n",
    "Examiner le type des trois variables qui viennent d'être définies. Pour cela, utiliser la fonction <tt>type</tt> de Python: par exemple <tt>type(prices_pd)</tt>."
   ]
  },
  {
   "cell_type": "code",
   "execution_count": 17,
   "metadata": {},
   "outputs": [
    {
     "data": {
      "text/plain": [
       "pandas.core.frame.DataFrame"
      ]
     },
     "execution_count": 17,
     "metadata": {},
     "output_type": "execute_result"
    }
   ],
   "source": [
    "# type de prices_pd:\n",
    "type(prices_pd)\n"
   ]
  },
  {
   "cell_type": "code",
   "execution_count": 20,
   "metadata": {},
   "outputs": [
    {
     "data": {
      "text/plain": [
       "pandas.core.frame.DataFrame"
      ]
     },
     "execution_count": 20,
     "metadata": {},
     "output_type": "execute_result"
    }
   ],
   "source": [
    "# type de demography_pd\n",
    "type(demography_pd)\n"
   ]
  },
  {
   "cell_type": "code",
   "execution_count": 21,
   "metadata": {},
   "outputs": [
    {
     "data": {
      "text/plain": [
       "pandas.core.frame.DataFrame"
      ]
     },
     "execution_count": 21,
     "metadata": {},
     "output_type": "execute_result"
    }
   ],
   "source": [
    "# type de population_pd\n",
    "type(population_pd)\n"
   ]
  },
  {
   "cell_type": "markdown",
   "metadata": {},
   "source": [
    "**Important**: chaque fois que vous utilisez une commande, regardez le type du résultat obtenu (liste, DataFrame, Series, array,...) cela vous permettra de savoir ce que vous pouvez appliquer sur ce résultat."
   ]
  },
  {
   "cell_type": "markdown",
   "metadata": {},
   "source": [
    "<font color=\"RED\" size=\"+1\">**[Q]**</font> **En savoir plus sur les données...**\n",
    "\n",
    "* Commencer par se familiariser avec les données en les visualisant et en affichant des exemples de lignes ou de colonnes que ces DataFrames contiennent. Pour cela, manipuler les fonctions des librairies que vous venez de découvrir (par exemple, <tt>head()</tt>, <tt>tail()</tt>, ...)."
   ]
  },
  {
   "cell_type": "code",
   "execution_count": 22,
   "metadata": {},
   "outputs": [
    {
     "data": {
      "text/html": [
       "<div>\n",
       "<style scoped>\n",
       "    .dataframe tbody tr th:only-of-type {\n",
       "        vertical-align: middle;\n",
       "    }\n",
       "\n",
       "    .dataframe tbody tr th {\n",
       "        vertical-align: top;\n",
       "    }\n",
       "\n",
       "    .dataframe thead th {\n",
       "        text-align: right;\n",
       "    }\n",
       "</style>\n",
       "<table border=\"1\" class=\"dataframe\">\n",
       "  <thead>\n",
       "    <tr style=\"text-align: right;\">\n",
       "      <th></th>\n",
       "      <th>State</th>\n",
       "      <th>HighQ</th>\n",
       "      <th>HighQN</th>\n",
       "      <th>MedQ</th>\n",
       "      <th>MedQN</th>\n",
       "      <th>LowQ</th>\n",
       "      <th>LowQN</th>\n",
       "      <th>date</th>\n",
       "    </tr>\n",
       "  </thead>\n",
       "  <tbody>\n",
       "    <tr>\n",
       "      <th>0</th>\n",
       "      <td>Alabama</td>\n",
       "      <td>339.06</td>\n",
       "      <td>1042</td>\n",
       "      <td>198.64</td>\n",
       "      <td>933</td>\n",
       "      <td>149.49</td>\n",
       "      <td>123</td>\n",
       "      <td>2014-01-01</td>\n",
       "    </tr>\n",
       "    <tr>\n",
       "      <th>1</th>\n",
       "      <td>Alaska</td>\n",
       "      <td>288.75</td>\n",
       "      <td>252</td>\n",
       "      <td>260.60</td>\n",
       "      <td>297</td>\n",
       "      <td>388.58</td>\n",
       "      <td>26</td>\n",
       "      <td>2014-01-01</td>\n",
       "    </tr>\n",
       "    <tr>\n",
       "      <th>2</th>\n",
       "      <td>Arizona</td>\n",
       "      <td>303.31</td>\n",
       "      <td>1941</td>\n",
       "      <td>209.35</td>\n",
       "      <td>1625</td>\n",
       "      <td>189.45</td>\n",
       "      <td>222</td>\n",
       "      <td>2014-01-01</td>\n",
       "    </tr>\n",
       "    <tr>\n",
       "      <th>3</th>\n",
       "      <td>Arkansas</td>\n",
       "      <td>361.85</td>\n",
       "      <td>576</td>\n",
       "      <td>185.62</td>\n",
       "      <td>544</td>\n",
       "      <td>125.87</td>\n",
       "      <td>112</td>\n",
       "      <td>2014-01-01</td>\n",
       "    </tr>\n",
       "    <tr>\n",
       "      <th>4</th>\n",
       "      <td>California</td>\n",
       "      <td>248.78</td>\n",
       "      <td>12096</td>\n",
       "      <td>193.56</td>\n",
       "      <td>12812</td>\n",
       "      <td>192.92</td>\n",
       "      <td>778</td>\n",
       "      <td>2014-01-01</td>\n",
       "    </tr>\n",
       "    <tr>\n",
       "      <th>5</th>\n",
       "      <td>Colorado</td>\n",
       "      <td>236.31</td>\n",
       "      <td>2161</td>\n",
       "      <td>195.29</td>\n",
       "      <td>1728</td>\n",
       "      <td>213.50</td>\n",
       "      <td>128</td>\n",
       "      <td>2014-01-01</td>\n",
       "    </tr>\n",
       "    <tr>\n",
       "      <th>6</th>\n",
       "      <td>Connecticut</td>\n",
       "      <td>347.90</td>\n",
       "      <td>1294</td>\n",
       "      <td>273.97</td>\n",
       "      <td>1316</td>\n",
       "      <td>257.36</td>\n",
       "      <td>91</td>\n",
       "      <td>2014-01-01</td>\n",
       "    </tr>\n",
       "    <tr>\n",
       "      <th>7</th>\n",
       "      <td>Delaware</td>\n",
       "      <td>373.18</td>\n",
       "      <td>347</td>\n",
       "      <td>226.25</td>\n",
       "      <td>273</td>\n",
       "      <td>199.88</td>\n",
       "      <td>34</td>\n",
       "      <td>2014-01-01</td>\n",
       "    </tr>\n",
       "    <tr>\n",
       "      <th>8</th>\n",
       "      <td>District of Columbia</td>\n",
       "      <td>352.26</td>\n",
       "      <td>433</td>\n",
       "      <td>295.67</td>\n",
       "      <td>349</td>\n",
       "      <td>213.72</td>\n",
       "      <td>39</td>\n",
       "      <td>2014-01-01</td>\n",
       "    </tr>\n",
       "    <tr>\n",
       "      <th>9</th>\n",
       "      <td>Florida</td>\n",
       "      <td>306.43</td>\n",
       "      <td>6506</td>\n",
       "      <td>220.03</td>\n",
       "      <td>5237</td>\n",
       "      <td>158.26</td>\n",
       "      <td>514</td>\n",
       "      <td>2014-01-01</td>\n",
       "    </tr>\n",
       "    <tr>\n",
       "      <th>10</th>\n",
       "      <td>Georgia</td>\n",
       "      <td>332.21</td>\n",
       "      <td>3099</td>\n",
       "      <td>213.52</td>\n",
       "      <td>2269</td>\n",
       "      <td>153.45</td>\n",
       "      <td>229</td>\n",
       "      <td>2014-01-01</td>\n",
       "    </tr>\n",
       "    <tr>\n",
       "      <th>11</th>\n",
       "      <td>Hawaii</td>\n",
       "      <td>310.96</td>\n",
       "      <td>328</td>\n",
       "      <td>270.38</td>\n",
       "      <td>350</td>\n",
       "      <td>160.46</td>\n",
       "      <td>25</td>\n",
       "      <td>2014-01-01</td>\n",
       "    </tr>\n",
       "    <tr>\n",
       "      <th>12</th>\n",
       "      <td>Idaho</td>\n",
       "      <td>276.05</td>\n",
       "      <td>315</td>\n",
       "      <td>254.96</td>\n",
       "      <td>445</td>\n",
       "      <td>132.61</td>\n",
       "      <td>20</td>\n",
       "      <td>2014-01-01</td>\n",
       "    </tr>\n",
       "    <tr>\n",
       "      <th>13</th>\n",
       "      <td>Illinois</td>\n",
       "      <td>359.74</td>\n",
       "      <td>4008</td>\n",
       "      <td>287.23</td>\n",
       "      <td>3644</td>\n",
       "      <td>181.25</td>\n",
       "      <td>329</td>\n",
       "      <td>2014-01-01</td>\n",
       "    </tr>\n",
       "    <tr>\n",
       "      <th>14</th>\n",
       "      <td>Indiana</td>\n",
       "      <td>336.80</td>\n",
       "      <td>1665</td>\n",
       "      <td>206.24</td>\n",
       "      <td>1446</td>\n",
       "      <td>154.05</td>\n",
       "      <td>248</td>\n",
       "      <td>2014-01-01</td>\n",
       "    </tr>\n",
       "  </tbody>\n",
       "</table>\n",
       "</div>"
      ],
      "text/plain": [
       "                   State   HighQ  HighQN    MedQ  MedQN    LowQ  LowQN  \\\n",
       "0                Alabama  339.06    1042  198.64    933  149.49    123   \n",
       "1                 Alaska  288.75     252  260.60    297  388.58     26   \n",
       "2                Arizona  303.31    1941  209.35   1625  189.45    222   \n",
       "3               Arkansas  361.85     576  185.62    544  125.87    112   \n",
       "4             California  248.78   12096  193.56  12812  192.92    778   \n",
       "5               Colorado  236.31    2161  195.29   1728  213.50    128   \n",
       "6            Connecticut  347.90    1294  273.97   1316  257.36     91   \n",
       "7               Delaware  373.18     347  226.25    273  199.88     34   \n",
       "8   District of Columbia  352.26     433  295.67    349  213.72     39   \n",
       "9                Florida  306.43    6506  220.03   5237  158.26    514   \n",
       "10               Georgia  332.21    3099  213.52   2269  153.45    229   \n",
       "11                Hawaii  310.96     328  270.38    350  160.46     25   \n",
       "12                 Idaho  276.05     315  254.96    445  132.61     20   \n",
       "13              Illinois  359.74    4008  287.23   3644  181.25    329   \n",
       "14               Indiana  336.80    1665  206.24   1446  154.05    248   \n",
       "\n",
       "         date  \n",
       "0  2014-01-01  \n",
       "1  2014-01-01  \n",
       "2  2014-01-01  \n",
       "3  2014-01-01  \n",
       "4  2014-01-01  \n",
       "5  2014-01-01  \n",
       "6  2014-01-01  \n",
       "7  2014-01-01  \n",
       "8  2014-01-01  \n",
       "9  2014-01-01  \n",
       "10 2014-01-01  \n",
       "11 2014-01-01  \n",
       "12 2014-01-01  \n",
       "13 2014-01-01  \n",
       "14 2014-01-01  "
      ]
     },
     "execution_count": 22,
     "metadata": {},
     "output_type": "execute_result"
    }
   ],
   "source": [
    "# 15 premières lignes de prices_pd\n",
    "prices_pd.head(15)\n"
   ]
  },
  {
   "cell_type": "code",
   "execution_count": 23,
   "metadata": {},
   "outputs": [
    {
     "data": {
      "text/html": [
       "<div>\n",
       "<style scoped>\n",
       "    .dataframe tbody tr th:only-of-type {\n",
       "        vertical-align: middle;\n",
       "    }\n",
       "\n",
       "    .dataframe tbody tr th {\n",
       "        vertical-align: top;\n",
       "    }\n",
       "\n",
       "    .dataframe thead th {\n",
       "        text-align: right;\n",
       "    }\n",
       "</style>\n",
       "<table border=\"1\" class=\"dataframe\">\n",
       "  <thead>\n",
       "    <tr style=\"text-align: right;\">\n",
       "      <th></th>\n",
       "      <th>State</th>\n",
       "      <th>HighQ</th>\n",
       "      <th>HighQN</th>\n",
       "      <th>MedQ</th>\n",
       "      <th>MedQN</th>\n",
       "      <th>LowQ</th>\n",
       "      <th>LowQN</th>\n",
       "      <th>date</th>\n",
       "    </tr>\n",
       "  </thead>\n",
       "  <tbody>\n",
       "    <tr>\n",
       "      <th>22892</th>\n",
       "      <td>Utah</td>\n",
       "      <td>290.42</td>\n",
       "      <td>959</td>\n",
       "      <td>238.08</td>\n",
       "      <td>1055</td>\n",
       "      <td>NaN</td>\n",
       "      <td>62</td>\n",
       "      <td>2014-12-31</td>\n",
       "    </tr>\n",
       "    <tr>\n",
       "      <th>22893</th>\n",
       "      <td>Vermont</td>\n",
       "      <td>371.23</td>\n",
       "      <td>357</td>\n",
       "      <td>308.86</td>\n",
       "      <td>367</td>\n",
       "      <td>NaN</td>\n",
       "      <td>32</td>\n",
       "      <td>2014-12-31</td>\n",
       "    </tr>\n",
       "    <tr>\n",
       "      <th>22894</th>\n",
       "      <td>Virginia</td>\n",
       "      <td>364.98</td>\n",
       "      <td>3513</td>\n",
       "      <td>293.12</td>\n",
       "      <td>3079</td>\n",
       "      <td>NaN</td>\n",
       "      <td>284</td>\n",
       "      <td>2014-12-31</td>\n",
       "    </tr>\n",
       "    <tr>\n",
       "      <th>22895</th>\n",
       "      <td>Washington</td>\n",
       "      <td>233.05</td>\n",
       "      <td>3337</td>\n",
       "      <td>189.92</td>\n",
       "      <td>3562</td>\n",
       "      <td>NaN</td>\n",
       "      <td>160</td>\n",
       "      <td>2014-12-31</td>\n",
       "    </tr>\n",
       "    <tr>\n",
       "      <th>22896</th>\n",
       "      <td>West Virginia</td>\n",
       "      <td>359.35</td>\n",
       "      <td>551</td>\n",
       "      <td>224.03</td>\n",
       "      <td>545</td>\n",
       "      <td>NaN</td>\n",
       "      <td>60</td>\n",
       "      <td>2014-12-31</td>\n",
       "    </tr>\n",
       "    <tr>\n",
       "      <th>22897</th>\n",
       "      <td>Wisconsin</td>\n",
       "      <td>350.52</td>\n",
       "      <td>2244</td>\n",
       "      <td>272.71</td>\n",
       "      <td>2221</td>\n",
       "      <td>NaN</td>\n",
       "      <td>167</td>\n",
       "      <td>2014-12-31</td>\n",
       "    </tr>\n",
       "    <tr>\n",
       "      <th>22898</th>\n",
       "      <td>Wyoming</td>\n",
       "      <td>322.27</td>\n",
       "      <td>131</td>\n",
       "      <td>351.86</td>\n",
       "      <td>197</td>\n",
       "      <td>NaN</td>\n",
       "      <td>12</td>\n",
       "      <td>2014-12-31</td>\n",
       "    </tr>\n",
       "  </tbody>\n",
       "</table>\n",
       "</div>"
      ],
      "text/plain": [
       "               State   HighQ  HighQN    MedQ  MedQN  LowQ  LowQN       date\n",
       "22892           Utah  290.42     959  238.08   1055   NaN     62 2014-12-31\n",
       "22893        Vermont  371.23     357  308.86    367   NaN     32 2014-12-31\n",
       "22894       Virginia  364.98    3513  293.12   3079   NaN    284 2014-12-31\n",
       "22895     Washington  233.05    3337  189.92   3562   NaN    160 2014-12-31\n",
       "22896  West Virginia  359.35     551  224.03    545   NaN     60 2014-12-31\n",
       "22897      Wisconsin  350.52    2244  272.71   2221   NaN    167 2014-12-31\n",
       "22898        Wyoming  322.27     131  351.86    197   NaN     12 2014-12-31"
      ]
     },
     "execution_count": 23,
     "metadata": {},
     "output_type": "execute_result"
    }
   ],
   "source": [
    "# 7 dernières lignes de prices_pd\n",
    "prices_pd.tail(7)\n"
   ]
  },
  {
   "cell_type": "markdown",
   "metadata": {},
   "source": [
    "<font color=\"RED\" size=\"+1\">**[Q]**</font> **Sélection de lignes et colonnes..**\n",
    "\n",
    "En utilisant les mécanismes de sélection qu'offrent les dataframes (slicing,...), donner les commandes permettant d'obtenir:\n",
    "1) seulement les lignes qui concernent l'état \"Hawaii\".\n",
    "\n",
    "2) seulement les valeurs des colonnes \"date\", \"HighQ\", et \"MedQ\", dans cet ordre, qui concernent les lignes de l'état \"Hawaii\".\n"
   ]
  },
  {
   "cell_type": "code",
   "execution_count": 24,
   "metadata": {},
   "outputs": [
    {
     "data": {
      "text/html": [
       "<div>\n",
       "<style scoped>\n",
       "    .dataframe tbody tr th:only-of-type {\n",
       "        vertical-align: middle;\n",
       "    }\n",
       "\n",
       "    .dataframe tbody tr th {\n",
       "        vertical-align: top;\n",
       "    }\n",
       "\n",
       "    .dataframe thead th {\n",
       "        text-align: right;\n",
       "    }\n",
       "</style>\n",
       "<table border=\"1\" class=\"dataframe\">\n",
       "  <thead>\n",
       "    <tr style=\"text-align: right;\">\n",
       "      <th></th>\n",
       "      <th>State</th>\n",
       "      <th>HighQ</th>\n",
       "      <th>HighQN</th>\n",
       "      <th>MedQ</th>\n",
       "      <th>MedQN</th>\n",
       "      <th>LowQ</th>\n",
       "      <th>LowQN</th>\n",
       "      <th>date</th>\n",
       "    </tr>\n",
       "  </thead>\n",
       "  <tbody>\n",
       "    <tr>\n",
       "      <th>11</th>\n",
       "      <td>Hawaii</td>\n",
       "      <td>310.96</td>\n",
       "      <td>328</td>\n",
       "      <td>270.38</td>\n",
       "      <td>350</td>\n",
       "      <td>160.46</td>\n",
       "      <td>25</td>\n",
       "      <td>2014-01-01</td>\n",
       "    </tr>\n",
       "    <tr>\n",
       "      <th>62</th>\n",
       "      <td>Hawaii</td>\n",
       "      <td>307.64</td>\n",
       "      <td>452</td>\n",
       "      <td>263.45</td>\n",
       "      <td>522</td>\n",
       "      <td>NaN</td>\n",
       "      <td>30</td>\n",
       "      <td>2015-01-01</td>\n",
       "    </tr>\n",
       "    <tr>\n",
       "      <th>113</th>\n",
       "      <td>Hawaii</td>\n",
       "      <td>307.76</td>\n",
       "      <td>338</td>\n",
       "      <td>272.99</td>\n",
       "      <td>370</td>\n",
       "      <td>162.11</td>\n",
       "      <td>26</td>\n",
       "      <td>2014-02-01</td>\n",
       "    </tr>\n",
       "    <tr>\n",
       "      <th>164</th>\n",
       "      <td>Hawaii</td>\n",
       "      <td>306.34</td>\n",
       "      <td>464</td>\n",
       "      <td>261.94</td>\n",
       "      <td>542</td>\n",
       "      <td>NaN</td>\n",
       "      <td>30</td>\n",
       "      <td>2015-02-01</td>\n",
       "    </tr>\n",
       "    <tr>\n",
       "      <th>215</th>\n",
       "      <td>Hawaii</td>\n",
       "      <td>307.96</td>\n",
       "      <td>353</td>\n",
       "      <td>274.35</td>\n",
       "      <td>382</td>\n",
       "      <td>167.62</td>\n",
       "      <td>27</td>\n",
       "      <td>2014-03-01</td>\n",
       "    </tr>\n",
       "    <tr>\n",
       "      <th>...</th>\n",
       "      <td>...</td>\n",
       "      <td>...</td>\n",
       "      <td>...</td>\n",
       "      <td>...</td>\n",
       "      <td>...</td>\n",
       "      <td>...</td>\n",
       "      <td>...</td>\n",
       "      <td>...</td>\n",
       "    </tr>\n",
       "    <tr>\n",
       "      <th>22655</th>\n",
       "      <td>Hawaii</td>\n",
       "      <td>309.64</td>\n",
       "      <td>408</td>\n",
       "      <td>265.58</td>\n",
       "      <td>455</td>\n",
       "      <td>174.23</td>\n",
       "      <td>29</td>\n",
       "      <td>2014-07-31</td>\n",
       "    </tr>\n",
       "    <tr>\n",
       "      <th>22706</th>\n",
       "      <td>Hawaii</td>\n",
       "      <td>310.00</td>\n",
       "      <td>417</td>\n",
       "      <td>267.17</td>\n",
       "      <td>467</td>\n",
       "      <td>NaN</td>\n",
       "      <td>29</td>\n",
       "      <td>2014-08-31</td>\n",
       "    </tr>\n",
       "    <tr>\n",
       "      <th>22757</th>\n",
       "      <td>Hawaii</td>\n",
       "      <td>310.97</td>\n",
       "      <td>426</td>\n",
       "      <td>267.10</td>\n",
       "      <td>482</td>\n",
       "      <td>NaN</td>\n",
       "      <td>29</td>\n",
       "      <td>2014-10-31</td>\n",
       "    </tr>\n",
       "    <tr>\n",
       "      <th>22808</th>\n",
       "      <td>Hawaii</td>\n",
       "      <td>310.96</td>\n",
       "      <td>328</td>\n",
       "      <td>270.38</td>\n",
       "      <td>350</td>\n",
       "      <td>160.46</td>\n",
       "      <td>25</td>\n",
       "      <td>2013-12-31</td>\n",
       "    </tr>\n",
       "    <tr>\n",
       "      <th>22859</th>\n",
       "      <td>Hawaii</td>\n",
       "      <td>307.64</td>\n",
       "      <td>452</td>\n",
       "      <td>263.45</td>\n",
       "      <td>522</td>\n",
       "      <td>NaN</td>\n",
       "      <td>30</td>\n",
       "      <td>2014-12-31</td>\n",
       "    </tr>\n",
       "  </tbody>\n",
       "</table>\n",
       "<p>449 rows × 8 columns</p>\n",
       "</div>"
      ],
      "text/plain": [
       "        State   HighQ  HighQN    MedQ  MedQN    LowQ  LowQN       date\n",
       "11     Hawaii  310.96     328  270.38    350  160.46     25 2014-01-01\n",
       "62     Hawaii  307.64     452  263.45    522     NaN     30 2015-01-01\n",
       "113    Hawaii  307.76     338  272.99    370  162.11     26 2014-02-01\n",
       "164    Hawaii  306.34     464  261.94    542     NaN     30 2015-02-01\n",
       "215    Hawaii  307.96     353  274.35    382  167.62     27 2014-03-01\n",
       "...       ...     ...     ...     ...    ...     ...    ...        ...\n",
       "22655  Hawaii  309.64     408  265.58    455  174.23     29 2014-07-31\n",
       "22706  Hawaii  310.00     417  267.17    467     NaN     29 2014-08-31\n",
       "22757  Hawaii  310.97     426  267.10    482     NaN     29 2014-10-31\n",
       "22808  Hawaii  310.96     328  270.38    350  160.46     25 2013-12-31\n",
       "22859  Hawaii  307.64     452  263.45    522     NaN     30 2014-12-31\n",
       "\n",
       "[449 rows x 8 columns]"
      ]
     },
     "execution_count": 24,
     "metadata": {},
     "output_type": "execute_result"
    }
   ],
   "source": [
    "# Les lignes concernant l'état \"Hawaii\"\n",
    "\n",
    "prices_pd.query('State == \"Hawaii\"')"
   ]
  },
  {
   "cell_type": "code",
   "execution_count": 25,
   "metadata": {},
   "outputs": [
    {
     "data": {
      "text/html": [
       "<div>\n",
       "<style scoped>\n",
       "    .dataframe tbody tr th:only-of-type {\n",
       "        vertical-align: middle;\n",
       "    }\n",
       "\n",
       "    .dataframe tbody tr th {\n",
       "        vertical-align: top;\n",
       "    }\n",
       "\n",
       "    .dataframe thead th {\n",
       "        text-align: right;\n",
       "    }\n",
       "</style>\n",
       "<table border=\"1\" class=\"dataframe\">\n",
       "  <thead>\n",
       "    <tr style=\"text-align: right;\">\n",
       "      <th></th>\n",
       "      <th>date</th>\n",
       "      <th>HighQ</th>\n",
       "      <th>MedQ</th>\n",
       "    </tr>\n",
       "  </thead>\n",
       "  <tbody>\n",
       "    <tr>\n",
       "      <th>11</th>\n",
       "      <td>2014-01-01</td>\n",
       "      <td>310.96</td>\n",
       "      <td>270.38</td>\n",
       "    </tr>\n",
       "    <tr>\n",
       "      <th>62</th>\n",
       "      <td>2015-01-01</td>\n",
       "      <td>307.64</td>\n",
       "      <td>263.45</td>\n",
       "    </tr>\n",
       "    <tr>\n",
       "      <th>113</th>\n",
       "      <td>2014-02-01</td>\n",
       "      <td>307.76</td>\n",
       "      <td>272.99</td>\n",
       "    </tr>\n",
       "    <tr>\n",
       "      <th>164</th>\n",
       "      <td>2015-02-01</td>\n",
       "      <td>306.34</td>\n",
       "      <td>261.94</td>\n",
       "    </tr>\n",
       "    <tr>\n",
       "      <th>215</th>\n",
       "      <td>2014-03-01</td>\n",
       "      <td>307.96</td>\n",
       "      <td>274.35</td>\n",
       "    </tr>\n",
       "    <tr>\n",
       "      <th>...</th>\n",
       "      <td>...</td>\n",
       "      <td>...</td>\n",
       "      <td>...</td>\n",
       "    </tr>\n",
       "    <tr>\n",
       "      <th>22655</th>\n",
       "      <td>2014-07-31</td>\n",
       "      <td>309.64</td>\n",
       "      <td>265.58</td>\n",
       "    </tr>\n",
       "    <tr>\n",
       "      <th>22706</th>\n",
       "      <td>2014-08-31</td>\n",
       "      <td>310.00</td>\n",
       "      <td>267.17</td>\n",
       "    </tr>\n",
       "    <tr>\n",
       "      <th>22757</th>\n",
       "      <td>2014-10-31</td>\n",
       "      <td>310.97</td>\n",
       "      <td>267.10</td>\n",
       "    </tr>\n",
       "    <tr>\n",
       "      <th>22808</th>\n",
       "      <td>2013-12-31</td>\n",
       "      <td>310.96</td>\n",
       "      <td>270.38</td>\n",
       "    </tr>\n",
       "    <tr>\n",
       "      <th>22859</th>\n",
       "      <td>2014-12-31</td>\n",
       "      <td>307.64</td>\n",
       "      <td>263.45</td>\n",
       "    </tr>\n",
       "  </tbody>\n",
       "</table>\n",
       "<p>449 rows × 3 columns</p>\n",
       "</div>"
      ],
      "text/plain": [
       "            date   HighQ    MedQ\n",
       "11    2014-01-01  310.96  270.38\n",
       "62    2015-01-01  307.64  263.45\n",
       "113   2014-02-01  307.76  272.99\n",
       "164   2015-02-01  306.34  261.94\n",
       "215   2014-03-01  307.96  274.35\n",
       "...          ...     ...     ...\n",
       "22655 2014-07-31  309.64  265.58\n",
       "22706 2014-08-31  310.00  267.17\n",
       "22757 2014-10-31  310.97  267.10\n",
       "22808 2013-12-31  310.96  270.38\n",
       "22859 2014-12-31  307.64  263.45\n",
       "\n",
       "[449 rows x 3 columns]"
      ]
     },
     "execution_count": 25,
     "metadata": {},
     "output_type": "execute_result"
    }
   ],
   "source": [
    "# Les valeurs de la colonne \"HighQ\" ne concernant que les lignes de l'état \"Hawaii\" \n",
    "prices_pd.query('State == \"Hawaii\"').filter([\"date\", \"HighQ\", \"MedQ\"])\n"
   ]
  },
  {
   "cell_type": "markdown",
   "metadata": {},
   "source": [
    "Les types des données peuvent être récupérés à travers la méthode <tt>dtypes</tt>:"
   ]
  },
  {
   "cell_type": "code",
   "execution_count": 26,
   "metadata": {},
   "outputs": [
    {
     "data": {
      "text/plain": [
       "State             object\n",
       "HighQ            float64\n",
       "HighQN             int64\n",
       "MedQ             float64\n",
       "MedQN              int64\n",
       "LowQ             float64\n",
       "LowQN              int64\n",
       "date      datetime64[ns]\n",
       "dtype: object"
      ]
     },
     "execution_count": 26,
     "metadata": {},
     "output_type": "execute_result"
    }
   ],
   "source": [
    "prices_pd.dtypes"
   ]
  },
  {
   "cell_type": "markdown",
   "metadata": {},
   "source": [
    "Il y a beaucoup de fonction s à découvrir pour obtenir des informations utiles sur les DataFrames. Par exemple, la liste des états peut être obtenue ainsi:\n"
   ]
  },
  {
   "cell_type": "code",
   "execution_count": 27,
   "metadata": {},
   "outputs": [],
   "source": [
    "les_etats = np.unique(prices_pd[\"State\"].values)"
   ]
  },
  {
   "cell_type": "code",
   "execution_count": 28,
   "metadata": {},
   "outputs": [
    {
     "data": {
      "text/plain": [
       "array(['Alabama', 'Alaska', 'Arizona', 'Arkansas', 'California',\n",
       "       'Colorado', 'Connecticut', 'Delaware', 'District of Columbia',\n",
       "       'Florida', 'Georgia', 'Hawaii', 'Idaho', 'Illinois', 'Indiana',\n",
       "       'Iowa', 'Kansas', 'Kentucky', 'Louisiana', 'Maine', 'Maryland',\n",
       "       'Massachusetts', 'Michigan', 'Minnesota', 'Mississippi',\n",
       "       'Missouri', 'Montana', 'Nebraska', 'Nevada', 'New Hampshire',\n",
       "       'New Jersey', 'New Mexico', 'New York', 'North Carolina',\n",
       "       'North Dakota', 'Ohio', 'Oklahoma', 'Oregon', 'Pennsylvania',\n",
       "       'Rhode Island', 'South Carolina', 'South Dakota', 'Tennessee',\n",
       "       'Texas', 'Utah', 'Vermont', 'Virginia', 'Washington',\n",
       "       'West Virginia', 'Wisconsin', 'Wyoming'], dtype=object)"
      ]
     },
     "execution_count": 28,
     "metadata": {},
     "output_type": "execute_result"
    }
   ],
   "source": [
    "# Afficher la liste des états :\n",
    "\n",
    "les_etats"
   ]
  },
  {
   "cell_type": "markdown",
   "metadata": {},
   "source": [
    "Comparer le nombre de valeurs de :\n",
    "\n",
    "        prices_pd[\"MedQ\"].values\n",
    "\n",
    "et de \n",
    "\n",
    "        np.unique(prices_pd[\"MedQ\"].values\n",
    "\n",
    "Expliquer ce qui se passe.        "
   ]
  },
  {
   "cell_type": "code",
   "execution_count": 30,
   "metadata": {},
   "outputs": [
    {
     "data": {
      "text/plain": [
       "False"
      ]
     },
     "execution_count": 30,
     "metadata": {},
     "output_type": "execute_result"
    }
   ],
   "source": [
    "# Tester l'égalité :\n",
    "\n",
    "prices_pd[\"MedQ\"].values.size==np.unique(prices_pd[\"MedQ\"].values).size\n"
   ]
  },
  {
   "cell_type": "markdown",
   "metadata": {},
   "source": [
    "## Implémentation de mesures classiques ##\n"
   ]
  },
  {
   "cell_type": "markdown",
   "metadata": {},
   "source": [
    "Nous allons maintenant écrire les fonctions permettant de calculer des mesures ''basiques'' sur des données unidimensionnelles. Pour cela, nous allons travailler avec la structure <tt>array</tt> de numpy. Pour convertir une colonne de DataFrame en '<tt>array</tt>, voici commment faire, par exemple avec la colonne `\"HighQ\"`:"
   ]
  },
  {
   "cell_type": "code",
   "execution_count": 31,
   "metadata": {},
   "outputs": [
    {
     "data": {
      "text/plain": [
       "array([339.06, 288.75, 303.31, ..., 359.35, 350.52, 322.27],\n",
       "      shape=(22899,))"
      ]
     },
     "execution_count": 31,
     "metadata": {},
     "output_type": "execute_result"
    }
   ],
   "source": [
    "np.array(prices_pd[\"HighQ\"])"
   ]
  },
  {
   "cell_type": "markdown",
   "metadata": {},
   "source": [
    "### Moyenne"
   ]
  },
  {
   "cell_type": "markdown",
   "metadata": {},
   "source": [
    "<font color=\"RED\" size=\"+1\">**[Q]**</font> **La moyenne**\n",
    "\n",
    "\n",
    "Ecrire la fonction `moyenne`(valeurs) qui calcule la moyenne des éléments d'un tableau.\n",
    "\n",
    "Aide: si possible, éviter les boucles et privilégier les fonctions numpy."
   ]
  },
  {
   "cell_type": "code",
   "execution_count": 32,
   "metadata": {},
   "outputs": [],
   "source": [
    "def moyenne(valeurs):\n",
    "    valeurs_valides = valeurs[np.isfinite(valeurs)]\n",
    "    \n",
    "    return valeurs_valides.sum()/valeurs.size"
   ]
  },
  {
   "cell_type": "code",
   "execution_count": 33,
   "metadata": {},
   "outputs": [
    {
     "data": {
      "text/plain": [
       "np.float64(329.7598541421023)"
      ]
     },
     "execution_count": 33,
     "metadata": {},
     "output_type": "execute_result"
    }
   ],
   "source": [
    "moyenne(np.array(prices_pd[\"HighQ\"]))"
   ]
  },
  {
   "cell_type": "code",
   "execution_count": 34,
   "metadata": {},
   "outputs": [
    {
     "data": {
      "text/plain": [
       "0        198.64\n",
       "1        260.60\n",
       "2        209.35\n",
       "3        185.62\n",
       "4        193.56\n",
       "          ...  \n",
       "22894    293.12\n",
       "22895    189.92\n",
       "22896    224.03\n",
       "22897    272.71\n",
       "22898    351.86\n",
       "Name: MedQ, Length: 22899, dtype: float64"
      ]
     },
     "execution_count": 34,
     "metadata": {},
     "output_type": "execute_result"
    }
   ],
   "source": [
    "prices_pd[\"MedQ\"]"
   ]
  },
  {
   "cell_type": "markdown",
   "metadata": {},
   "source": [
    "Tester la fonction moyenne et comparer vos résultats avec l'implémentation de base de python donnée ci-dessous:"
   ]
  },
  {
   "cell_type": "code",
   "execution_count": 35,
   "metadata": {},
   "outputs": [
    {
     "name": "stdout",
     "output_type": "stream",
     "text": [
      "La moyenne (MedQ) est avec ma fonction : 247.618306 dollars\n",
      "La moyenne (MedQ) est avec mean        : 247.618306 dollars\n"
     ]
    }
   ],
   "source": [
    "print(\"La moyenne (MedQ) est avec ma fonction : %f dollars\" % moyenne(prices_pd[\"MedQ\"]))\n",
    "print(\"La moyenne (MedQ) est avec mean        : %f dollars\" % prices_pd[\"MedQ\"].mean())"
   ]
  },
  {
   "cell_type": "markdown",
   "metadata": {},
   "source": [
    "<font color=\"RED\" size=\"+1\">**[Q]**</font> **Moyennes sur les qualités**\n",
    "\n",
    "Calculer:\n",
    "* La moyenne des prix pour les qualités medium et high\n",
    "* La moyenne des prix pour les qualités medium et high dans l'état de ''New York''\n",
    "\n",
    "Les calculs seront fait d'une part à l'aide de votre fonction, et d'autre part à l'aide des fonctions de python (pour être sûr d'obtenir la même chose) et vous comparerez les temps d'exécutions."
   ]
  },
  {
   "cell_type": "code",
   "execution_count": 37,
   "metadata": {},
   "outputs": [
    {
     "name": "stdout",
     "output_type": "stream",
     "text": [
      "Affichage de temps d'exécution :\n",
      "--->  0.0019059181213378906 seconds\n"
     ]
    }
   ],
   "source": [
    "# Utile: calculer un temps d'exécution\n",
    "import time\n",
    "\n",
    "print(\"Affichage de temps d'exécution :\")\n",
    "tic = time.time()\n",
    "somme = 0\n",
    "produit = 0\n",
    "for i in range(0,1000):\n",
    "    somme += i\n",
    "    produit *= i\n",
    "toc = time.time()\n",
    "print(\"---> \",toc-tic,\"seconds\")\n"
   ]
  },
  {
   "cell_type": "code",
   "execution_count": 38,
   "metadata": {},
   "outputs": [
    {
     "name": "stdout",
     "output_type": "stream",
     "text": [
      "Avec la fonction moyenne :\n",
      "        Moyenne MedQ :  247.61830603956503\n",
      "        Moyenne HighQ :  329.7598541421023\n",
      "        Moyenne MedQ à NY :  265.37694877505567\n",
      "        Moyenne High à NY :  346.91276169265035\n",
      "--->  0.02053093910217285 seconds\n",
      "Version pandas :\n",
      "        Moyenne MedQ :  247.61830603956503\n",
      "        Moyenne HighQ :  329.7598541421023\n",
      "        Moyenne MedQ à NY :  265.37694877505567\n",
      "        Moyenne High à NY :  346.91276169265035\n",
      "--->  0.014207839965820312 seconds\n"
     ]
    }
   ],
   "source": [
    "print(\"Avec la fonction moyenne :\")\n",
    "tic = time.time()\n",
    "print(\"        Moyenne MedQ : \",moyenne(prices_pd[\"MedQ\"]))\n",
    "print(\"        Moyenne HighQ : \",moyenne(prices_pd[\"HighQ\"]))\n",
    "print(\"        Moyenne MedQ à NY : \",moyenne(prices_pd.query('State == \"New York\"')[\"MedQ\"]))\n",
    "print(\"        Moyenne High à NY : \",moyenne(prices_pd.query('State == \"New York\"')[\"HighQ\"]))\n",
    "toc = time.time()\n",
    "print(\"---> \",toc-tic,\"seconds\")\n",
    "print(\"Version pandas :\")\n",
    "tic1 = time.time()\n",
    "print(\"        Moyenne MedQ : \",prices_pd[\"MedQ\"].mean())\n",
    "print(\"        Moyenne HighQ : \",prices_pd[\"HighQ\"].mean())\n",
    "print(\"        Moyenne MedQ à NY : \",prices_pd.query('State == \"New York\"')[\"MedQ\"].mean())\n",
    "print(\"        Moyenne High à NY : \",prices_pd.query('State == \"New York\"')[\"HighQ\"].mean())\n",
    "toc1 = time.time()\n",
    "print(\"---> \",toc1-tic1,\"seconds\")\n"
   ]
  },
  {
   "cell_type": "markdown",
   "metadata": {},
   "source": [
    "<font color=\"RED\" size=\"+1\">**[Q]**</font> **Moyenne sur les états**\n",
    "\n",
    "Calculez la moyenne des prix qualités medium et high dans tous les états -- la liste des états est obtenues ainsi `states=np.unique(prices_pd[\"State\"].values)`\n",
    "\n",
    "Pour cela, vous pouvez (devez) le faire de deux manières:\n",
    "* Faire une boucle sur chacun des états\n",
    "* Utiliser la fonction groupby comme expliqué ici : http://pandas.pydata.org/pandas-docs/stable/groupby.html\n",
    " et ici : https://www.kaggle.com/crawford/python-groupby-tutorial\n"
   ]
  },
  {
   "cell_type": "code",
   "execution_count": 39,
   "metadata": {},
   "outputs": [
    {
     "name": "stdout",
     "output_type": "stream",
     "text": [
      "Prix moyen par état pour la qualité Medium (avec ma fonction):\n",
      "\n",
      "         Alabama  :  204.6061692650334\n",
      "         Alaska  :  262.0463919821826\n",
      "         Arizona  :  209.36534521158129\n",
      "         Arkansas  :  190.4146547884187\n",
      "         California  :  191.26890868596882\n",
      "         Colorado  :  196.5325167037862\n",
      "         Connecticut  :  271.3238975501113\n",
      "         Delaware  :  231.23031180400892\n",
      "         District of Columbia  :  288.2513140311804\n",
      "         Florida  :  217.88256124721602\n",
      "         Georgia  :  215.9436302895323\n",
      "         Hawaii  :  268.73815144766144\n",
      "         Idaho  :  249.8224276169265\n",
      "         Illinois  :  284.18008908685965\n",
      "         Indiana  :  211.98951002227173\n",
      "         Iowa  :  289.9455233853007\n",
      "         Kansas  :  261.24307349665924\n",
      "         Kentucky  :  179.93376391982184\n",
      "         Louisiana  :  243.11788418708238\n",
      "         Maine  :  248.43817371937638\n",
      "         Maryland  :  254.14044543429844\n",
      "         Massachusetts  :  290.1978841870824\n",
      "         Michigan  :  273.3523385300668\n",
      "         Minnesota  :  275.85006681514477\n",
      "         Mississippi  :  148.23160356347438\n",
      "         Missouri  :  244.81220489977727\n",
      "         Montana  :  248.39855233853004\n",
      "         Nebraska  :  248.16064587973275\n",
      "         Nevada  :  226.21741648106902\n",
      "         New Hampshire  :  290.1077505567929\n",
      "         New Jersey  :  288.72701559020044\n",
      "         New Mexico  :  209.2422494432071\n",
      "         New York  :  265.37694877505567\n",
      "         North Carolina  :  245.69922048997776\n",
      "         North Dakota  :  349.0666815144766\n",
      "         Ohio  :  216.95316258351895\n",
      "         Oklahoma  :  233.82200445434296\n",
      "         Oregon  :  183.88986636971043\n",
      "         Pennsylvania  :  267.8913363028953\n",
      "         Rhode Island  :  258.172293986637\n",
      "         South Carolina  :  203.33977728285078\n",
      "         South Dakota  :  351.9448106904231\n",
      "         Tennessee  :  225.80886414253897\n",
      "         Texas  :  233.5368374164811\n",
      "         Utah  :  237.3718930957684\n",
      "         Vermont  :  315.5475501113586\n",
      "         Virginia  :  290.4080846325167\n",
      "         Washington  :  189.92498886414256\n",
      "         West Virginia  :  215.88380846325168\n",
      "         Wisconsin  :  271.6481737193764\n",
      "         Wyoming  :  358.5348329621381\n",
      "\n",
      "\n",
      "Prix moyen par état pour la qualité High (avec groupby):\n"
     ]
    },
    {
     "data": {
      "text/plain": [
       "State\n",
       "Alabama                 339.561849\n",
       "Alaska                  291.482004\n",
       "Arizona                 300.667483\n",
       "Arkansas                348.056147\n",
       "California              245.376125\n",
       "Colorado                238.918708\n",
       "Connecticut             341.694076\n",
       "Delaware                366.781849\n",
       "District of Columbia    348.177416\n",
       "Florida                 302.570312\n",
       "Georgia                 326.659644\n",
       "Hawaii                  309.918931\n",
       "Idaho                   275.639376\n",
       "Illinois                355.463341\n",
       "Indiana                 333.191114\n",
       "Iowa                    367.095791\n",
       "Kansas                  350.819198\n",
       "Kentucky                338.855167\n",
       "Louisiana               366.832539\n",
       "Maine                   315.390089\n",
       "Maryland                370.985167\n",
       "Massachusetts           349.011648\n",
       "Michigan                292.090512\n",
       "Minnesota               358.243274\n",
       "Mississippi             337.559287\n",
       "Missouri                359.276637\n",
       "Montana                 267.831737\n",
       "Nebraska                341.559354\n",
       "Nevada                  267.820111\n",
       "New Hampshire           359.476036\n",
       "New Jersey              349.321693\n",
       "New Mexico              289.562539\n",
       "New York                346.912762\n",
       "North Carolina          349.475033\n",
       "North Dakota            398.668753\n",
       "Ohio                    334.554655\n",
       "Oklahoma                361.573140\n",
       "Oregon                  208.496236\n",
       "Pennsylvania            366.125679\n",
       "Rhode Island            323.838352\n",
       "South Carolina          341.692918\n",
       "South Dakota            375.818486\n",
       "Tennessee               352.753007\n",
       "Texas                   337.105212\n",
       "Utah                    289.596058\n",
       "Vermont                 374.250445\n",
       "Virginia                368.146993\n",
       "Washington              233.387817\n",
       "West Virginia           357.394566\n",
       "Wisconsin               353.052517\n",
       "Wyoming                 339.020780\n",
       "Name: HighQ, dtype: float64"
      ]
     },
     "execution_count": 39,
     "metadata": {},
     "output_type": "execute_result"
    }
   ],
   "source": [
    "print(\"Prix moyen par état pour la qualité Medium (avec ma fonction):\")\n",
    "print(\"\")\n",
    "\n",
    "states=np.unique(prices_pd[\"State\"].values)\n",
    "for state in states:\n",
    "    chaine = \"State == \"+'\"'+state+'\"'\n",
    "    print(\"        \",state,\" : \",moyenne(prices_pd.query(chaine)[\"MedQ\"]))\n",
    "\n",
    "print(\"\\n\")\n",
    "print(\"Prix moyen par état pour la qualité High (avec groupby):\")\n",
    "state_group = prices_pd.groupby(\"State\")\n",
    "state_group[\"HighQ\"].mean()"
   ]
  },
  {
   "cell_type": "markdown",
   "metadata": {},
   "source": [
    "<font color=\"RED\" size=\"+1\">**[Q]**</font> **Modification de données**\n",
    "\n",
    "Remplacez le <tt>NAN</tt> de la colonne <tt>LowQ</tt> à l'aide de la fonction décrite ici: http://pandas.pydata.org/pandas-docs/version/0.17.1/generated/pandas.DataFrame.fillna.html avec sa variante pour les versions pandas plus récentes https://pandas.pydata.org/docs/reference/api/pandas.DataFrame.ffill.html.\n",
    "\n",
    "Nous souhaitons plus particulièrement utiliser une méthode de remplissage après avoir trié par état et par date grâce à l'utilisation de la fonction <tt>sort</tt> : \n",
    "\n",
    "            prices_sorted = prices_pd.sort_values(by=['State', 'date'], inplace=False)\n",
    "\n",
    "Expliquer le résultat de cette commande.\n",
    "Que se passerait-il si on utilisait <tt>inplace=True</tt> ?"
   ]
  },
  {
   "cell_type": "code",
   "execution_count": 43,
   "metadata": {},
   "outputs": [
    {
     "data": {
      "text/html": [
       "<div>\n",
       "<style scoped>\n",
       "    .dataframe tbody tr th:only-of-type {\n",
       "        vertical-align: middle;\n",
       "    }\n",
       "\n",
       "    .dataframe tbody tr th {\n",
       "        vertical-align: top;\n",
       "    }\n",
       "\n",
       "    .dataframe thead th {\n",
       "        text-align: right;\n",
       "    }\n",
       "</style>\n",
       "<table border=\"1\" class=\"dataframe\">\n",
       "  <thead>\n",
       "    <tr style=\"text-align: right;\">\n",
       "      <th></th>\n",
       "      <th>State</th>\n",
       "      <th>HighQ</th>\n",
       "      <th>HighQN</th>\n",
       "      <th>MedQ</th>\n",
       "      <th>MedQN</th>\n",
       "      <th>LowQ</th>\n",
       "      <th>LowQN</th>\n",
       "      <th>date</th>\n",
       "    </tr>\n",
       "  </thead>\n",
       "  <tbody>\n",
       "    <tr>\n",
       "      <th>20094</th>\n",
       "      <td>Alabama</td>\n",
       "      <td>339.65</td>\n",
       "      <td>1033</td>\n",
       "      <td>198.04</td>\n",
       "      <td>926</td>\n",
       "      <td>147.15</td>\n",
       "      <td>122</td>\n",
       "      <td>2013-12-27</td>\n",
       "    </tr>\n",
       "    <tr>\n",
       "      <th>20859</th>\n",
       "      <td>Alabama</td>\n",
       "      <td>339.65</td>\n",
       "      <td>1033</td>\n",
       "      <td>198.04</td>\n",
       "      <td>926</td>\n",
       "      <td>147.15</td>\n",
       "      <td>122</td>\n",
       "      <td>2013-12-28</td>\n",
       "    </tr>\n",
       "    <tr>\n",
       "      <th>21573</th>\n",
       "      <td>Alabama</td>\n",
       "      <td>339.75</td>\n",
       "      <td>1036</td>\n",
       "      <td>198.26</td>\n",
       "      <td>929</td>\n",
       "      <td>149.49</td>\n",
       "      <td>123</td>\n",
       "      <td>2013-12-29</td>\n",
       "    </tr>\n",
       "    <tr>\n",
       "      <th>22287</th>\n",
       "      <td>Alabama</td>\n",
       "      <td>339.75</td>\n",
       "      <td>1036</td>\n",
       "      <td>198.81</td>\n",
       "      <td>930</td>\n",
       "      <td>149.49</td>\n",
       "      <td>123</td>\n",
       "      <td>2013-12-30</td>\n",
       "    </tr>\n",
       "    <tr>\n",
       "      <th>22797</th>\n",
       "      <td>Alabama</td>\n",
       "      <td>339.42</td>\n",
       "      <td>1040</td>\n",
       "      <td>198.68</td>\n",
       "      <td>932</td>\n",
       "      <td>149.49</td>\n",
       "      <td>123</td>\n",
       "      <td>2013-12-31</td>\n",
       "    </tr>\n",
       "    <tr>\n",
       "      <th>...</th>\n",
       "      <td>...</td>\n",
       "      <td>...</td>\n",
       "      <td>...</td>\n",
       "      <td>...</td>\n",
       "      <td>...</td>\n",
       "      <td>...</td>\n",
       "      <td>...</td>\n",
       "      <td>...</td>\n",
       "    </tr>\n",
       "    <tr>\n",
       "      <th>4997</th>\n",
       "      <td>Wyoming</td>\n",
       "      <td>313.72</td>\n",
       "      <td>148</td>\n",
       "      <td>317.38</td>\n",
       "      <td>226</td>\n",
       "      <td>161.30</td>\n",
       "      <td>13</td>\n",
       "      <td>2015-06-07</td>\n",
       "    </tr>\n",
       "    <tr>\n",
       "      <th>5762</th>\n",
       "      <td>Wyoming</td>\n",
       "      <td>313.72</td>\n",
       "      <td>148</td>\n",
       "      <td>317.38</td>\n",
       "      <td>226</td>\n",
       "      <td>161.30</td>\n",
       "      <td>13</td>\n",
       "      <td>2015-06-08</td>\n",
       "    </tr>\n",
       "    <tr>\n",
       "      <th>6527</th>\n",
       "      <td>Wyoming</td>\n",
       "      <td>313.72</td>\n",
       "      <td>148</td>\n",
       "      <td>317.38</td>\n",
       "      <td>226</td>\n",
       "      <td>161.30</td>\n",
       "      <td>13</td>\n",
       "      <td>2015-06-09</td>\n",
       "    </tr>\n",
       "    <tr>\n",
       "      <th>7343</th>\n",
       "      <td>Wyoming</td>\n",
       "      <td>313.72</td>\n",
       "      <td>148</td>\n",
       "      <td>317.38</td>\n",
       "      <td>226</td>\n",
       "      <td>161.30</td>\n",
       "      <td>13</td>\n",
       "      <td>2015-06-10</td>\n",
       "    </tr>\n",
       "    <tr>\n",
       "      <th>8159</th>\n",
       "      <td>Wyoming</td>\n",
       "      <td>313.72</td>\n",
       "      <td>148</td>\n",
       "      <td>317.38</td>\n",
       "      <td>226</td>\n",
       "      <td>161.30</td>\n",
       "      <td>13</td>\n",
       "      <td>2015-06-11</td>\n",
       "    </tr>\n",
       "  </tbody>\n",
       "</table>\n",
       "<p>22899 rows × 8 columns</p>\n",
       "</div>"
      ],
      "text/plain": [
       "         State   HighQ  HighQN    MedQ  MedQN    LowQ  LowQN       date\n",
       "20094  Alabama  339.65    1033  198.04    926  147.15    122 2013-12-27\n",
       "20859  Alabama  339.65    1033  198.04    926  147.15    122 2013-12-28\n",
       "21573  Alabama  339.75    1036  198.26    929  149.49    123 2013-12-29\n",
       "22287  Alabama  339.75    1036  198.81    930  149.49    123 2013-12-30\n",
       "22797  Alabama  339.42    1040  198.68    932  149.49    123 2013-12-31\n",
       "...        ...     ...     ...     ...    ...     ...    ...        ...\n",
       "4997   Wyoming  313.72     148  317.38    226  161.30     13 2015-06-07\n",
       "5762   Wyoming  313.72     148  317.38    226  161.30     13 2015-06-08\n",
       "6527   Wyoming  313.72     148  317.38    226  161.30     13 2015-06-09\n",
       "7343   Wyoming  313.72     148  317.38    226  161.30     13 2015-06-10\n",
       "8159   Wyoming  313.72     148  317.38    226  161.30     13 2015-06-11\n",
       "\n",
       "[22899 rows x 8 columns]"
      ]
     },
     "execution_count": 43,
     "metadata": {},
     "output_type": "execute_result"
    }
   ],
   "source": [
    "# Tri sans les Nan\n",
    "prices_sorted = prices_pd.sort_values(by=['State', 'date'], inplace=False)\n",
    "prices_sorted_sans_nan = prices_sorted.ffill()\n",
    "prices_sorted_sans_nan\n",
    "\n"
   ]
  },
  {
   "cell_type": "markdown",
   "metadata": {},
   "source": [
    "<font color=\"RED\" size=\"+1\">**[Q]**</font> **Changements des résultats**\n",
    "\n",
    "\n",
    "Recalculer la moyenne des prix pour la qualité <tt>LowQ</tt>. Qu'en est-il maintenant ? "
   ]
  },
  {
   "cell_type": "code",
   "execution_count": 44,
   "metadata": {},
   "outputs": [
    {
     "name": "stdout",
     "output_type": "stream",
     "text": [
      "Moyenne avant remplacement des NAN:   109.81509803921567\n",
      "Moyenne après tri et avec NAN:   109.81509803921567\n",
      "Moyenne avec remplacement des NAN:   203.62409188174158\n"
     ]
    }
   ],
   "source": [
    "print(\"Moyenne avant remplacement des NAN:  \",moyenne(prices_pd[\"LowQ\"]))\n",
    "print(\"Moyenne après tri et avec NAN:  \",moyenne(prices_sorted[\"LowQ\"]))\n",
    "print(\"Moyenne avec remplacement des NAN:  \",moyenne(prices_sorted_sans_nan[\"LowQ\"]))"
   ]
  },
  {
   "cell_type": "markdown",
   "metadata": {},
   "source": [
    "<font color=\"RED\" size=\"+1\">**[Q]**</font> **Tracé d'histogrammes**\n",
    "\n",
    "Donner les instructions Python pour tracer l'histogramme des moyennes des prix (<tt>LowQ</tt>) par état pour les données initiales (ie. avec NAN). \n",
    "\n",
    "\n",
    "Pour vous aider à construire un histogramme, vous pouvez étudier la page suivante:\n",
    "https://matplotlib.org/stable/api/_as_gen/matplotlib.pyplot.hist.html"
   ]
  },
  {
   "cell_type": "code",
   "execution_count": 45,
   "metadata": {},
   "outputs": [
    {
     "data": {
      "text/plain": [
       "(array([1483., 6411., 3222.,  296.,  382.,   64.,    0.,   88.,  214.,\n",
       "         182.]),\n",
       " array([ 63.7  , 130.795, 197.89 , 264.985, 332.08 , 399.175, 466.27 ,\n",
       "        533.365, 600.46 , 667.555, 734.65 ]),\n",
       " <BarContainer object of 10 artists>)"
      ]
     },
     "execution_count": 45,
     "metadata": {},
     "output_type": "execute_result"
    },
    {
     "data": {
      "image/png": "[encoded data removed]",
      "text/plain": [
       "<Figure size 640x480 with 1 Axes>"
      ]
     },
     "metadata": {},
     "output_type": "display_data"
    }
   ],
   "source": [
    "# Par exemple, tracé de l'histograme des valeurs \"LowQ\" sur l'ensemble des données:\n",
    "plt.hist(prices_pd[\"LowQ\"])"
   ]
  },
  {
   "cell_type": "code",
   "execution_count": 46,
   "metadata": {},
   "outputs": [
    {
     "data": {
      "text/plain": [
       "(array([ 7., 26., 14.,  0.,  1.,  1.,  0.,  0.,  0.,  2.]),\n",
       " array([ 80.89095041, 138.78696281, 196.68297521, 254.5789876 ,\n",
       "        312.475     , 370.3710124 , 428.26702479, 486.16303719,\n",
       "        544.05904959, 601.95506198, 659.85107438]),\n",
       " <BarContainer object of 10 artists>)"
      ]
     },
     "execution_count": 46,
     "metadata": {},
     "output_type": "execute_result"
    },
    {
     "data": {
      "image/png": "[encoded data removed]",
      "text/plain": [
       "<Figure size 640x480 with 1 Axes>"
      ]
     },
     "metadata": {},
     "output_type": "display_data"
    }
   ],
   "source": [
    "moyenne_prix_par_etat = prices_pd.groupby(\"State\")[\"LowQ\"].mean()\n",
    "moyenne_prix_par_etat\n",
    "plt.hist(moyenne_prix_par_etat)"
   ]
  },
  {
   "cell_type": "markdown",
   "metadata": {},
   "source": [
    "<font color=\"RED\" size=\"+1\">**[Q]**</font> **Estimation de densité**\n",
    "\n",
    "Nous allons maintenant nous intéresser au calcul du nombre d'états concernés par une fourchette de prix. Pour cela:\n",
    "* Calculer le tableau des prix moyens de la facon suivante\n",
    "    \n"
   ]
  },
  {
   "cell_type": "code",
   "execution_count": 47,
   "metadata": {},
   "outputs": [
    {
     "data": {
      "text/plain": [
       "array([146.83260331, 387.23272727, 190.8268595 , 127.34545455,\n",
       "       190.79599174, 226.79061983, 253.02487603, 205.04599174,\n",
       "       210.56355372, 153.2053719 , 150.26409091, 167.09384298,\n",
       "       139.96285124, 186.54516529, 158.93165289, 248.59553719,\n",
       "       120.1992562 , 124.1568595 , 146.77698347, 244.95165289,\n",
       "       190.18508264, 220.07      , 252.64491736, 182.68330579,\n",
       "       142.75194215, 147.50859504, 659.85107438, 137.89590909,\n",
       "       241.79293388, 639.80780992, 228.61177686,  80.89095041,\n",
       "       201.34      , 150.81061983, 333.96822314, 165.1696281 ,\n",
       "       119.89392562, 170.17338843, 193.22975207, 203.00066116,\n",
       "       184.46760331, 124.31801653, 190.12157025, 143.36289256,\n",
       "       193.84429752, 189.6007438 , 224.23900826, 143.18338843,\n",
       "       155.71516529, 239.56508264, 161.3       ])"
      ]
     },
     "execution_count": 47,
     "metadata": {},
     "output_type": "execute_result"
    }
   ],
   "source": [
    "prix_moyens=prices_pd[[\"State\",\"LowQ\"]].groupby([\"State\"]).mean()\n",
    "#print(prix_moyens)\n",
    "#print(\"===========\")\n",
    "prix_moyens=prix_moyens.values.ravel()\n",
    "\n",
    "prix_moyens"
   ]
  },
  {
   "cell_type": "code",
   "execution_count": 48,
   "metadata": {},
   "outputs": [
    {
     "data": {
      "image/png": "[encoded data removed]",
      "text/plain": [
       "<Figure size 640x480 with 1 Axes>"
      ]
     },
     "metadata": {},
     "output_type": "display_data"
    }
   ],
   "source": [
    "# Histogramme:\n",
    "plt.hist(prix_moyens)\n",
    "plt.show()"
   ]
  },
  {
   "cell_type": "markdown",
   "metadata": {},
   "source": [
    "<font color=\"RED\" size=\"+1\">**[Q]**</font> **Bornes de variations**\n",
    "\n",
    "* Calculer les valeurs min et max des prix moyens"
   ]
  },
  {
   "cell_type": "code",
   "execution_count": 50,
   "metadata": {},
   "outputs": [
    {
     "name": "stdout",
     "output_type": "stream",
     "text": [
      "Min :  80.89095041322314\n",
      "Max :  659.8510743801653\n"
     ]
    }
   ],
   "source": [
    "print(\"Min : \",np.min(prix_moyens))\n",
    "print(\"Max : \",np.max(prix_moyens))"
   ]
  },
  {
   "cell_type": "markdown",
   "metadata": {},
   "source": [
    "<font color=\"RED\" size=\"+1\">**[Q]**</font> **Calcul d'un effectif**\n",
    "\n",
    "Pour mieux contrôler le tracé de l'histogramme, il est préférable de donner la taille de l'intervalle de discrétisation à utiliser pour calculer les effectifs.\n",
    "\n",
    "En utilisant l'option bins de la fonction de matplotlib `hist`, tracer l'histogramme avec un intervalle de discrétisation de taille 20."
   ]
  },
  {
   "cell_type": "code",
   "execution_count": 51,
   "metadata": {},
   "outputs": [
    {
     "data": {
      "image/png": "[encoded data removed]",
      "text/plain": [
       "<Figure size 640x480 with 1 Axes>"
      ]
     },
     "metadata": {},
     "output_type": "display_data"
    }
   ],
   "source": [
    "plt.hist(prix_moyens, bins=20)\n",
    "plt.show()"
   ]
  },
  {
   "cell_type": "markdown",
   "metadata": {},
   "source": [
    "<font color=\"RED\" size=\"+1\">**[Q]**</font> **Changement d'échelle**\n",
    "\n",
    "Même chose mais avec maintenant un intervalle de taille 40.\n"
   ]
  },
  {
   "cell_type": "code",
   "execution_count": 52,
   "metadata": {},
   "outputs": [
    {
     "data": {
      "image/png": "[encoded data removed]",
      "text/plain": [
       "<Figure size 640x480 with 1 Axes>"
      ]
     },
     "metadata": {},
     "output_type": "display_data"
    }
   ],
   "source": [
    "plt.hist(prix_moyens, bins=40)\n",
    "plt.show()"
   ]
  },
  {
   "cell_type": "markdown",
   "metadata": {},
   "source": [
    "### Variance\n",
    "\n",
    "<font color=\"RED\" size=\"+1\">**[Q]**</font> **Calcul de variances**\n",
    "\n",
    "On souhaite maintenant rajouter une colonne <tt>HighQ_var</tt> aux données originales contenant la variance des prix par état. Donner les intructions Python correspondantes.\n",
    "\n",
    "**ATTENTION**, cela suppose de traiter les états (State) les uns après les autres... par exemple, à l'aide d'un <tt>groupby</tt> sur le dataframe...\n",
    "\n",
    "\n",
    "Remarque: pour être efficace, utiliser la fonction variance de pandas pour les dataframes..."
   ]
  },
  {
   "cell_type": "code",
   "execution_count": 53,
   "metadata": {},
   "outputs": [
    {
     "name": "stdout",
     "output_type": "stream",
     "text": [
      "State\n",
      "Alabama                   2.370749\n",
      "Alaska                   31.137567\n",
      "Arizona                   4.063247\n",
      "Arkansas                 47.141986\n",
      "California                2.982686\n",
      "Colorado                  6.356718\n",
      "Connecticut              18.372574\n",
      "Delaware                 24.827685\n",
      "District of Columbia      3.976920\n",
      "Florida                   5.258257\n",
      "Georgia                  13.400555\n",
      "Hawaii                    9.469260\n",
      "Idaho                     0.840436\n",
      "Illinois                  5.790658\n",
      "Indiana                   3.453509\n",
      "Iowa                      7.875726\n",
      "Kansas                    3.951313\n",
      "Kentucky                  1.074988\n",
      "Louisiana                23.778186\n",
      "Maine                    22.066151\n",
      "Maryland                 34.891397\n",
      "Massachusetts            12.740908\n",
      "Michigan                 18.449891\n",
      "Minnesota                79.051308\n",
      "Mississippi               7.309370\n",
      "Missouri                 54.772887\n",
      "Montana                  10.967851\n",
      "Nebraska                 30.419953\n",
      "Nevada                    1.848997\n",
      "New Hampshire            51.118775\n",
      "New Jersey               12.833771\n",
      "New Mexico                6.427070\n",
      "New York                 12.245147\n",
      "North Carolina           16.311250\n",
      "North Dakota             55.694703\n",
      "Ohio                      2.698508\n",
      "Oklahoma                 31.829491\n",
      "Oregon                    7.561688\n",
      "Pennsylvania             12.866467\n",
      "Rhode Island             44.814466\n",
      "South Carolina           14.913978\n",
      "South Dakota            138.362692\n",
      "Tennessee                14.840045\n",
      "Texas                    16.169573\n",
      "Utah                      4.275242\n",
      "Vermont                  12.881744\n",
      "Virginia                 11.862465\n",
      "Washington                1.347089\n",
      "West Virginia             8.248240\n",
      "Wisconsin                11.744638\n",
      "Wyoming                 219.612495\n",
      "Name: HighQ, dtype: float64\n"
     ]
    },
    {
     "data": {
      "text/html": [
       "<div>\n",
       "<style scoped>\n",
       "    .dataframe tbody tr th:only-of-type {\n",
       "        vertical-align: middle;\n",
       "    }\n",
       "\n",
       "    .dataframe tbody tr th {\n",
       "        vertical-align: top;\n",
       "    }\n",
       "\n",
       "    .dataframe thead th {\n",
       "        text-align: right;\n",
       "    }\n",
       "</style>\n",
       "<table border=\"1\" class=\"dataframe\">\n",
       "  <thead>\n",
       "    <tr style=\"text-align: right;\">\n",
       "      <th></th>\n",
       "      <th>State</th>\n",
       "      <th>HighQ</th>\n",
       "      <th>HighQN</th>\n",
       "      <th>MedQ</th>\n",
       "      <th>MedQN</th>\n",
       "      <th>LowQ</th>\n",
       "      <th>LowQN</th>\n",
       "      <th>date</th>\n",
       "      <th>HighQ_var</th>\n",
       "    </tr>\n",
       "  </thead>\n",
       "  <tbody>\n",
       "    <tr>\n",
       "      <th>0</th>\n",
       "      <td>Alabama</td>\n",
       "      <td>339.06</td>\n",
       "      <td>1042</td>\n",
       "      <td>198.64</td>\n",
       "      <td>933</td>\n",
       "      <td>149.49</td>\n",
       "      <td>123</td>\n",
       "      <td>2014-01-01</td>\n",
       "      <td>2.370749</td>\n",
       "    </tr>\n",
       "    <tr>\n",
       "      <th>1</th>\n",
       "      <td>Alaska</td>\n",
       "      <td>288.75</td>\n",
       "      <td>252</td>\n",
       "      <td>260.60</td>\n",
       "      <td>297</td>\n",
       "      <td>388.58</td>\n",
       "      <td>26</td>\n",
       "      <td>2014-01-01</td>\n",
       "      <td>31.137567</td>\n",
       "    </tr>\n",
       "    <tr>\n",
       "      <th>2</th>\n",
       "      <td>Arizona</td>\n",
       "      <td>303.31</td>\n",
       "      <td>1941</td>\n",
       "      <td>209.35</td>\n",
       "      <td>1625</td>\n",
       "      <td>189.45</td>\n",
       "      <td>222</td>\n",
       "      <td>2014-01-01</td>\n",
       "      <td>4.063247</td>\n",
       "    </tr>\n",
       "    <tr>\n",
       "      <th>3</th>\n",
       "      <td>Arkansas</td>\n",
       "      <td>361.85</td>\n",
       "      <td>576</td>\n",
       "      <td>185.62</td>\n",
       "      <td>544</td>\n",
       "      <td>125.87</td>\n",
       "      <td>112</td>\n",
       "      <td>2014-01-01</td>\n",
       "      <td>47.141986</td>\n",
       "    </tr>\n",
       "    <tr>\n",
       "      <th>4</th>\n",
       "      <td>California</td>\n",
       "      <td>248.78</td>\n",
       "      <td>12096</td>\n",
       "      <td>193.56</td>\n",
       "      <td>12812</td>\n",
       "      <td>192.92</td>\n",
       "      <td>778</td>\n",
       "      <td>2014-01-01</td>\n",
       "      <td>2.982686</td>\n",
       "    </tr>\n",
       "    <tr>\n",
       "      <th>...</th>\n",
       "      <td>...</td>\n",
       "      <td>...</td>\n",
       "      <td>...</td>\n",
       "      <td>...</td>\n",
       "      <td>...</td>\n",
       "      <td>...</td>\n",
       "      <td>...</td>\n",
       "      <td>...</td>\n",
       "      <td>...</td>\n",
       "    </tr>\n",
       "    <tr>\n",
       "      <th>22894</th>\n",
       "      <td>Virginia</td>\n",
       "      <td>364.98</td>\n",
       "      <td>3513</td>\n",
       "      <td>293.12</td>\n",
       "      <td>3079</td>\n",
       "      <td>NaN</td>\n",
       "      <td>284</td>\n",
       "      <td>2014-12-31</td>\n",
       "      <td>11.862465</td>\n",
       "    </tr>\n",
       "    <tr>\n",
       "      <th>22895</th>\n",
       "      <td>Washington</td>\n",
       "      <td>233.05</td>\n",
       "      <td>3337</td>\n",
       "      <td>189.92</td>\n",
       "      <td>3562</td>\n",
       "      <td>NaN</td>\n",
       "      <td>160</td>\n",
       "      <td>2014-12-31</td>\n",
       "      <td>1.347089</td>\n",
       "    </tr>\n",
       "    <tr>\n",
       "      <th>22896</th>\n",
       "      <td>West Virginia</td>\n",
       "      <td>359.35</td>\n",
       "      <td>551</td>\n",
       "      <td>224.03</td>\n",
       "      <td>545</td>\n",
       "      <td>NaN</td>\n",
       "      <td>60</td>\n",
       "      <td>2014-12-31</td>\n",
       "      <td>8.248240</td>\n",
       "    </tr>\n",
       "    <tr>\n",
       "      <th>22897</th>\n",
       "      <td>Wisconsin</td>\n",
       "      <td>350.52</td>\n",
       "      <td>2244</td>\n",
       "      <td>272.71</td>\n",
       "      <td>2221</td>\n",
       "      <td>NaN</td>\n",
       "      <td>167</td>\n",
       "      <td>2014-12-31</td>\n",
       "      <td>11.744638</td>\n",
       "    </tr>\n",
       "    <tr>\n",
       "      <th>22898</th>\n",
       "      <td>Wyoming</td>\n",
       "      <td>322.27</td>\n",
       "      <td>131</td>\n",
       "      <td>351.86</td>\n",
       "      <td>197</td>\n",
       "      <td>NaN</td>\n",
       "      <td>12</td>\n",
       "      <td>2014-12-31</td>\n",
       "      <td>219.612495</td>\n",
       "    </tr>\n",
       "  </tbody>\n",
       "</table>\n",
       "<p>22899 rows × 9 columns</p>\n",
       "</div>"
      ],
      "text/plain": [
       "               State   HighQ  HighQN    MedQ  MedQN    LowQ  LowQN       date  \\\n",
       "0            Alabama  339.06    1042  198.64    933  149.49    123 2014-01-01   \n",
       "1             Alaska  288.75     252  260.60    297  388.58     26 2014-01-01   \n",
       "2            Arizona  303.31    1941  209.35   1625  189.45    222 2014-01-01   \n",
       "3           Arkansas  361.85     576  185.62    544  125.87    112 2014-01-01   \n",
       "4         California  248.78   12096  193.56  12812  192.92    778 2014-01-01   \n",
       "...              ...     ...     ...     ...    ...     ...    ...        ...   \n",
       "22894       Virginia  364.98    3513  293.12   3079     NaN    284 2014-12-31   \n",
       "22895     Washington  233.05    3337  189.92   3562     NaN    160 2014-12-31   \n",
       "22896  West Virginia  359.35     551  224.03    545     NaN     60 2014-12-31   \n",
       "22897      Wisconsin  350.52    2244  272.71   2221     NaN    167 2014-12-31   \n",
       "22898        Wyoming  322.27     131  351.86    197     NaN     12 2014-12-31   \n",
       "\n",
       "        HighQ_var  \n",
       "0        2.370749  \n",
       "1       31.137567  \n",
       "2        4.063247  \n",
       "3       47.141986  \n",
       "4        2.982686  \n",
       "...           ...  \n",
       "22894   11.862465  \n",
       "22895    1.347089  \n",
       "22896    8.248240  \n",
       "22897   11.744638  \n",
       "22898  219.612495  \n",
       "\n",
       "[22899 rows x 9 columns]"
      ]
     },
     "execution_count": 53,
     "metadata": {},
     "output_type": "execute_result"
    }
   ],
   "source": [
    "highQ_var_states = prices_pd.groupby(\"State\")[\"HighQ\"].var()\n",
    "print(highQ_var_states)\n",
    "prices_pd['HighQ_var'] = prices_pd['State'].map(highQ_var_states)\n",
    "prices_pd"
   ]
  },
  {
   "cell_type": "markdown",
   "metadata": {},
   "source": [
    "# Travail de synthèse : La Californie\n",
    "\n",
    "Pandas permet de faire la synthèse de données de la manière suivante (pour le DataFrame de nom <tt>df</tt>): \n",
    "    \n",
    "    df.describe()\n",
    "    \n",
    "\n",
    "<font color=\"RED\" size=\"+1\">**[Q]**</font> Vérifier que les valeurs trouvées sur l'état de la Californie correspondent aux valeurs trouvées grâce à vos différentes fonctions. \n",
    "\n",
    "Pour cela, donner dans ce qui suit le code qui utilise vos fonctions (moyennes, variance, et quartiles) ainsi que le résutlats de la fonction <tt>describe</tt>.\n"
   ]
  },
  {
   "cell_type": "code",
   "execution_count": 54,
   "metadata": {},
   "outputs": [
    {
     "name": "stdout",
     "output_type": "stream",
     "text": [
      "Avec describe :\n",
      "            HighQ        HighQN        MedQ         MedQN        LowQ  \\\n",
      "count  449.000000    449.000000  449.000000    449.000000  242.000000   \n",
      "mean   245.376125  14947.073497  191.268909  16769.821826  190.795992   \n",
      "min    241.840000  12021.000000  187.850000  12724.000000  187.830000   \n",
      "25%    244.480000  13610.000000  190.260000  14826.000000  189.420000   \n",
      "50%    245.310000  15037.000000  191.570000  16793.000000  191.075000   \n",
      "75%    246.220000  16090.000000  192.550000  18435.000000  192.200000   \n",
      "max    248.820000  18492.000000  193.630000  22027.000000  193.880000   \n",
      "std      1.727046   1656.133565    1.524028   2433.943191    1.586186   \n",
      "\n",
      "             LowQN                           date     HighQ_var  \n",
      "count   449.000000                            449  4.490000e+02  \n",
      "mean    976.298441  2014-08-14 12:59:19.910913024  2.982686e+00  \n",
      "min     770.000000            2013-12-27 00:00:00  2.982686e+00  \n",
      "25%     878.000000            2014-04-18 00:00:00  2.982686e+00  \n",
      "50%     982.000000            2014-08-09 00:00:00  2.982686e+00  \n",
      "75%    1060.000000            2014-11-29 00:00:00  2.982686e+00  \n",
      "max    1232.000000            2015-06-11 00:00:00  2.982686e+00  \n",
      "std     120.246714                            NaN  4.445846e-16  \n",
      "\n",
      "\n",
      "Avec mes fonctions\n",
      "\n",
      "Moyennes :\n",
      "HighQ          245.376125\n",
      "HighQN       14947.073497\n",
      "MedQ           191.268909\n",
      "MedQN        16769.821826\n",
      "LowQ           102.834365\n",
      "LowQN          976.298441\n",
      "HighQ_var        2.982686\n",
      "dtype: float64\n",
      "\n",
      "Ecart-Type (std) :\n",
      "HighQ        1.725121e+00\n",
      "HighQN       1.654288e+03\n",
      "MedQ         1.522330e+00\n",
      "MedQN        2.431231e+03\n",
      "LowQ         1.162089e+00\n",
      "LowQN        1.201127e+02\n",
      "HighQ_var    4.440892e-16\n",
      "dtype: float64\n",
      "\n",
      "Quartiles :\n",
      "    HighQ   HighQN    MedQ    MedQN  LowQ   LowQN  HighQ_var\n",
      "0  244.48  13610.0  190.26  14826.0   NaN   878.0   2.982686\n",
      "1  245.31  15037.0  191.57  16793.0   NaN   982.0   2.982686\n",
      "2  246.22  16090.0  192.55  18435.0   NaN  1060.0   2.982686\n"
     ]
    }
   ],
   "source": [
    "def ecartType(valeurs):\n",
    "    return np.sqrt(((valeurs - valeurs.mean())**2).sum() / len(valeurs))\n",
    "\n",
    "def quartiles(valeurs):\n",
    "    q1 = np.percentile(valeurs, 25)\n",
    "    q2 = np.percentile(valeurs, 50)\n",
    "    q3 = np.percentile(valeurs, 75)\n",
    "    return q1, q2, q3\n",
    "    \n",
    "prices_california = prices_pd.query('State == \"California\"')\n",
    "\n",
    "prices_california_nombres = prices_california.select_dtypes(include=[np.number])\n",
    "moyennes = prices_california_nombres.apply(moyenne)\n",
    "ecartTypes = prices_california_nombres.apply(ecartType)\n",
    "quartiles = prices_california_nombres.apply(quartiles)\n",
    "\n",
    "print(\"Avec describe :\")\n",
    "print(prices_california.describe())\n",
    "print(\"\\n\")\n",
    "print(\"Avec mes fonctions\")\n",
    "print(\"\\nMoyennes :\")\n",
    "print(moyennes)\n",
    "print(\"\\nEcart-Type (std) :\")\n",
    "print(ecartTypes)\n",
    "print(\"\\nQuartiles :\")\n",
    "print(quartiles)"
   ]
  },
  {
   "cell_type": "markdown",
   "metadata": {},
   "source": [
    "<font color=\"RED\" size=\"+1\">**[Q]**</font> **Matrice de corrélation**\n",
    "\n",
    "\n",
    "Nous allons maintenant nous intéresser à calculer la corrélation entre les prix à New York et les prix en Californie.\n",
    "\n",
    "Commencer par représenter le nuage des points des prix (par date) en Californie (axe $X$) et à New York (axe $Y$) pour la bonne qualité.\n",
    "\n",
    "Pour cela,  on commence par créer un DataFrame avec ces informations:"
   ]
  },
  {
   "cell_type": "code",
   "execution_count": 55,
   "metadata": {},
   "outputs": [
    {
     "data": {
      "text/html": [
       "<div>\n",
       "<style scoped>\n",
       "    .dataframe tbody tr th:only-of-type {\n",
       "        vertical-align: middle;\n",
       "    }\n",
       "\n",
       "    .dataframe tbody tr th {\n",
       "        vertical-align: top;\n",
       "    }\n",
       "\n",
       "    .dataframe thead th {\n",
       "        text-align: right;\n",
       "    }\n",
       "</style>\n",
       "<table border=\"1\" class=\"dataframe\">\n",
       "  <thead>\n",
       "    <tr style=\"text-align: right;\">\n",
       "      <th></th>\n",
       "      <th>State_x</th>\n",
       "      <th>HighQ_x</th>\n",
       "      <th>HighQN_x</th>\n",
       "      <th>MedQ_x</th>\n",
       "      <th>MedQN_x</th>\n",
       "      <th>LowQ_x</th>\n",
       "      <th>LowQN_x</th>\n",
       "      <th>date</th>\n",
       "      <th>HighQ_var_x</th>\n",
       "      <th>State_y</th>\n",
       "      <th>HighQ_y</th>\n",
       "      <th>HighQN_y</th>\n",
       "      <th>MedQ_y</th>\n",
       "      <th>MedQN_y</th>\n",
       "      <th>LowQ_y</th>\n",
       "      <th>LowQN_y</th>\n",
       "      <th>HighQ_var_y</th>\n",
       "    </tr>\n",
       "  </thead>\n",
       "  <tbody>\n",
       "    <tr>\n",
       "      <th>0</th>\n",
       "      <td>California</td>\n",
       "      <td>248.78</td>\n",
       "      <td>12096</td>\n",
       "      <td>193.56</td>\n",
       "      <td>12812</td>\n",
       "      <td>192.92</td>\n",
       "      <td>778</td>\n",
       "      <td>2014-01-01</td>\n",
       "      <td>2.982686</td>\n",
       "      <td>New York</td>\n",
       "      <td>351.98</td>\n",
       "      <td>5800</td>\n",
       "      <td>268.88</td>\n",
       "      <td>5824</td>\n",
       "      <td>190.38</td>\n",
       "      <td>482</td>\n",
       "      <td>12.245147</td>\n",
       "    </tr>\n",
       "    <tr>\n",
       "      <th>1</th>\n",
       "      <td>California</td>\n",
       "      <td>243.96</td>\n",
       "      <td>16512</td>\n",
       "      <td>189.35</td>\n",
       "      <td>19151</td>\n",
       "      <td>NaN</td>\n",
       "      <td>1096</td>\n",
       "      <td>2015-01-01</td>\n",
       "      <td>2.982686</td>\n",
       "      <td>New York</td>\n",
       "      <td>343.80</td>\n",
       "      <td>7840</td>\n",
       "      <td>263.56</td>\n",
       "      <td>8716</td>\n",
       "      <td>NaN</td>\n",
       "      <td>616</td>\n",
       "      <td>12.245147</td>\n",
       "    </tr>\n",
       "    <tr>\n",
       "      <th>2</th>\n",
       "      <td>California</td>\n",
       "      <td>248.20</td>\n",
       "      <td>12571</td>\n",
       "      <td>192.80</td>\n",
       "      <td>13406</td>\n",
       "      <td>191.94</td>\n",
       "      <td>804</td>\n",
       "      <td>2014-02-01</td>\n",
       "      <td>2.982686</td>\n",
       "      <td>New York</td>\n",
       "      <td>352.35</td>\n",
       "      <td>6051</td>\n",
       "      <td>268.50</td>\n",
       "      <td>6115</td>\n",
       "      <td>190.16</td>\n",
       "      <td>497</td>\n",
       "      <td>12.245147</td>\n",
       "    </tr>\n",
       "    <tr>\n",
       "      <th>3</th>\n",
       "      <td>California</td>\n",
       "      <td>243.30</td>\n",
       "      <td>16904</td>\n",
       "      <td>188.95</td>\n",
       "      <td>19764</td>\n",
       "      <td>NaN</td>\n",
       "      <td>1123</td>\n",
       "      <td>2015-02-01</td>\n",
       "      <td>2.982686</td>\n",
       "      <td>New York</td>\n",
       "      <td>343.09</td>\n",
       "      <td>8058</td>\n",
       "      <td>262.93</td>\n",
       "      <td>9015</td>\n",
       "      <td>NaN</td>\n",
       "      <td>628</td>\n",
       "      <td>12.245147</td>\n",
       "    </tr>\n",
       "    <tr>\n",
       "      <th>4</th>\n",
       "      <td>California</td>\n",
       "      <td>247.60</td>\n",
       "      <td>12988</td>\n",
       "      <td>192.97</td>\n",
       "      <td>13906</td>\n",
       "      <td>191.40</td>\n",
       "      <td>839</td>\n",
       "      <td>2014-03-01</td>\n",
       "      <td>2.982686</td>\n",
       "      <td>New York</td>\n",
       "      <td>351.18</td>\n",
       "      <td>6209</td>\n",
       "      <td>267.69</td>\n",
       "      <td>6356</td>\n",
       "      <td>189.64</td>\n",
       "      <td>507</td>\n",
       "      <td>12.245147</td>\n",
       "    </tr>\n",
       "  </tbody>\n",
       "</table>\n",
       "</div>"
      ],
      "text/plain": [
       "      State_x  HighQ_x  HighQN_x  MedQ_x  MedQN_x  LowQ_x  LowQN_x       date  \\\n",
       "0  California   248.78     12096  193.56    12812  192.92      778 2014-01-01   \n",
       "1  California   243.96     16512  189.35    19151     NaN     1096 2015-01-01   \n",
       "2  California   248.20     12571  192.80    13406  191.94      804 2014-02-01   \n",
       "3  California   243.30     16904  188.95    19764     NaN     1123 2015-02-01   \n",
       "4  California   247.60     12988  192.97    13906  191.40      839 2014-03-01   \n",
       "\n",
       "   HighQ_var_x   State_y  HighQ_y  HighQN_y  MedQ_y  MedQN_y  LowQ_y  LowQN_y  \\\n",
       "0     2.982686  New York   351.98      5800  268.88     5824  190.38      482   \n",
       "1     2.982686  New York   343.80      7840  263.56     8716     NaN      616   \n",
       "2     2.982686  New York   352.35      6051  268.50     6115  190.16      497   \n",
       "3     2.982686  New York   343.09      8058  262.93     9015     NaN      628   \n",
       "4     2.982686  New York   351.18      6209  267.69     6356  189.64      507   \n",
       "\n",
       "   HighQ_var_y  \n",
       "0    12.245147  \n",
       "1    12.245147  \n",
       "2    12.245147  \n",
       "3    12.245147  \n",
       "4    12.245147  "
      ]
     },
     "execution_count": 55,
     "metadata": {},
     "output_type": "execute_result"
    }
   ],
   "source": [
    "prix_ny=prices_pd[prices_pd['State']=='New York']\n",
    "prix_ca=prices_pd[prices_pd['State']=='California']\n",
    "prix_ca_ny=prix_ca.merge(prix_ny,on='date')\n",
    "prix_ca_ny.head()\n",
    "\n",
    "# Exécuter cette boîte et commenter le résultat obtenu"
   ]
  },
  {
   "cell_type": "markdown",
   "metadata": {},
   "source": [
    "<font color=\"RED\" size=\"+1\">**[Q]**</font> **Nuages de points**\n",
    "\n",
    "\n",
    "Représenter graphiquement le nuage des points : voir <http://matplotlib.org/examples/shapes_and_collections/scatter_demo.html>"
   ]
  },
  {
   "cell_type": "code",
   "execution_count": 57,
   "metadata": {},
   "outputs": [
    {
     "data": {
      "image/png": "[encoded data removed]",
      "text/plain": [
       "<Figure size 640x480 with 1 Axes>"
      ]
     },
     "metadata": {},
     "output_type": "display_data"
    }
   ],
   "source": [
    "abs_HQ = prix_ca_ny[\"HighQ_x\"]\n",
    "ord_HQ = prix_ca_ny[\"HighQ_y\"]\n",
    "plt.scatter(abs_HQ,ord_HQ,s=2)\n",
    "plt.title(\"Nuage pour les prix HighQ\")\n",
    "plt.show()"
   ]
  },
  {
   "cell_type": "code",
   "execution_count": 58,
   "metadata": {},
   "outputs": [
    {
     "data": {
      "image/png": "[encoded data removed]",
      "text/plain": [
       "<Figure size 640x480 with 1 Axes>"
      ]
     },
     "metadata": {},
     "output_type": "display_data"
    }
   ],
   "source": [
    "abs_MQ = prix_ca_ny[\"MedQ_x\"]\n",
    "ord_MQ = prix_ca_ny[\"MedQ_y\"]\n",
    "plt.scatter(abs_MQ,ord_MQ,s=2)\n",
    "plt.title(\"Nuage pour les prix MedQ\")\n",
    "plt.show()"
   ]
  },
  {
   "cell_type": "code",
   "execution_count": 59,
   "metadata": {},
   "outputs": [
    {
     "data": {
      "image/png": "[encoded data removed]",
      "text/plain": [
       "<Figure size 640x480 with 1 Axes>"
      ]
     },
     "metadata": {},
     "output_type": "display_data"
    }
   ],
   "source": [
    "abs_LQ = prix_ca_ny[\"LowQ_x\"]\n",
    "ord_LQ = prix_ca_ny[\"LowQ_y\"]\n",
    "plt.scatter(abs_LQ,ord_LQ,s=2)\n",
    "plt.title(\"Nuage pour les prix LowQ\")\n",
    "plt.show()"
   ]
  },
  {
   "cell_type": "markdown",
   "metadata": {},
   "source": [
    "<font color=\"RED\" size=\"+1\">**[Q]**</font> **Corrélations**\n",
    "\n",
    "A l'aide de la fonction `moyenne` écrite précédemment, écrire une fonction `correlation(X,Y)` qui calcule la corrélation lineaire entre deux variables $X$ et $Y$ fournis sous la forme de deux tableaux Numpy.\n",
    "\n",
    "Remarque: coefficient de corrélation linéaire de deux variables $X$ et $Y$ (on choisit le coefficient de Pearson):\n",
    "$$c = \\frac{cov(X,Y)}{\\sigma_X \\sigma_Y}$$\n",
    "\n",
    "avec les définitions suivantes:\n",
    "- $cov(X,Y)= \\frac{1}{n}\\sum_{i=1}^{n} (x_i-\\bar{X})(y_i-\\bar{Y})$: mesure de covariance entre $X$ et $Y$ qui contiennent chacune $n$ valeurs, et de moyenne $\\bar{X}$ et $\\bar{Y}$ respectivement.\n",
    "- $\\sigma_X = \\sqrt{\\frac{1}{n}\\sum_{i=1}^{n}(x_i - \\bar{X})^2}$: écart-type de la variable $X$ (resp. $\\sigma_Y$ pour la variable $Y$).\n",
    "\n",
    "\n",
    "**Remarque 2: il ne doit pas y avoir de boucle (for, while, compréhension) dans votre fonction...**"
   ]
  },
  {
   "cell_type": "code",
   "execution_count": 60,
   "metadata": {},
   "outputs": [],
   "source": [
    "def correlation(X,Y):\n",
    "    cov = moyenne((X-moyenne(X))*(Y-moyenne(Y)))\n",
    "    stdX = np.sqrt(moyenne((X-moyenne(X))**2))\n",
    "    stdY = np.sqrt(moyenne((Y-moyenne(Y))**2))\n",
    "    return cov/(stdX*stdY)"
   ]
  },
  {
   "cell_type": "code",
   "execution_count": 61,
   "metadata": {},
   "outputs": [
    {
     "name": "stdout",
     "output_type": "stream",
     "text": [
      "Correlation de HighQ_x et HighQ_y : 0.979044\n"
     ]
    }
   ],
   "source": [
    "# Appliquer votre fonction avec l'instruction suivante:\n",
    "\n",
    "print(\"Correlation de HighQ_x et HighQ_y : %f\"%correlation(prix_ca_ny[\"HighQ_x\"].values,prix_ca_ny[\"HighQ_y\"].values))"
   ]
  },
  {
   "cell_type": "markdown",
   "metadata": {},
   "source": [
    "<font color=\"RED\" size=\"+1\">**[Q]**</font> Compléter la ligne suivante pour obtenir le résultat fourni par la fonction pandas `corr`.\n",
    "\n"
   ]
  },
  {
   "cell_type": "code",
   "execution_count": 62,
   "metadata": {},
   "outputs": [
    {
     "data": {
      "text/html": [
       "<div>\n",
       "<style scoped>\n",
       "    .dataframe tbody tr th:only-of-type {\n",
       "        vertical-align: middle;\n",
       "    }\n",
       "\n",
       "    .dataframe tbody tr th {\n",
       "        vertical-align: top;\n",
       "    }\n",
       "\n",
       "    .dataframe thead th {\n",
       "        text-align: right;\n",
       "    }\n",
       "</style>\n",
       "<table border=\"1\" class=\"dataframe\">\n",
       "  <thead>\n",
       "    <tr style=\"text-align: right;\">\n",
       "      <th></th>\n",
       "      <th>HighQ_x</th>\n",
       "      <th>HighQ_y</th>\n",
       "    </tr>\n",
       "  </thead>\n",
       "  <tbody>\n",
       "    <tr>\n",
       "      <th>HighQ_x</th>\n",
       "      <td>1.000000</td>\n",
       "      <td>0.979044</td>\n",
       "    </tr>\n",
       "    <tr>\n",
       "      <th>HighQ_y</th>\n",
       "      <td>0.979044</td>\n",
       "      <td>1.000000</td>\n",
       "    </tr>\n",
       "  </tbody>\n",
       "</table>\n",
       "</div>"
      ],
      "text/plain": [
       "          HighQ_x   HighQ_y\n",
       "HighQ_x  1.000000  0.979044\n",
       "HighQ_y  0.979044  1.000000"
      ]
     },
     "execution_count": 62,
     "metadata": {},
     "output_type": "execute_result"
    }
   ],
   "source": [
    "prix_ca_ny[[\"HighQ_x\",\"HighQ_y\"]].corr()\n"
   ]
  },
  {
   "cell_type": "markdown",
   "metadata": {},
   "source": [
    "<font color=\"RED\" size=\"+1\">**[Q]**</font> **Matrice de corrélations**\n",
    "\n",
    "Calculer la matrice des corrélations pour toutes les combinaisons d'états."
   ]
  },
  {
   "cell_type": "code",
   "execution_count": 63,
   "metadata": {},
   "outputs": [
    {
     "name": "stdout",
     "output_type": "stream",
     "text": [
      "Matrice de corrélation entre les États :\n",
      "                       Alabama    Alaska   Arizona  Arkansas  California  \\\n",
      "Alabama               1.000000  0.938501  0.999225  0.994311    0.997324   \n",
      "Alaska                0.938501  1.000000  0.931900  0.940670    0.922538   \n",
      "Arizona               0.999225  0.931900  1.000000  0.993174    0.999097   \n",
      "Arkansas              0.994311  0.940670  0.993174  1.000000    0.989712   \n",
      "California            0.997324  0.922538  0.999097  0.989712    1.000000   \n",
      "Colorado              0.994125  0.947741  0.993649  0.982396    0.992560   \n",
      "Connecticut           0.993789  0.906101  0.996601  0.986290    0.998673   \n",
      "Delaware              0.998410  0.936315  0.998410  0.996787    0.996338   \n",
      "District of Columbia  0.990757  0.914093  0.993485  0.977568    0.996473   \n",
      "Florida               0.998575  0.929386  0.999750  0.992280    0.999631   \n",
      "Georgia               0.999076  0.933115  0.999594  0.994695    0.998533   \n",
      "Hawaii                0.975802  0.874951  0.979685  0.959458    0.984320   \n",
      "Idaho                 0.958844  0.851995  0.965026  0.937775    0.973233   \n",
      "Illinois              0.997109  0.923008  0.998724  0.989704    0.999570   \n",
      "Indiana               0.999596  0.940843  0.999012  0.995709    0.996795   \n",
      "Iowa                  0.997857  0.926139  0.999239  0.992298    0.999509   \n",
      "Kansas                0.998993  0.933308  0.999704  0.992671    0.999047   \n",
      "Kentucky              0.998430  0.934237  0.998501  0.990444    0.997749   \n",
      "Louisiana             0.998096  0.925102  0.999346  0.992196    0.999498   \n",
      "Maine                 0.971049  0.858874  0.976807  0.954160    0.983974   \n",
      "Montana               0.909494  0.792200  0.918409  0.892923    0.930324   \n",
      "Nebraska              0.995236  0.914001  0.997493  0.988427    0.998781   \n",
      "Nevada                0.991440  0.928265  0.990385  0.983994    0.988394   \n",
      "New Hampshire         0.988860  0.907176  0.991901  0.987497    0.993106   \n",
      "New Jersey            0.993572  0.908890  0.996619  0.987090    0.998750   \n",
      "New Mexico            0.991513  0.940305  0.990816  0.995812    0.987638   \n",
      "New York              0.997017  0.921433  0.998942  0.990744    0.999759   \n",
      "North Carolina        0.998352  0.926649  0.999539  0.993576    0.999282   \n",
      "North Dakota          0.925029  0.805006  0.932790  0.907739    0.942018   \n",
      "Ohio                  0.999810  0.938488  0.999462  0.994623    0.997666   \n",
      "Oklahoma              0.998412  0.930663  0.998045  0.995899    0.996007   \n",
      "Oregon                0.969615  0.857281  0.976464  0.960254    0.983794   \n",
      "Maryland              0.996756  0.932620  0.996302  0.997720    0.993932   \n",
      "Massachusetts         0.988197  0.896454  0.992166  0.978230    0.996046   \n",
      "Michigan              0.914064  0.774702  0.924893  0.903121    0.936487   \n",
      "Minnesota             0.987988  0.895768  0.991678  0.985154    0.993973   \n",
      "Mississippi           0.999432  0.938104  0.999404  0.994610    0.997914   \n",
      "Missouri              0.996547  0.920550  0.997666  0.994103    0.996982   \n",
      "Pennsylvania          0.998945  0.931516  0.999523  0.995122    0.998607   \n",
      "Rhode Island          0.988179  0.900610  0.991878  0.985926    0.993486   \n",
      "South Carolina        0.999300  0.933713  0.999581  0.995542    0.998215   \n",
      "South Dakota          0.779864  0.584667  0.795968  0.785482    0.809385   \n",
      "Tennessee             0.999141  0.929810  0.999766  0.994146    0.998974   \n",
      "Texas                 0.998138  0.926988  0.999432  0.993185    0.999419   \n",
      "Utah                  0.996246  0.930551  0.996496  0.988522    0.996419   \n",
      "Vermont               0.984451  0.887464  0.988969  0.971484    0.993879   \n",
      "Virginia              0.998038  0.930782  0.998856  0.994565    0.997681   \n",
      "Washington            0.997494  0.929316  0.998990  0.990117    0.999566   \n",
      "West Virginia         0.997899  0.944913  0.996001  0.994808    0.992970   \n",
      "Wisconsin             0.998473  0.929843  0.999227  0.994921    0.998236   \n",
      "Wyoming              -0.573870 -0.723606 -0.552343 -0.570138   -0.528109   \n",
      "\n",
      "                      Colorado  Connecticut  Delaware  District of Columbia  \\\n",
      "Alabama               0.994125     0.993789  0.998410              0.990757   \n",
      "Alaska                0.947741     0.906101  0.936315              0.914093   \n",
      "Arizona               0.993649     0.996601  0.998410              0.993485   \n",
      "Arkansas              0.982396     0.986290  0.996787              0.977568   \n",
      "California            0.992560     0.998673  0.996338              0.996473   \n",
      "Colorado              1.000000     0.986442  0.989925              0.991579   \n",
      "Connecticut           0.986442     1.000000  0.993691              0.994840   \n",
      "Delaware              0.989925     0.993691  1.000000              0.987806   \n",
      "District of Columbia  0.991579     0.994840  0.987806              1.000000   \n",
      "Florida               0.993502     0.997694  0.997903              0.994959   \n",
      "Georgia               0.991931     0.996311  0.999267              0.991847   \n",
      "Hawaii                0.972180     0.987458  0.971954              0.986088   \n",
      "Idaho                 0.964273     0.976211  0.952510              0.982795   \n",
      "Illinois              0.992161     0.998434  0.995901              0.996264   \n",
      "Indiana               0.993229     0.993102  0.999327              0.989509   \n",
      "Iowa                  0.992113     0.998215  0.997436              0.994523   \n",
      "Kansas                0.994264     0.996325  0.998260              0.994043   \n",
      "Kentucky              0.995750     0.994077  0.996291              0.993886   \n",
      "Louisiana             0.991309     0.998112  0.997909              0.994355   \n",
      "Maine                 0.969357     0.988028  0.968282              0.988549   \n",
      "Montana               0.907163     0.937240  0.906854              0.941336   \n",
      "Nebraska              0.987336     0.999061  0.995329              0.993757   \n",
      "Nevada                0.981780     0.985400  0.990670              0.979311   \n",
      "New Hampshire         0.978303     0.993956  0.991510              0.985427   \n",
      "New Jersey            0.986673     0.999555  0.993576              0.995185   \n",
      "New Mexico            0.982182     0.984009  0.993125              0.977246   \n",
      "New York              0.990943     0.999042  0.996828              0.995466   \n",
      "North Carolina        0.991302     0.997885  0.998386              0.993297   \n",
      "North Dakota          0.919255     0.948151  0.925544              0.945517   \n",
      "Ohio                  0.993719     0.994271  0.998969              0.990953   \n",
      "Oklahoma              0.987688     0.993844  0.999053              0.987354   \n",
      "Oregon                0.963064     0.989708  0.970016              0.985627   \n",
      "Maryland              0.985487     0.991785  0.998673              0.984045   \n",
      "Massachusetts         0.983277     0.997762  0.986917              0.995782   \n",
      "Michigan              0.899625     0.949487  0.917844              0.937476   \n",
      "Minnesota             0.975878     0.997144  0.990981              0.987302   \n",
      "Mississippi           0.994302     0.994514  0.998680              0.992159   \n",
      "Missouri              0.985649     0.996611  0.998180              0.988696   \n",
      "Pennsylvania          0.991294     0.996639  0.999211              0.991680   \n",
      "Rhode Island          0.976288     0.996154  0.990534              0.985354   \n",
      "South Carolina        0.992111     0.995660  0.999353              0.991364   \n",
      "South Dakota          0.741273     0.832688  0.790619              0.804029   \n",
      "Tennessee             0.992300     0.996916  0.998926              0.992831   \n",
      "Texas                 0.991632     0.998048  0.998231              0.994139   \n",
      "Utah                  0.991281     0.994551  0.995034              0.990882   \n",
      "Vermont               0.980624     0.996233  0.982849              0.994998   \n",
      "Virginia              0.989444     0.995956  0.998973              0.989732   \n",
      "Washington            0.994386     0.997362  0.996076              0.996511   \n",
      "West Virginia         0.991358     0.988384  0.997113              0.984503   \n",
      "Wisconsin             0.990193     0.996511  0.999217              0.990712   \n",
      "Wyoming              -0.595793    -0.491347 -0.563399             -0.523678   \n",
      "\n",
      "                       Florida  ...  South Dakota  Tennessee     Texas  \\\n",
      "Alabama               0.998575  ...      0.779864   0.999141  0.998138   \n",
      "Alaska                0.929386  ...      0.584667   0.929810  0.926988   \n",
      "Arizona               0.999750  ...      0.795968   0.999766  0.999432   \n",
      "Arkansas              0.992280  ...      0.785482   0.994146  0.993185   \n",
      "California            0.999631  ...      0.809385   0.998974  0.999419   \n",
      "Colorado              0.993502  ...      0.741273   0.992300  0.991632   \n",
      "Connecticut           0.997694  ...      0.832688   0.996916  0.998048   \n",
      "Delaware              0.997903  ...      0.790619   0.998926  0.998231   \n",
      "District of Columbia  0.994959  ...      0.804029   0.992831  0.994139   \n",
      "Florida               1.000000  ...      0.801981   0.999663  0.999755   \n",
      "Georgia               0.999394  ...      0.797018   0.999796  0.999457   \n",
      "Hawaii                0.981733  ...      0.830273   0.978983  0.981487   \n",
      "Idaho                 0.968693  ...      0.834045   0.963614  0.967882   \n",
      "Illinois              0.999354  ...      0.811151   0.998592  0.999361   \n",
      "Indiana               0.998333  ...      0.778867   0.999158  0.998088   \n",
      "Iowa                  0.999701  ...      0.809912   0.999355  0.999652   \n",
      "Kansas                0.999625  ...      0.791582   0.999595  0.999317   \n",
      "Kentucky              0.998335  ...      0.779531   0.998092  0.997507   \n",
      "Louisiana             0.999590  ...      0.807610   0.999574  0.999570   \n",
      "Maine                 0.979786  ...      0.848925   0.976461  0.979958   \n",
      "Montana               0.923731  ...      0.855313   0.918999  0.923968   \n",
      "Nebraska              0.998106  ...      0.822191   0.997780  0.998360   \n",
      "Nevada                0.989020  ...      0.768306   0.990522  0.988631   \n",
      "New Hampshire         0.992524  ...      0.829191   0.992607  0.993192   \n",
      "New Jersey            0.997814  ...      0.834827   0.996824  0.998133   \n",
      "New Mexico            0.990290  ...      0.781953   0.991507  0.990932   \n",
      "New York              0.999562  ...      0.816318   0.999020  0.999693   \n",
      "North Carolina        0.999714  ...      0.808991   0.999773  0.999776   \n",
      "North Dakota          0.935802  ...      0.816247   0.932796  0.936344   \n",
      "Ohio                  0.998867  ...      0.783089   0.999428  0.998508   \n",
      "Oklahoma              0.997336  ...      0.797572   0.998566  0.997858   \n",
      "Oregon                0.980006  ...      0.880083   0.976993  0.981263   \n",
      "Maryland              0.995747  ...      0.797059   0.997388  0.996453   \n",
      "Massachusetts         0.993982  ...      0.841369   0.991968  0.994387   \n",
      "Michigan              0.929686  ...      0.912423   0.925856  0.932371   \n",
      "Minnesota             0.993052  ...      0.852515   0.992804  0.994332   \n",
      "Mississippi           0.999115  ...      0.786387   0.999365  0.998793   \n",
      "Missouri              0.997700  ...      0.815770   0.998502  0.998139   \n",
      "Pennsylvania          0.999400  ...      0.800490   0.999828  0.999520   \n",
      "Rhode Island          0.992900  ...      0.851554   0.992564  0.993768   \n",
      "South Carolina        0.999284  ...      0.794982   0.999818  0.999283   \n",
      "South Dakota          0.801981  ...      1.000000   0.799643  0.808468   \n",
      "Tennessee             0.999663  ...      0.799643   1.000000  0.999612   \n",
      "Texas                 0.999755  ...      0.808468   0.999612  1.000000   \n",
      "Utah                  0.996596  ...      0.785057   0.996469  0.996253   \n",
      "Vermont               0.991076  ...      0.841839   0.988690  0.991233   \n",
      "Virginia              0.998557  ...      0.801773   0.999161  0.998674   \n",
      "Washington            0.999497  ...      0.800243   0.998664  0.999029   \n",
      "West Virginia         0.994940  ...      0.758189   0.996309  0.994406   \n",
      "Wisconsin             0.999020  ...      0.802310   0.999532  0.999268   \n",
      "Wyoming              -0.542107  ...     -0.013275  -0.548622 -0.534713   \n",
      "\n",
      "                          Utah   Vermont  Virginia  Washington  West Virginia  \\\n",
      "Alabama               0.996246  0.984451  0.998038    0.997494       0.997899   \n",
      "Alaska                0.930551  0.887464  0.930782    0.929316       0.944913   \n",
      "Arizona               0.996496  0.988969  0.998856    0.998990       0.996001   \n",
      "Arkansas              0.988522  0.971484  0.994565    0.990117       0.994808   \n",
      "California            0.996419  0.993879  0.997681    0.999566       0.992970   \n",
      "Colorado              0.991281  0.980624  0.989444    0.994386       0.991358   \n",
      "Connecticut           0.994551  0.996233  0.995956    0.997362       0.988384   \n",
      "Delaware              0.995034  0.982849  0.998973    0.996076       0.997113   \n",
      "District of Columbia  0.990882  0.994998  0.989732    0.996511       0.984503   \n",
      "Florida               0.996596  0.991076  0.998557    0.999497       0.994940   \n",
      "Georgia               0.996940  0.987640  0.999517    0.998291       0.996716   \n",
      "Hawaii                0.979341  0.991886  0.975420    0.982141       0.965735   \n",
      "Idaho                 0.961156  0.987011  0.956621    0.972154       0.944516   \n",
      "Illinois              0.995634  0.993841  0.996848    0.999225       0.992060   \n",
      "Indiana               0.995842  0.982687  0.998560    0.996995       0.998241   \n",
      "Iowa                  0.996263  0.991616  0.998313    0.999291       0.994000   \n",
      "Kansas                0.996820  0.988841  0.998563    0.999084       0.996192   \n",
      "Kentucky              0.994911  0.987473  0.995937    0.998052       0.995077   \n",
      "Louisiana             0.996978  0.991565  0.999008    0.998946       0.994823   \n",
      "Maine                 0.975796  0.995652  0.972577    0.981645       0.959755   \n",
      "Montana               0.918010  0.950941  0.915850    0.928474       0.897325   \n",
      "Nebraska              0.996583  0.994238  0.997801    0.997627       0.991299   \n",
      "Nevada                0.994220  0.976168  0.992607    0.987271       0.991756   \n",
      "New Hampshire         0.991956  0.986273  0.994500    0.992200       0.987773   \n",
      "New Jersey            0.993648  0.995997  0.995683    0.997763       0.987856   \n",
      "New Mexico            0.983985  0.969186  0.990652    0.988727       0.990920   \n",
      "New York              0.996150  0.993754  0.998086    0.999186       0.992577   \n",
      "North Carolina        0.996190  0.990325  0.999137    0.998875       0.995000   \n",
      "North Dakota          0.937476  0.959870  0.933524    0.937292       0.917039   \n",
      "Ohio                  0.996515  0.985027  0.998762    0.997709       0.997789   \n",
      "Oklahoma              0.994362  0.983713  0.998344    0.995189       0.996028   \n",
      "Oregon                0.973655  0.994635  0.974805    0.981477       0.959191   \n",
      "Maryland              0.992550  0.978927  0.997738    0.993681       0.996260   \n",
      "Massachusetts         0.989431  0.998721  0.989677    0.994646       0.979991   \n",
      "Michigan              0.931097  0.961902  0.928889    0.930930       0.901793   \n",
      "Minnesota             0.990335  0.992221  0.993760    0.991878       0.983316   \n",
      "Mississippi           0.995316  0.985718  0.998026    0.998225       0.996716   \n",
      "Missouri              0.995029  0.987370  0.998925    0.995939       0.994230   \n",
      "Pennsylvania          0.996798  0.987892  0.999540    0.998306       0.996599   \n",
      "Rhode Island          0.990073  0.989846  0.993983    0.991998       0.983762   \n",
      "South Carolina        0.995811  0.986464  0.999078    0.998063       0.996884   \n",
      "South Dakota          0.785057  0.841839  0.801773    0.800243       0.758189   \n",
      "Tennessee             0.996469  0.988690  0.999161    0.998664       0.996309   \n",
      "Texas                 0.996253  0.991233  0.998674    0.999029       0.994406   \n",
      "Utah                  1.000000  0.987457  0.996685    0.996321       0.995136   \n",
      "Vermont               0.987457  1.000000  0.986545    0.991906       0.975476   \n",
      "Virginia              0.996685  0.986545  1.000000    0.997250       0.996321   \n",
      "Washington            0.996321  0.991906  0.997250    1.000000       0.993778   \n",
      "West Virginia         0.995136  0.975476  0.996321    0.993778       1.000000   \n",
      "Wisconsin             0.996920  0.987741  0.999635    0.997709       0.996243   \n",
      "Wyoming              -0.551542 -0.456779 -0.546325   -0.540140      -0.598325   \n",
      "\n",
      "                      Wisconsin   Wyoming  \n",
      "Alabama                0.998473 -0.573870  \n",
      "Alaska                 0.929843 -0.723606  \n",
      "Arizona                0.999227 -0.552343  \n",
      "Arkansas               0.994921 -0.570138  \n",
      "California             0.998236 -0.528109  \n",
      "Colorado               0.990193 -0.595793  \n",
      "Connecticut            0.996511 -0.491347  \n",
      "Delaware               0.999217 -0.563399  \n",
      "District of Columbia   0.990712 -0.523678  \n",
      "Florida                0.999020 -0.542107  \n",
      "Georgia                0.999788 -0.553148  \n",
      "Hawaii                 0.977487 -0.446395  \n",
      "Idaho                  0.959600 -0.410127  \n",
      "Illinois               0.997763 -0.525558  \n",
      "Indiana                0.998831 -0.577599  \n",
      "Iowa                   0.998745 -0.530104  \n",
      "Kansas                 0.999021 -0.557157  \n",
      "Kentucky               0.996616 -0.571373  \n",
      "Louisiana              0.999266 -0.536421  \n",
      "Maine                  0.974660 -0.418962  \n",
      "Montana                0.916146 -0.296411  \n",
      "Nebraska               0.997982 -0.508234  \n",
      "Nevada                 0.992111 -0.578020  \n",
      "New Hampshire          0.994178 -0.495097  \n",
      "New Jersey             0.996310 -0.490192  \n",
      "New Mexico             0.990933 -0.559332  \n",
      "New York               0.998622 -0.520920  \n",
      "North Carolina         0.999403 -0.534488  \n",
      "North Dakota           0.933520 -0.386835  \n",
      "Ohio                   0.999019 -0.571513  \n",
      "Oklahoma               0.998823 -0.559045  \n",
      "Oregon                 0.976153 -0.384790  \n",
      "Maryland               0.997721 -0.557365  \n",
      "Massachusetts          0.991089 -0.466510  \n",
      "Michigan               0.929037 -0.254182  \n",
      "Minnesota              0.993842 -0.460357  \n",
      "Mississippi            0.998497 -0.568567  \n",
      "Missouri               0.998930 -0.528931  \n",
      "Pennsylvania           0.999793 -0.547602  \n",
      "Rhode Island           0.993683 -0.460780  \n",
      "South Carolina         0.999433 -0.556906  \n",
      "South Dakota           0.802310 -0.013275  \n",
      "Tennessee              0.999532 -0.548622  \n",
      "Texas                  0.999268 -0.534713  \n",
      "Utah                   0.996920 -0.551542  \n",
      "Vermont                0.987741 -0.456779  \n",
      "Virginia               0.999635 -0.546325  \n",
      "Washington             0.997709 -0.540140  \n",
      "West Virginia          0.996243 -0.598325  \n",
      "Wisconsin              1.000000 -0.545769  \n",
      "Wyoming               -0.545769  1.000000  \n",
      "\n",
      "[51 rows x 51 columns]\n"
     ]
    }
   ],
   "source": [
    "states = prices_pd['State'].unique()\n",
    "\n",
    "correlation_matrix = pd.DataFrame(data=np.nan, index=states, columns=states)\n",
    "\n",
    "for state1 in states:\n",
    "    for state2 in states:\n",
    "        state1_data = np.array(prices_pd[prices_pd['State'] == state1][['HighQ', 'MedQ']])\n",
    "        state2_data = np.array(prices_pd[prices_pd['State'] == state2][['HighQ', 'MedQ']])\n",
    "        \n",
    "        if len(state1_data) == len(state2_data):\n",
    "            corr = correlation(state1_data,state2_data)\n",
    "        else:\n",
    "            corr = np.nan  # Si les tailles ne correspondent pas\n",
    "        \n",
    "        correlation_matrix.loc[state1, state2] = corr\n",
    "\n",
    "print(\"Matrice de corrélation entre les États :\")\n",
    "print(correlation_matrix)"
   ]
  },
  {
   "cell_type": "markdown",
   "metadata": {},
   "source": [
    "<font color=\"RED\" size=\"+1\">**[Q]**</font> **D'autres corrélations...**\n",
    "\n",
    "\n",
    "Calculer les correlations entre le prix (<tt>low</tt> et <tt>high</tt>) en fonction du revenu moyen par état disponible dans le tableau <tt>demography_pd</tt> chargé au début de cette feuille Jupyter. \n",
    "\n",
    "Que peut-on en conclure ?"
   ]
  },
  {
   "cell_type": "code",
   "execution_count": 64,
   "metadata": {},
   "outputs": [
    {
     "name": "stdout",
     "output_type": "stream",
     "text": [
      "Corrélation entre le prix 'LowQ' et le revenu par habitant: 0.15529315853060285\n",
      "Corrélation entre le prix 'HighQ' et le revenu par habitant: 0.1207034163888323\n"
     ]
    }
   ],
   "source": [
    "prices_pd['State_clean'] = prices_pd['State'].str.strip().str.lower()\n",
    "demography_pd['region_clean'] = demography_pd['region'].str.strip().str.lower()\n",
    "\n",
    "merged_df_cleaned = pd.merge(prices_pd, demography_pd, left_on='State_clean', right_on='region_clean')\n",
    "\n",
    "correlation_low_revenu = correlation(merged_df_cleaned['LowQ'].values, merged_df_cleaned['per_capita_income'].values)\n",
    "\n",
    "correlation_high_revenu = correlation(merged_df_cleaned['HighQ'].values, merged_df_cleaned['per_capita_income'].values)\n",
    "\n",
    "print(\"Corrélation entre le prix 'LowQ' et le revenu par habitant:\", correlation_low_revenu)\n",
    "print(\"Corrélation entre le prix 'HighQ' et le revenu par habitant:\", correlation_high_revenu)"
   ]
  },
  {
   "cell_type": "markdown",
   "metadata": {},
   "source": [
    "LowQ et le revenu par habitant ont une relation linéaire très faible, mais il pourrait y avoir d'autres types de relations entre eux.\n",
    "De même entre HighQ et le revenu par habitant."
   ]
  },
  {
   "cell_type": "code",
   "execution_count": null,
   "metadata": {},
   "outputs": [],
   "source": []
  }
 ],
 "metadata": {
  "kernelspec": {
   "display_name": "Python 3 (ipykernel)",
   "language": "python",
   "name": "python3"
  },
  "language_info": {
   "codemirror_mode": {
    "name": "ipython",
    "version": 3
   },
   "file_extension": ".py",
   "mimetype": "text/x-python",
   "name": "python",
   "nbconvert_exporter": "python",
   "pygments_lexer": "ipython3",
   "version": "3.10.12"
  }
 },
 "nbformat": 4,
 "nbformat_minor": 4
}
