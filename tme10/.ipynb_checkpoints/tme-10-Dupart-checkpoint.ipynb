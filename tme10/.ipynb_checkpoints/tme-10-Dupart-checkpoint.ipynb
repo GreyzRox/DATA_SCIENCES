{
 "cells": [
  {
   "cell_type": "markdown",
   "metadata": {},
   "source": [
    "IA & Data science (LU3IN0226) -- 2024-2025\n",
    "--------\n",
    "*&copy; Equipe pédagogique: Christophe Marsala, Olivier Schwander, Jean-Noël Vittaut.*\n"
   ]
  },
  {
   "cell_type": "markdown",
   "metadata": {},
   "source": [
    "# TD-TME10: méthodes d'ensembles\n",
    "\n",
    "L'objectif de ce notebook est d'implémenter des méthodes d'ensembles et de les évaluer. Dans un premier temps, on se focalisera sur l'algorithme de bagging appliqué aux arbres de décision, puis on passera au random forests.\n",
    "\n",
    "Dans un premier temps, on ne considére que le cas où les attributs sont tous numériques."
   ]
  },
  {
   "cell_type": "markdown",
   "metadata": {},
   "source": [
    "<font color=\"RED\" size=\"+1\">**[Q]**</font> **Indiquer dans la boîte ci-dessous vos noms et prénoms :**"
   ]
  },
  {
   "cell_type": "markdown",
   "metadata": {},
   "source": [
    "DUPART Guillaume"
   ]
  },
  {
   "cell_type": "markdown",
   "metadata": {},
   "source": [
    "<font color=\"RED\" size=\"+1\"><b>[Q]</b></font> **Renommer ce fichier ipython**\n",
    "\n",
    "**Nom à donner au fichier à poster** : *tme-10-Nom1_Nom2.ipynb* \n",
    "- *Nom1* et *Nom2* : noms des membres du binôme\n",
    "- ne pas compresser ou faire une archive: il faut rendre le fichier ipython tel quel, éventuellement, si vous avez d'autres fichiers vous les rendez séparément.\n",
    "\n",
    "**Echancier pour la soumission de votre compte-rendu:**\n",
    "- le compte-rendu d'une séance doit être remis obligatoirement <font color=\"RED\">avant la séance suivante</font>.\n",
    "\n",
    "**Le compte-rendu est soumis sur la page Moodle.**"
   ]
  },
  {
   "cell_type": "code",
   "execution_count": 1,
   "metadata": {},
   "outputs": [
    {
     "name": "stdout",
     "output_type": "stream",
     "text": [
      "Version python et des librairies:\n",
      "\tPython  3.10.12 (main, Feb  4 2025, 14:57:36) [GCC 11.4.0]\n",
      "\tpandas:  2.2.3\n",
      "\tnumpy:  2.2.5\n",
      "\tmatplotlib:  3.10.3\n"
     ]
    },
    {
     "name": "stderr",
     "output_type": "stream",
     "text": [
      "/home/yanis/.local/lib/python3.10/site-packages/matplotlib/projections/__init__.py:63: UserWarning: Unable to import Axes3D. This may be due to multiple versions of Matplotlib being installed (e.g. as a system package and as a pip package). As a result, the 3D projection is not available.\n",
      "  warnings.warn(\"Unable to import Axes3D. This may be due to multiple versions of \"\n"
     ]
    }
   ],
   "source": [
    "# - - - - - - - - - - - - - - - - - -\n",
    "# imports utiles\n",
    "import numpy as np\n",
    "import pandas as pd\n",
    "import matplotlib.pyplot as plt\n",
    "import matplotlib as mtpl\n",
    "import graphviz as gv\n",
    "%matplotlib inline  \n",
    "\n",
    "import math\n",
    "import time\n",
    "import sys\n",
    "\n",
    "# Les instructions suivantes sont utiles pour recharger automatiquement \n",
    "# le code modifié dans les librairies externes\n",
    "%load_ext autoreload\n",
    "%autoreload 2\n",
    "\n",
    "# - - - - - - - - - - - - - - - - - -\n",
    "# Information sur l'environnent utilisé ici:\n",
    "print(\"Version python et des librairies:\")\n",
    "print(\"\\tPython \",sys.version)\n",
    "print(\"\\tpandas: \",pd.__version__)\n",
    "print(\"\\tnumpy: \",np.__version__)\n",
    "print(\"\\tmatplotlib: \",mtpl.__version__)"
   ]
  },
  {
   "cell_type": "code",
   "execution_count": 2,
   "metadata": {},
   "outputs": [],
   "source": [
    "# Importation de votre librairie iads:\n",
    "# La ligne suivante permet de préciser le chemin d'accès à la librairie iads\n",
    "sys.path.append('../')   # iads doit être dans le répertoire père du répertoire courant !\n",
    "\n",
    "# Importation de la librairie iads\n",
    "import iads as iads\n",
    "\n",
    "# importation de Classifiers\n",
    "from iads import Classifiers as classif\n",
    "\n",
    "# importation de utils\n",
    "from iads import utils as ut\n",
    "\n",
    "# importation de evaluation\n",
    "from iads import evaluation as ev\n",
    "\n",
    "# importation de Clustering\n",
    "from iads import Clustering as clust\n"
   ]
  },
  {
   "cell_type": "markdown",
   "metadata": {},
   "source": [
    "## Préparation : retour sur les arbres de décision"
   ]
  },
  {
   "cell_type": "markdown",
   "metadata": {},
   "source": [
    "### Création d'un dataset pour tester les fonctions"
   ]
  },
  {
   "cell_type": "code",
   "execution_count": 3,
   "metadata": {},
   "outputs": [
    {
     "name": "stdout",
     "output_type": "stream",
     "text": [
      "Taille du dataset généré : (100, 2) exemples\n"
     ]
    },
    {
     "data": {
      "image/png": "[encoded data removed]",
      "text/plain": [
       "<Figure size 640x480 with 1 Axes>"
      ]
     },
     "metadata": {},
     "output_type": "display_data"
    }
   ],
   "source": [
    "# REMARQUE: une fois les importations faites, les fonctions de utils sont utilisables\n",
    "#  en mettant ut. devant leur nom:\n",
    "\n",
    "# Exemple d'utilisation:\n",
    "np.random.seed(42)   # on prend 42 comme graine\n",
    "\n",
    "d_desc_gauss, d_label_gauss = ut.genere_dataset_gaussian(np.array([1,1]) ,np.array([[1,0],[0,1]]), \\\n",
    "                                                       np.array([-0.5,-1]), np.array([[1,0],[0,1]]), \\\n",
    "                                                       50)\n",
    "\n",
    "print(\"Taille du dataset généré :\", np.shape(d_desc_gauss), \"exemples\")\n",
    "\n",
    "# Affichage :\n",
    "ut.plot2DSet(d_desc_gauss,d_label_gauss)\n",
    "\n"
   ]
  },
  {
   "cell_type": "markdown",
   "metadata": {},
   "source": [
    "### Frontière de séparation des classes \n",
    "\n",
    "<font color=\"RED\" size=\"+1\"><b>[Q]</b></font> En utilisant vos fonctions de construction des arbres numériques du TME 8, afficher la frontière de séparation des classes et l'arbre obtenu pour les données générées."
   ]
  },
  {
   "cell_type": "code",
   "execution_count": 7,
   "metadata": {},
   "outputs": [
    {
     "name": "stdout",
     "output_type": "stream",
     "text": [
      "Accuracy : 1.0\n"
     ]
    },
    {
     "data": {
      "image/png": "[encoded data removed]",
      "text/plain": [
       "<Figure size 640x480 with 1 Axes>"
      ]
     },
     "metadata": {},
     "output_type": "display_data"
    }
   ],
   "source": [
    "# Initialiation d'un arbre pour le dataset généré:\n",
    "arbre_num = classif.ClassifierArbreNumerique(len(d_desc_gauss),0.0, d_label_gauss)\n",
    "\n",
    "# Construction de l'arbre de décision à partir du dataset Iris\n",
    "arbre_num.train(d_desc_gauss,d_label_gauss)\n",
    "print(\"Accuracy :\",arbre_num.accuracy(d_desc_gauss,d_label_gauss))\n",
    "\n",
    "# Affichage de la frontière de séparation\n",
    "ut.plot_frontiere(d_desc_gauss,d_label_gauss,arbre_num)\n",
    "ut.plot2DSet(d_desc_gauss,d_label_gauss)"
   ]
  },
  {
   "cell_type": "markdown",
   "metadata": {},
   "source": [
    "<font color=\"RED\" size=\"+1\"><b>[Q]</b></font> Afficher l'arbre construit."
   ]
  },
  {
   "cell_type": "code",
   "execution_count": 8,
   "metadata": {},
   "outputs": [
    {
     "data": {
      "image/svg+xml": [
       "<?xml version=\"1.0\" encoding=\"UTF-8\" standalone=\"no\"?>\n",
       "<!DOCTYPE svg PUBLIC \"-//W3C//DTD SVG 1.1//EN\"\n",
       " \"http://www.w3.org/Graphics/SVG/1.1/DTD/svg11.dtd\">\n",
       "<!-- Generated by graphviz version 2.43.0 (0)\n",
       " -->\n",
       "<!-- Title: %3 Pages: 1 -->\n",
       "<svg width=\"717pt\" height=\"914pt\"\n",
       " viewBox=\"0.00 0.00 717.00 914.00\" xmlns=\"http://www.w3.org/2000/svg\" xmlns:xlink=\"http://www.w3.org/1999/xlink\">\n",
       "<g id=\"graph0\" class=\"graph\" transform=\"scale(1 1) rotate(0) translate(4 910)\">\n",
       "<title>%3</title>\n",
       "<polygon fill=\"white\" stroke=\"transparent\" points=\"-4,4 -4,-910 713,-910 713,4 -4,4\"/>\n",
       "<!-- A -->\n",
       "<g id=\"node1\" class=\"node\">\n",
       "<title>A</title>\n",
       "<ellipse fill=\"none\" stroke=\"black\" cx=\"133\" cy=\"-888\" rx=\"27\" ry=\"18\"/>\n",
       "<text text-anchor=\"middle\" x=\"133\" y=\"-884.3\" font-family=\"Times,serif\" font-size=\"14.00\">&#45;1</text>\n",
       "</g>\n",
       "<!-- Ag -->\n",
       "<g id=\"node2\" class=\"node\">\n",
       "<title>Ag</title>\n",
       "<polygon fill=\"none\" stroke=\"black\" points=\"60,-819 6,-819 6,-783 60,-783 60,-819\"/>\n",
       "<text text-anchor=\"middle\" x=\"33\" y=\"-797.3\" font-family=\"Times,serif\" font-size=\"14.00\">&#45;1</text>\n",
       "</g>\n",
       "<!-- A&#45;&gt;Ag -->\n",
       "<g id=\"edge19\" class=\"edge\">\n",
       "<title>A&#45;&gt;Ag</title>\n",
       "<path fill=\"none\" stroke=\"black\" d=\"M106.2,-885.6C82.92,-882.8 50.44,-874.76 34,-852 29.33,-845.54 27.89,-837.29 27.95,-829.35\"/>\n",
       "<polygon fill=\"black\" stroke=\"black\" points=\"31.44,-829.54 28.75,-819.29 24.47,-828.98 31.44,-829.54\"/>\n",
       "<text text-anchor=\"middle\" x=\"123\" y=\"-840.8\" font-family=\"Times,serif\" font-size=\"14.00\">&lt;=&#45;0.624301981654328</text>\n",
       "</g>\n",
       "<!-- Ad -->\n",
       "<g id=\"node3\" class=\"node\">\n",
       "<title>Ad</title>\n",
       "<ellipse fill=\"none\" stroke=\"black\" cx=\"234\" cy=\"-801\" rx=\"27\" ry=\"18\"/>\n",
       "<text text-anchor=\"middle\" x=\"234\" y=\"-797.3\" font-family=\"Times,serif\" font-size=\"14.00\">&#45;1</text>\n",
       "</g>\n",
       "<!-- A&#45;&gt;Ad -->\n",
       "<g id=\"edge20\" class=\"edge\">\n",
       "<title>A&#45;&gt;Ad</title>\n",
       "<path fill=\"none\" stroke=\"black\" d=\"M158.19,-881C175.25,-875.81 197.27,-866.76 212,-852 218.45,-845.53 223.16,-836.86 226.53,-828.54\"/>\n",
       "<polygon fill=\"black\" stroke=\"black\" points=\"229.83,-829.71 229.89,-819.11 223.24,-827.36 229.83,-829.71\"/>\n",
       "<text text-anchor=\"middle\" x=\"305\" y=\"-840.8\" font-family=\"Times,serif\" font-size=\"14.00\">&gt;&#45;0.624301981654328</text>\n",
       "</g>\n",
       "<!-- Adg -->\n",
       "<g id=\"node4\" class=\"node\">\n",
       "<title>Adg</title>\n",
       "<ellipse fill=\"none\" stroke=\"black\" cx=\"132\" cy=\"-714\" rx=\"27\" ry=\"18\"/>\n",
       "<text text-anchor=\"middle\" x=\"132\" y=\"-710.3\" font-family=\"Times,serif\" font-size=\"14.00\">&#45;1</text>\n",
       "</g>\n",
       "<!-- Ad&#45;&gt;Adg -->\n",
       "<g id=\"edge17\" class=\"edge\">\n",
       "<title>Ad&#45;&gt;Adg</title>\n",
       "<path fill=\"none\" stroke=\"black\" d=\"M207.14,-798.82C183.37,-796.19 149.91,-788.27 133,-765 128.24,-758.46 126.82,-750.05 126.93,-742.01\"/>\n",
       "<polygon fill=\"black\" stroke=\"black\" points=\"130.43,-742.1 127.8,-731.83 123.46,-741.49 130.43,-742.1\"/>\n",
       "<text text-anchor=\"middle\" x=\"224\" y=\"-753.8\" font-family=\"Times,serif\" font-size=\"14.00\">&lt;=0.8522781845089378</text>\n",
       "</g>\n",
       "<!-- Add -->\n",
       "<g id=\"node21\" class=\"node\">\n",
       "<title>Add</title>\n",
       "<polygon fill=\"none\" stroke=\"black\" points=\"364,-732 310,-732 310,-696 364,-696 364,-732\"/>\n",
       "<text text-anchor=\"middle\" x=\"337\" y=\"-710.3\" font-family=\"Times,serif\" font-size=\"14.00\">1</text>\n",
       "</g>\n",
       "<!-- Ad&#45;&gt;Add -->\n",
       "<g id=\"edge18\" class=\"edge\">\n",
       "<title>Ad&#45;&gt;Add</title>\n",
       "<path fill=\"none\" stroke=\"black\" d=\"M259.45,-794.26C276.99,-789.17 299.78,-780.11 315,-765 321.48,-758.56 326.2,-749.89 329.56,-741.58\"/>\n",
       "<polygon fill=\"black\" stroke=\"black\" points=\"332.87,-742.74 332.92,-732.14 326.27,-740.39 332.87,-742.74\"/>\n",
       "<text text-anchor=\"middle\" x=\"410\" y=\"-753.8\" font-family=\"Times,serif\" font-size=\"14.00\">&gt;0.8522781845089378</text>\n",
       "</g>\n",
       "<!-- Adgg -->\n",
       "<g id=\"node5\" class=\"node\">\n",
       "<title>Adgg</title>\n",
       "<polygon fill=\"none\" stroke=\"black\" points=\"54,-645 0,-645 0,-609 54,-609 54,-645\"/>\n",
       "<text text-anchor=\"middle\" x=\"27\" y=\"-623.3\" font-family=\"Times,serif\" font-size=\"14.00\">&#45;1</text>\n",
       "</g>\n",
       "<!-- Adg&#45;&gt;Adgg -->\n",
       "<g id=\"edge15\" class=\"edge\">\n",
       "<title>Adg&#45;&gt;Adgg</title>\n",
       "<path fill=\"none\" stroke=\"black\" d=\"M104.84,-712.12C80.36,-709.72 45.58,-701.96 28,-678 23.29,-671.58 21.82,-663.33 21.89,-655.4\"/>\n",
       "<polygon fill=\"black\" stroke=\"black\" points=\"25.38,-655.58 22.7,-645.33 18.41,-655.01 25.38,-655.58\"/>\n",
       "<text text-anchor=\"middle\" x=\"121.5\" y=\"-666.8\" font-family=\"Times,serif\" font-size=\"14.00\">&lt;=&#45;0.5358260391099515</text>\n",
       "</g>\n",
       "<!-- Adgd -->\n",
       "<g id=\"node6\" class=\"node\">\n",
       "<title>Adgd</title>\n",
       "<ellipse fill=\"none\" stroke=\"black\" cx=\"237\" cy=\"-627\" rx=\"27\" ry=\"18\"/>\n",
       "<text text-anchor=\"middle\" x=\"237\" y=\"-623.3\" font-family=\"Times,serif\" font-size=\"14.00\">&#45;1</text>\n",
       "</g>\n",
       "<!-- Adg&#45;&gt;Adgd -->\n",
       "<g id=\"edge16\" class=\"edge\">\n",
       "<title>Adg&#45;&gt;Adgd</title>\n",
       "<path fill=\"none\" stroke=\"black\" d=\"M157.31,-707.63C175.37,-702.65 199.18,-693.58 215,-678 221.51,-671.59 226.23,-662.93 229.6,-654.61\"/>\n",
       "<polygon fill=\"black\" stroke=\"black\" points=\"232.9,-655.76 232.94,-645.17 226.3,-653.43 232.9,-655.76\"/>\n",
       "<text text-anchor=\"middle\" x=\"312.5\" y=\"-666.8\" font-family=\"Times,serif\" font-size=\"14.00\">&gt;&#45;0.5358260391099515</text>\n",
       "</g>\n",
       "<!-- Adgdg -->\n",
       "<g id=\"node7\" class=\"node\">\n",
       "<title>Adgdg</title>\n",
       "<ellipse fill=\"none\" stroke=\"black\" cx=\"134\" cy=\"-540\" rx=\"27\" ry=\"18\"/>\n",
       "<text text-anchor=\"middle\" x=\"134\" y=\"-536.3\" font-family=\"Times,serif\" font-size=\"14.00\">&#45;1</text>\n",
       "</g>\n",
       "<!-- Adgd&#45;&gt;Adgdg -->\n",
       "<g id=\"edge13\" class=\"edge\">\n",
       "<title>Adgd&#45;&gt;Adgdg</title>\n",
       "<path fill=\"none\" stroke=\"black\" d=\"M209.7,-625.41C184.66,-623.24 148.83,-615.66 131,-591 126.2,-584.36 125.34,-575.83 126.17,-567.71\"/>\n",
       "<polygon fill=\"black\" stroke=\"black\" points=\"129.62,-568.27 127.95,-557.81 122.74,-567.03 129.62,-568.27\"/>\n",
       "<text text-anchor=\"middle\" x=\"222\" y=\"-579.8\" font-family=\"Times,serif\" font-size=\"14.00\">&lt;=1.0792128155073915</text>\n",
       "</g>\n",
       "<!-- Adgdd -->\n",
       "<g id=\"node20\" class=\"node\">\n",
       "<title>Adgdd</title>\n",
       "<polygon fill=\"none\" stroke=\"black\" points=\"366,-558 312,-558 312,-522 366,-522 366,-558\"/>\n",
       "<text text-anchor=\"middle\" x=\"339\" y=\"-536.3\" font-family=\"Times,serif\" font-size=\"14.00\">1</text>\n",
       "</g>\n",
       "<!-- Adgd&#45;&gt;Adgdd -->\n",
       "<g id=\"edge14\" class=\"edge\">\n",
       "<title>Adgd&#45;&gt;Adgdd</title>\n",
       "<path fill=\"none\" stroke=\"black\" d=\"M262.14,-620.19C279.46,-615.05 301.98,-605.99 317,-591 323.47,-584.55 328.18,-575.87 331.55,-567.56\"/>\n",
       "<polygon fill=\"black\" stroke=\"black\" points=\"334.85,-568.72 334.9,-558.13 328.25,-566.38 334.85,-568.72\"/>\n",
       "<text text-anchor=\"middle\" x=\"412\" y=\"-579.8\" font-family=\"Times,serif\" font-size=\"14.00\">&gt;1.0792128155073915</text>\n",
       "</g>\n",
       "<!-- Adgdgg -->\n",
       "<g id=\"node8\" class=\"node\">\n",
       "<title>Adgdgg</title>\n",
       "<polygon fill=\"none\" stroke=\"black\" points=\"56,-471 2,-471 2,-435 56,-435 56,-471\"/>\n",
       "<text text-anchor=\"middle\" x=\"29\" y=\"-449.3\" font-family=\"Times,serif\" font-size=\"14.00\">1</text>\n",
       "</g>\n",
       "<!-- Adgdg&#45;&gt;Adgdgg -->\n",
       "<g id=\"edge11\" class=\"edge\">\n",
       "<title>Adgdg&#45;&gt;Adgdgg</title>\n",
       "<path fill=\"none\" stroke=\"black\" d=\"M106.84,-538.12C82.36,-535.72 47.58,-527.96 30,-504 25.29,-497.58 23.82,-489.33 23.89,-481.4\"/>\n",
       "<polygon fill=\"black\" stroke=\"black\" points=\"27.38,-481.58 24.7,-471.33 20.41,-481.01 27.38,-481.58\"/>\n",
       "<text text-anchor=\"middle\" x=\"123.5\" y=\"-492.8\" font-family=\"Times,serif\" font-size=\"14.00\">&lt;=&#45;0.3204566130842763</text>\n",
       "</g>\n",
       "<!-- Adgdgd -->\n",
       "<g id=\"node9\" class=\"node\">\n",
       "<title>Adgdgd</title>\n",
       "<ellipse fill=\"none\" stroke=\"black\" cx=\"239\" cy=\"-453\" rx=\"27\" ry=\"18\"/>\n",
       "<text text-anchor=\"middle\" x=\"239\" y=\"-449.3\" font-family=\"Times,serif\" font-size=\"14.00\">&#45;1</text>\n",
       "</g>\n",
       "<!-- Adgdg&#45;&gt;Adgdgd -->\n",
       "<g id=\"edge12\" class=\"edge\">\n",
       "<title>Adgdg&#45;&gt;Adgdgd</title>\n",
       "<path fill=\"none\" stroke=\"black\" d=\"M159.31,-533.63C177.37,-528.65 201.18,-519.58 217,-504 223.51,-497.59 228.23,-488.93 231.6,-480.61\"/>\n",
       "<polygon fill=\"black\" stroke=\"black\" points=\"234.9,-481.76 234.94,-471.17 228.3,-479.43 234.9,-481.76\"/>\n",
       "<text text-anchor=\"middle\" x=\"314.5\" y=\"-492.8\" font-family=\"Times,serif\" font-size=\"14.00\">&gt;&#45;0.3204566130842763</text>\n",
       "</g>\n",
       "<!-- Adgdgdg -->\n",
       "<g id=\"node10\" class=\"node\">\n",
       "<title>Adgdgdg</title>\n",
       "<ellipse fill=\"none\" stroke=\"black\" cx=\"137\" cy=\"-366\" rx=\"27\" ry=\"18\"/>\n",
       "<text text-anchor=\"middle\" x=\"137\" y=\"-362.3\" font-family=\"Times,serif\" font-size=\"14.00\">&#45;1</text>\n",
       "</g>\n",
       "<!-- Adgdgd&#45;&gt;Adgdgdg -->\n",
       "<g id=\"edge9\" class=\"edge\">\n",
       "<title>Adgdgd&#45;&gt;Adgdgdg</title>\n",
       "<path fill=\"none\" stroke=\"black\" d=\"M212.14,-450.82C188.37,-448.19 154.91,-440.27 138,-417 133.24,-410.46 131.82,-402.05 131.93,-394.01\"/>\n",
       "<polygon fill=\"black\" stroke=\"black\" points=\"135.43,-394.1 132.8,-383.83 128.46,-393.49 135.43,-394.1\"/>\n",
       "<text text-anchor=\"middle\" x=\"229\" y=\"-405.8\" font-family=\"Times,serif\" font-size=\"14.00\">&lt;=0.5380365664659692</text>\n",
       "</g>\n",
       "<!-- Adgdgdd -->\n",
       "<g id=\"node19\" class=\"node\">\n",
       "<title>Adgdgdd</title>\n",
       "<polygon fill=\"none\" stroke=\"black\" points=\"369,-384 315,-384 315,-348 369,-348 369,-384\"/>\n",
       "<text text-anchor=\"middle\" x=\"342\" y=\"-362.3\" font-family=\"Times,serif\" font-size=\"14.00\">1</text>\n",
       "</g>\n",
       "<!-- Adgdgd&#45;&gt;Adgdgdd -->\n",
       "<g id=\"edge10\" class=\"edge\">\n",
       "<title>Adgdgd&#45;&gt;Adgdgdd</title>\n",
       "<path fill=\"none\" stroke=\"black\" d=\"M264.45,-446.26C281.99,-441.17 304.78,-432.11 320,-417 326.48,-410.56 331.2,-401.89 334.56,-393.58\"/>\n",
       "<polygon fill=\"black\" stroke=\"black\" points=\"337.87,-394.74 337.92,-384.14 331.27,-392.39 337.87,-394.74\"/>\n",
       "<text text-anchor=\"middle\" x=\"415\" y=\"-405.8\" font-family=\"Times,serif\" font-size=\"14.00\">&gt;0.5380365664659692</text>\n",
       "</g>\n",
       "<!-- Adgdgdgg -->\n",
       "<g id=\"node11\" class=\"node\">\n",
       "<title>Adgdgdgg</title>\n",
       "<polygon fill=\"none\" stroke=\"black\" points=\"55,-297 1,-297 1,-261 55,-261 55,-297\"/>\n",
       "<text text-anchor=\"middle\" x=\"28\" y=\"-275.3\" font-family=\"Times,serif\" font-size=\"14.00\">&#45;1</text>\n",
       "</g>\n",
       "<!-- Adgdgdg&#45;&gt;Adgdgdgg -->\n",
       "<g id=\"edge7\" class=\"edge\">\n",
       "<title>Adgdgdg&#45;&gt;Adgdgdgg</title>\n",
       "<path fill=\"none\" stroke=\"black\" d=\"M109.8,-364.53C84.35,-362.48 47.57,-355 29,-330 24.25,-323.6 22.78,-315.36 22.84,-307.43\"/>\n",
       "<polygon fill=\"black\" stroke=\"black\" points=\"26.34,-307.6 23.67,-297.35 19.36,-307.03 26.34,-307.6\"/>\n",
       "<text text-anchor=\"middle\" x=\"127\" y=\"-318.8\" font-family=\"Times,serif\" font-size=\"14.00\">&lt;=&#45;0.13860439449158607</text>\n",
       "</g>\n",
       "<!-- Adgdgdgd -->\n",
       "<g id=\"node12\" class=\"node\">\n",
       "<title>Adgdgdgd</title>\n",
       "<ellipse fill=\"none\" stroke=\"black\" cx=\"247\" cy=\"-279\" rx=\"27\" ry=\"18\"/>\n",
       "<text text-anchor=\"middle\" x=\"247\" y=\"-275.3\" font-family=\"Times,serif\" font-size=\"14.00\">&#45;1</text>\n",
       "</g>\n",
       "<!-- Adgdgdg&#45;&gt;Adgdgdgd -->\n",
       "<g id=\"edge8\" class=\"edge\">\n",
       "<title>Adgdgdg&#45;&gt;Adgdgdgd</title>\n",
       "<path fill=\"none\" stroke=\"black\" d=\"M163.01,-360.2C182.25,-355.46 207.96,-346.44 225,-330 231.57,-323.66 236.32,-315.01 239.67,-306.69\"/>\n",
       "<polygon fill=\"black\" stroke=\"black\" points=\"242.98,-307.83 243,-297.23 236.38,-305.5 242.98,-307.83\"/>\n",
       "<text text-anchor=\"middle\" x=\"327\" y=\"-318.8\" font-family=\"Times,serif\" font-size=\"14.00\">&gt;&#45;0.13860439449158607</text>\n",
       "</g>\n",
       "<!-- Adgdgdgdg -->\n",
       "<g id=\"node13\" class=\"node\">\n",
       "<title>Adgdgdgdg</title>\n",
       "<polygon fill=\"none\" stroke=\"black\" points=\"172,-210 118,-210 118,-174 172,-174 172,-210\"/>\n",
       "<text text-anchor=\"middle\" x=\"145\" y=\"-188.3\" font-family=\"Times,serif\" font-size=\"14.00\">1</text>\n",
       "</g>\n",
       "<!-- Adgdgdgd&#45;&gt;Adgdgdgdg -->\n",
       "<g id=\"edge5\" class=\"edge\">\n",
       "<title>Adgdgdgd&#45;&gt;Adgdgdgdg</title>\n",
       "<path fill=\"none\" stroke=\"black\" d=\"M220.14,-276.82C196.37,-274.19 162.91,-266.27 146,-243 141.31,-236.55 139.86,-228.3 139.92,-220.37\"/>\n",
       "<polygon fill=\"black\" stroke=\"black\" points=\"143.42,-220.55 140.73,-210.3 136.44,-219.99 143.42,-220.55\"/>\n",
       "<text text-anchor=\"middle\" x=\"237\" y=\"-231.8\" font-family=\"Times,serif\" font-size=\"14.00\">&lt;=0.1104855703744767</text>\n",
       "</g>\n",
       "<!-- Adgdgdgdd -->\n",
       "<g id=\"node14\" class=\"node\">\n",
       "<title>Adgdgdgdd</title>\n",
       "<ellipse fill=\"none\" stroke=\"black\" cx=\"350\" cy=\"-192\" rx=\"27\" ry=\"18\"/>\n",
       "<text text-anchor=\"middle\" x=\"350\" y=\"-188.3\" font-family=\"Times,serif\" font-size=\"14.00\">&#45;1</text>\n",
       "</g>\n",
       "<!-- Adgdgdgd&#45;&gt;Adgdgdgdd -->\n",
       "<g id=\"edge6\" class=\"edge\">\n",
       "<title>Adgdgdgd&#45;&gt;Adgdgdgdd</title>\n",
       "<path fill=\"none\" stroke=\"black\" d=\"M272.45,-272.26C289.99,-267.17 312.78,-258.11 328,-243 334.48,-236.56 339.2,-227.89 342.56,-219.58\"/>\n",
       "<polygon fill=\"black\" stroke=\"black\" points=\"345.87,-220.74 345.92,-210.14 339.27,-218.39 345.87,-220.74\"/>\n",
       "<text text-anchor=\"middle\" x=\"423\" y=\"-231.8\" font-family=\"Times,serif\" font-size=\"14.00\">&gt;0.1104855703744767</text>\n",
       "</g>\n",
       "<!-- Adgdgdgddg -->\n",
       "<g id=\"node15\" class=\"node\">\n",
       "<title>Adgdgdgddg</title>\n",
       "<polygon fill=\"none\" stroke=\"black\" points=\"279,-123 225,-123 225,-87 279,-87 279,-123\"/>\n",
       "<text text-anchor=\"middle\" x=\"252\" y=\"-101.3\" font-family=\"Times,serif\" font-size=\"14.00\">&#45;1</text>\n",
       "</g>\n",
       "<!-- Adgdgdgdd&#45;&gt;Adgdgdgddg -->\n",
       "<g id=\"edge3\" class=\"edge\">\n",
       "<title>Adgdgdgdd&#45;&gt;Adgdgdgddg</title>\n",
       "<path fill=\"none\" stroke=\"black\" d=\"M323.28,-189.37C300.5,-186.41 268.97,-178.26 253,-156 248.36,-149.52 246.91,-141.27 246.97,-133.33\"/>\n",
       "<polygon fill=\"black\" stroke=\"black\" points=\"250.47,-133.52 247.77,-123.27 243.49,-132.96 250.47,-133.52\"/>\n",
       "<text text-anchor=\"middle\" x=\"339.5\" y=\"-144.8\" font-family=\"Times,serif\" font-size=\"14.00\">&lt;=0.530999522495951</text>\n",
       "</g>\n",
       "<!-- Adgdgdgddd -->\n",
       "<g id=\"node16\" class=\"node\">\n",
       "<title>Adgdgdgddd</title>\n",
       "<ellipse fill=\"none\" stroke=\"black\" cx=\"448\" cy=\"-105\" rx=\"27\" ry=\"18\"/>\n",
       "<text text-anchor=\"middle\" x=\"448\" y=\"-101.3\" font-family=\"Times,serif\" font-size=\"14.00\">&#45;1</text>\n",
       "</g>\n",
       "<!-- Adgdgdgdd&#45;&gt;Adgdgdgddd -->\n",
       "<g id=\"edge4\" class=\"edge\">\n",
       "<title>Adgdgdgdd&#45;&gt;Adgdgdgddd</title>\n",
       "<path fill=\"none\" stroke=\"black\" d=\"M374.95,-184.54C391.26,-179.22 412.05,-170.19 426,-156 432.4,-149.49 437.1,-140.8 440.47,-132.49\"/>\n",
       "<polygon fill=\"black\" stroke=\"black\" points=\"443.77,-133.66 443.84,-123.07 437.18,-131.31 443.77,-133.66\"/>\n",
       "<text text-anchor=\"middle\" x=\"516.5\" y=\"-144.8\" font-family=\"Times,serif\" font-size=\"14.00\">&gt;0.530999522495951</text>\n",
       "</g>\n",
       "<!-- Adgdgdgdddg -->\n",
       "<g id=\"node17\" class=\"node\">\n",
       "<title>Adgdgdgdddg</title>\n",
       "<polygon fill=\"none\" stroke=\"black\" points=\"373,-36 319,-36 319,0 373,0 373,-36\"/>\n",
       "<text text-anchor=\"middle\" x=\"346\" y=\"-14.3\" font-family=\"Times,serif\" font-size=\"14.00\">1</text>\n",
       "</g>\n",
       "<!-- Adgdgdgddd&#45;&gt;Adgdgdgdddg -->\n",
       "<g id=\"edge1\" class=\"edge\">\n",
       "<title>Adgdgdgddd&#45;&gt;Adgdgdgdddg</title>\n",
       "<path fill=\"none\" stroke=\"black\" d=\"M421.14,-102.82C397.37,-100.19 363.91,-92.27 347,-69 342.31,-62.55 340.86,-54.3 340.92,-46.37\"/>\n",
       "<polygon fill=\"black\" stroke=\"black\" points=\"344.42,-46.55 341.73,-36.3 337.44,-45.99 344.42,-46.55\"/>\n",
       "<text text-anchor=\"middle\" x=\"438\" y=\"-57.8\" font-family=\"Times,serif\" font-size=\"14.00\">&lt;=1.0582087184459998</text>\n",
       "</g>\n",
       "<!-- Adgdgdgdddd -->\n",
       "<g id=\"node18\" class=\"node\">\n",
       "<title>Adgdgdgdddd</title>\n",
       "<polygon fill=\"none\" stroke=\"black\" points=\"578,-36 524,-36 524,0 578,0 578,-36\"/>\n",
       "<text text-anchor=\"middle\" x=\"551\" y=\"-14.3\" font-family=\"Times,serif\" font-size=\"14.00\">&#45;1</text>\n",
       "</g>\n",
       "<!-- Adgdgdgddd&#45;&gt;Adgdgdgdddd -->\n",
       "<g id=\"edge2\" class=\"edge\">\n",
       "<title>Adgdgdgddd&#45;&gt;Adgdgdgdddd</title>\n",
       "<path fill=\"none\" stroke=\"black\" d=\"M473.45,-98.26C490.99,-93.17 513.78,-84.11 529,-69 535.48,-62.56 540.2,-53.89 543.56,-45.58\"/>\n",
       "<polygon fill=\"black\" stroke=\"black\" points=\"546.87,-46.74 546.92,-36.14 540.27,-44.39 546.87,-46.74\"/>\n",
       "<text text-anchor=\"middle\" x=\"624\" y=\"-57.8\" font-family=\"Times,serif\" font-size=\"14.00\">&gt;1.0582087184459998</text>\n",
       "</g>\n",
       "</g>\n",
       "</svg>\n"
      ],
      "text/plain": [
       "<graphviz.graphs.Digraph at 0x7f580a99eec0>"
      ]
     },
     "execution_count": 8,
     "metadata": {},
     "output_type": "execute_result"
    }
   ],
   "source": [
    "graphe_arbre_num = gv.Digraph(format='png')\n",
    "arbre_num.affiche(graphe_arbre_num)\n",
    "graphe_arbre_num"
   ]
  },
  {
   "cell_type": "markdown",
   "metadata": {},
   "source": [
    "<font color=\"RED\" size=\"+1\"><b>[Q]</b></font> Sur une feuille de papier, représenter la frontière de séparation des classes en la dessinant à la main et en utilisant l'arbre ci-dessus."
   ]
  },
  {
   "cell_type": "markdown",
   "metadata": {},
   "source": [
    "Même chose mais en utilisant un seuil d'entropie lors de la construction, ici égal à $0.8$ \n"
   ]
  },
  {
   "cell_type": "code",
   "execution_count": 9,
   "metadata": {},
   "outputs": [
    {
     "name": "stdout",
     "output_type": "stream",
     "text": [
      "Accuracy : 0.85\n"
     ]
    },
    {
     "data": {
      "image/png": "[encoded data removed]",
      "text/plain": [
       "<Figure size 640x480 with 1 Axes>"
      ]
     },
     "metadata": {},
     "output_type": "display_data"
    }
   ],
   "source": [
    "# Initialiation d'un arbre pour le dataset généré:\n",
    "arbre_num1 = classif.ClassifierArbreNumerique(len(d_desc_gauss),0.8, d_label_gauss)\n",
    "\n",
    "# Construction de l'arbre de décision à partir du dataset Iris\n",
    "arbre_num1.train(d_desc_gauss,d_label_gauss)\n",
    "print(\"Accuracy :\",arbre_num1.accuracy(d_desc_gauss,d_label_gauss))\n",
    "\n",
    "# Affichage de la frontière de séparation\n",
    "ut.plot_frontiere(d_desc_gauss,d_label_gauss,arbre_num1)\n",
    "ut.plot2DSet(d_desc_gauss,d_label_gauss)"
   ]
  },
  {
   "cell_type": "code",
   "execution_count": 10,
   "metadata": {},
   "outputs": [
    {
     "data": {
      "image/svg+xml": [
       "<?xml version=\"1.0\" encoding=\"UTF-8\" standalone=\"no\"?>\n",
       "<!DOCTYPE svg PUBLIC \"-//W3C//DTD SVG 1.1//EN\"\n",
       " \"http://www.w3.org/Graphics/SVG/1.1/DTD/svg11.dtd\">\n",
       "<!-- Generated by graphviz version 2.43.0 (0)\n",
       " -->\n",
       "<!-- Title: %3 Pages: 1 -->\n",
       "<svg width=\"390pt\" height=\"131pt\"\n",
       " viewBox=\"0.00 0.00 390.00 131.00\" xmlns=\"http://www.w3.org/2000/svg\" xmlns:xlink=\"http://www.w3.org/1999/xlink\">\n",
       "<g id=\"graph0\" class=\"graph\" transform=\"scale(1 1) rotate(0) translate(4 127)\">\n",
       "<title>%3</title>\n",
       "<polygon fill=\"white\" stroke=\"transparent\" points=\"-4,4 -4,-127 386,-127 386,4 -4,4\"/>\n",
       "<!-- A -->\n",
       "<g id=\"node1\" class=\"node\">\n",
       "<title>A</title>\n",
       "<ellipse fill=\"none\" stroke=\"black\" cx=\"127\" cy=\"-105\" rx=\"27\" ry=\"18\"/>\n",
       "<text text-anchor=\"middle\" x=\"127\" y=\"-101.3\" font-family=\"Times,serif\" font-size=\"14.00\">&#45;1</text>\n",
       "</g>\n",
       "<!-- Ag -->\n",
       "<g id=\"node2\" class=\"node\">\n",
       "<title>Ag</title>\n",
       "<polygon fill=\"none\" stroke=\"black\" points=\"54,-36 0,-36 0,0 54,0 54,-36\"/>\n",
       "<text text-anchor=\"middle\" x=\"27\" y=\"-14.3\" font-family=\"Times,serif\" font-size=\"14.00\">&#45;1</text>\n",
       "</g>\n",
       "<!-- A&#45;&gt;Ag -->\n",
       "<g id=\"edge1\" class=\"edge\">\n",
       "<title>A&#45;&gt;Ag</title>\n",
       "<path fill=\"none\" stroke=\"black\" d=\"M100.2,-102.6C76.92,-99.8 44.44,-91.76 28,-69 23.33,-62.54 21.89,-54.29 21.95,-46.35\"/>\n",
       "<polygon fill=\"black\" stroke=\"black\" points=\"25.44,-46.54 22.75,-36.29 18.47,-45.98 25.44,-46.54\"/>\n",
       "<text text-anchor=\"middle\" x=\"117\" y=\"-57.8\" font-family=\"Times,serif\" font-size=\"14.00\">&lt;=&#45;0.624301981654328</text>\n",
       "</g>\n",
       "<!-- Ad -->\n",
       "<g id=\"node3\" class=\"node\">\n",
       "<title>Ad</title>\n",
       "<polygon fill=\"none\" stroke=\"black\" points=\"255,-36 201,-36 201,0 255,0 255,-36\"/>\n",
       "<text text-anchor=\"middle\" x=\"228\" y=\"-14.3\" font-family=\"Times,serif\" font-size=\"14.00\">1</text>\n",
       "</g>\n",
       "<!-- A&#45;&gt;Ad -->\n",
       "<g id=\"edge2\" class=\"edge\">\n",
       "<title>A&#45;&gt;Ad</title>\n",
       "<path fill=\"none\" stroke=\"black\" d=\"M152.19,-98C169.25,-92.81 191.27,-83.76 206,-69 212.45,-62.53 217.16,-53.86 220.53,-45.54\"/>\n",
       "<polygon fill=\"black\" stroke=\"black\" points=\"223.83,-46.71 223.89,-36.11 217.24,-44.36 223.83,-46.71\"/>\n",
       "<text text-anchor=\"middle\" x=\"299\" y=\"-57.8\" font-family=\"Times,serif\" font-size=\"14.00\">&gt;&#45;0.624301981654328</text>\n",
       "</g>\n",
       "</g>\n",
       "</svg>\n"
      ],
      "text/plain": [
       "<graphviz.graphs.Digraph at 0x7f580a99ffd0>"
      ]
     },
     "execution_count": 10,
     "metadata": {},
     "output_type": "execute_result"
    }
   ],
   "source": [
    "graphe_arbre_num1 = gv.Digraph(format='png')\n",
    "arbre_num1.affiche(graphe_arbre_num1)\n",
    "graphe_arbre_num1"
   ]
  },
  {
   "cell_type": "markdown",
   "metadata": {},
   "source": [
    "## Bagging d'arbres de décision\n",
    "\n",
    "### Tirage aléatoire d'exemples\n",
    "\n",
    "Le bootstrap s'effectue en tirant aléatoirement un échantillon de $m$ exemples à partir de la base d'apprentissage $X$. Cet échantillon sert ensuite à construire un classifieur.\n",
    "\n",
    "Dans l'algorithme du bagging, ce processus est répété $B$ fois.\n",
    "\n",
    "Afin de ne pas alourdir la place mémoire nécessaire pour réaliser un tel tirage, on ne travaille que sur les indices des exemples dans la base. Un **échantillon de $X$ est donc un vecteur d'entiers** qui représentent les indices des exemples choisis.\n"
   ]
  },
  {
   "cell_type": "markdown",
   "metadata": {},
   "source": [
    "### Tirages aléatoires\n",
    "\n",
    "Consulter la librairie Python random qui propose différentes fonctions utiles pour implémenter le tirage aléatoire du bootstrap.\n",
    "\n",
    "Par exemple, la fonction <code>sample()</code> de la librairie <code>random</code> rend une sélection aléatoire dans une population donnée en réalisant un tirage sans remise.\n",
    "\n",
    "Pour tester, exécuter plusieurs fois les instructions de la boîte suivante :"
   ]
  },
  {
   "cell_type": "code",
   "execution_count": 11,
   "metadata": {},
   "outputs": [
    {
     "name": "stdout",
     "output_type": "stream",
     "text": [
      "La liste L de départ:  [0, 1, 2, 3, 4, 5, 6, 7, 8, 9, 10]\n",
      "Echantillon 1:  [10, 1, 0, 4, 9, 6]\n",
      "Echantillon 2:  [2, 1, 8, 9, 4, 3]\n"
     ]
    }
   ],
   "source": [
    "# ATTENTION : on utilise ici les fonctions de la librairie random pas numpy !\n",
    "# Donc, on ne préfixe pas les fonction par np.\n",
    "\n",
    "import random\n",
    "random.seed(42)   # on prend 42 comme graine\n",
    "\n",
    "L= [i for i in range(0,11)]             # construction de la liste des entiers de 0 à 10\n",
    "print(\"La liste L de départ: \",L)\n",
    "EchL_1 = random.sample(L,6)               # tirage de 6 éléments de L\n",
    "print(\"Echantillon 1: \",EchL_1)\n",
    "EchL_2 = random.sample(L,6)               # un autre tirage de 6 éléments de L\n",
    "print(\"Echantillon 2: \",EchL_2)\n"
   ]
  },
  {
   "cell_type": "markdown",
   "metadata": {},
   "source": [
    "La fonction <code>choice()</code> permet de choisir aléatoirement un élément dans une liste:"
   ]
  },
  {
   "cell_type": "code",
   "execution_count": 12,
   "metadata": {},
   "outputs": [
    {
     "name": "stdout",
     "output_type": "stream",
     "text": [
      "La liste L de départ:  [0, 1, 2, 3, 4, 5, 6, 7, 8, 9, 10]\n",
      "Element choisi:  10\n"
     ]
    }
   ],
   "source": [
    "random.seed(42)   # on prend 42 comme graine\n",
    "\n",
    "L= [i for i in range(0,11)]             # construction de la liste des entiers de 0 à 10\n",
    "print(\"La liste L de départ: \",L)\n",
    "elt = random.choice(L)                  # choix d'un élémént\n",
    "print(\"Element choisi: \",elt)"
   ]
  },
  {
   "cell_type": "markdown",
   "metadata": {},
   "source": [
    "<font color=\"RED\" size=\"+1\">**[Q]**</font> Ecrire la fonction <code>tirage()</code> qui étant donné un vecteur d'entiers <i>VX</i> qui représente l'ensemble des indices des exemples d'une base d'apprentissage <i>X</i>, un entier $m$, et un booléen $r$, rend un vecteur de $m$ indices choisis aléatoirement dans <i>VX</i>. Si le booléen $r$ est vrai, le tirage s'effectue *avec remise*, sinon il s'effectue *sans remise*."
   ]
  },
  {
   "cell_type": "code",
   "execution_count": 27,
   "metadata": {},
   "outputs": [],
   "source": [
    "import random\n",
    "\n",
    "def tirage(VX, m, avecRemise=False):\n",
    "    \"\"\" VX: vecteur d'indices \n",
    "        m : nombre d'exemples à sélectionner (hypothèse: m <= len(VX))\n",
    "        avecRemise: booléen, true si avec remise, ou faux sinon\n",
    "    \"\"\"\n",
    "    res = []\n",
    "    if avecRemise:\n",
    "        for i in range(m):\n",
    "            res.append(random.choice(VX))\n",
    "        return res\n",
    "    else:\n",
    "        return random.sample(VX,m)\n"
   ]
  },
  {
   "cell_type": "markdown",
   "metadata": {},
   "source": [
    "Exemples :"
   ]
  },
  {
   "cell_type": "code",
   "execution_count": 28,
   "metadata": {},
   "outputs": [
    {
     "name": "stdout",
     "output_type": "stream",
     "text": [
      "Tirage obtenu:  [1, 0, 4, 3, 3, 2, 1, 8]\n"
     ]
    },
    {
     "data": {
      "text/plain": [
       "array([[ 0.14768854,  0.52302986],\n",
       "       [-0.00328585, -1.1382643 ],\n",
       "       [-0.96947439, -0.45743996],\n",
       "       [ 1.07921282, -0.23256527],\n",
       "       [ 1.07921282, -0.23256527],\n",
       "       [-0.73415337, -1.23413696],\n",
       "       [ 0.14768854,  0.52302986],\n",
       "       [-1.51283112, -0.68575267]])"
      ]
     },
     "execution_count": 28,
     "metadata": {},
     "output_type": "execute_result"
    }
   ],
   "source": [
    "random.seed(42)   # on prend 42 comme graine\n",
    "L= [i for i in range(0,10)]    # construction de la liste des entiers de 0 à 100\n",
    "Lrand = tirage(L,8,True)               # tirage avec remise\n",
    "print(\"Tirage obtenu: \",Lrand)\n",
    "# Choix de lignes quelconques de d_desc\n",
    "d_desc_gauss[Lrand,:]"
   ]
  },
  {
   "cell_type": "markdown",
   "metadata": {},
   "source": [
    "Dans ce qui suit, pour faciliter les énoncés, on appelle <code>LabeledSet</code> un couple de 2 np.arrays $X$ pour les descriptions des exemples et $Y$ pour les labels correspondant à chaque exemple.\n",
    "\n",
    "Par exemple, le <code>LabeledSet</code> pour les données générées précédemment est <code>(d_des_gauss,d_label_gauss)</code>."
   ]
  },
  {
   "cell_type": "markdown",
   "metadata": {
    "collapsed": true,
    "jupyter": {
     "outputs_hidden": true
    }
   },
   "source": [
    "<font color=\"RED\" size=\"+1\">**[Q]**</font> En utilisant la fonction précédente, écrire la fonction <code>echantillonLS()</code> qui, étant donné un <code>LabeledSet</code> $LS$, un nombre entier $m$, et un booléen $r$ (avec ou sans remise) rend le <code>LabeledSet</code> échantillon de $LS$ de taille $m$. \n",
    "\n",
    "*Remarque*: on peut faire l'hypothèse que $m$ est inférieur ou égal au nombre de lignes de $LS$. \n"
   ]
  },
  {
   "cell_type": "code",
   "execution_count": 43,
   "metadata": {},
   "outputs": [],
   "source": [
    "def echantillonLS(LS,m,avecRemise):\n",
    "    \"\"\" LS: LabeledSet (couple de np.arrays)\n",
    "        m : entier donnant la taille de l'échantillon voulu (hypothèse: m <= len(LS))\n",
    "        avecRemise: booléen pour le mode de tirage\n",
    "    \"\"\"\n",
    "    (desc, labels) = LS\n",
    "    \n",
    "    res_desc = tirage(desc,m,avecRemise)\n",
    "    res_indices = [np.where((desc == elt).all(axis=1))[0][0] for elt in res_desc]\n",
    "    res_labels = labels[res_indices]\n",
    "    return (np.array(res_desc),np.array(res_labels))\n",
    "        "
   ]
  },
  {
   "cell_type": "code",
   "execution_count": 44,
   "metadata": {},
   "outputs": [
    {
     "data": {
      "text/plain": [
       "(array([[ 2.14282281,  1.75193303],\n",
       "        [-0.20387972, -0.73894473],\n",
       "        [-0.13836397, -1.64511975],\n",
       "        [ 2.15859558,  0.17931768],\n",
       "        [ 1.01300189,  2.45353408],\n",
       "        [-0.60748323,  1.18463386],\n",
       "        [-1.33921752, -1.30921238],\n",
       "        [ 1.2766908 ,  1.82718325],\n",
       "        [ 0.97789404, -1.51827022],\n",
       "        [ 0.11614256,  1.15372511]]),\n",
       " array([ 1, -1, -1,  1,  1,  1, -1,  1, -1,  1]))"
      ]
     },
     "execution_count": 44,
     "metadata": {},
     "output_type": "execute_result"
    }
   ],
   "source": [
    "echantillonLS((d_desc_gauss,d_label_gauss),10,True)"
   ]
  },
  {
   "cell_type": "markdown",
   "metadata": {},
   "source": [
    "<font color=\"RED\" size=\"+1\">**[Q]**</font> Ecrire la classe <code>ClassifierBaggingTree</code>, dérivée de la classe <code>Classifier</code>, qui permet d'implémenter un bagging d'arbres de décision (numériques). Les spécifications de cette classe sont :\n",
    "- la création de l'ensemble nécessite les paramètres suivants :\n",
    "    - la dimension des données (comme pour les classifieurs précédents) \n",
    "    - le nombre $B$ d'arbres à construire, \n",
    "    - le pourcentage d'exemples de la base d'apprentissage utilisés pour constituer un échantillon, \n",
    "    - un booléen qui précise si un échantillon est tiré avec ou sans remise\n",
    "    - et la valeur de seuil d'entropie pour arrêter la construction de chaque arbre, \n",
    "- l'apprentissage (méthode <code>train()</code>) construit autant d'arbres que précisé à la création. Chaque arbre est construit à partir d'un échantillon de la base d'apprentissage (donnée sous forme d'un <code>LabeledSet</code>) donnée en argument. Les arbres construits sont stockés dans un ensemble Python.\n",
    "- le score de classification <code>score()</code> est une valeur de $[-1,1]$ qui est calculé sur le modèle du score des $k$ plus proches voisins, il est basé sur le pourcentage de classifieurs qui ont donné la classe $+1$ pour l'exemple à classer. \n",
    "- la prédiction (méthode <code>predict()</code>) classe un exemple par vote de tous les arbres de la forêt. Si la somme des votes est positive ou nulle, la classe rendue est +1, sinon, la classe rendue est -1. Cette prédiction peut aussi être déterminée par le score: si celui-ci est supérieur ou éval à $0$ alors la classe prédite sera +1, sinon elle sera -1.\n"
   ]
  },
  {
   "cell_type": "code",
   "execution_count": 37,
   "metadata": {},
   "outputs": [],
   "source": [
    "class ClassifierBaggingTree(classif.Classifier):\n",
    "    \"\"\" Classe pour représenter un classifieur par bagging d'arbres de décisions.\n",
    "        Cette classe hérite de la classe Classifier\n",
    "    \"\"\"\n",
    "\n",
    "    def __init__(self,input_dimension, B, pourcentage_exemple, seuil, avecRemise):\n",
    "        classif.Classifier.__init__(self,input_dimension)\n",
    "        self.B = B\n",
    "        self.pourcentage_exemple = pourcentage_exemple\n",
    "        self.avecRemise = avecRemise\n",
    "        self.seuil = seuil\n",
    "        self.arbres = []\n",
    "\n",
    "    def train(self, LS):\n",
    "        for i in range(self.B):\n",
    "            arbre = classif.ClassifierArbreNumerique(self.dimension,0.0)\n",
    "            pourcent_LS = echantillonLS(LS,int(self.pourcentage_exemple*len(LS[1])),self.avecRemise)\n",
    "            arbre.train(pourcent_LS[0],pourcent_LS[1])\n",
    "            self.arbres.append(arbre)\n",
    "\n",
    "    def score(self, x):\n",
    "        votes = [arbre.predict(x) for arbre in self.arbres]\n",
    "        nb_positifs = votes.count(+1)\n",
    "        return nb_positifs / self.B * 2 - 1  # Normalisé entre [-1, 1]\n",
    "    \n",
    "    def predict(self, x):\n",
    "        somme_votes = sum(arbre.predict(x) for arbre in self.arbres)\n",
    "        if somme_votes >= 0:\n",
    "            return +1\n",
    "        else:\n",
    "            return -1"
   ]
  },
  {
   "cell_type": "code",
   "execution_count": 45,
   "metadata": {},
   "outputs": [
    {
     "data": {
      "image/png": "[encoded data removed]",
      "text/plain": [
       "<Figure size 640x480 with 1 Axes>"
      ]
     },
     "metadata": {},
     "output_type": "display_data"
    },
    {
     "name": "stdout",
     "output_type": "stream",
     "text": [
      "\n",
      "accuracy totale: 0.95\n"
     ]
    }
   ],
   "source": [
    "# Exemple d'utilisation\n",
    "\n",
    "random.seed(42)   # on prend 42 comme graine\n",
    "\n",
    "# Forêt de 5 arbres:\n",
    "foret_1 = ClassifierBaggingTree(2,5,0.8,0.0,True)\n",
    "foret_1.train((d_desc_gauss,d_label_gauss))\n",
    "\n",
    "# Affichage de la frontière de séparation des classes\n",
    "ut.plot_frontiere(d_desc_gauss,d_label_gauss,foret_1,step=100)\n",
    "ut.plot2DSet(d_desc_gauss,d_label_gauss)\n",
    "\n",
    "print(\"\\naccuracy totale:\",foret_1.accuracy(d_desc_gauss,d_label_gauss))"
   ]
  },
  {
   "cell_type": "markdown",
   "metadata": {},
   "source": [
    "### Expérimentations\n",
    "\n",
    "<font color=\"RED\" size=\"+1\">**[Q]**</font> Expérimenter l'algorithme précédent de la façon suivante :\n",
    "- générer un dataset de train $Data$ contenant 1000 exemples ;\n",
    "- générer une base de test $T$ contenant 200 exemples ;\n",
    "- réaliser un apprentissage par bagging avec $Data$ et évaluer le taux de prédiction du modèle obtenu sur $T$ ;\n",
    "\n",
    "**Remarque**: réinitialiser la graine aléatoire avant de construire une forêt."
   ]
  },
  {
   "cell_type": "code",
   "execution_count": 51,
   "metadata": {},
   "outputs": [
    {
     "name": "stdout",
     "output_type": "stream",
     "text": [
      "Score de la forêt sur le jeu de test : 0.8500\n"
     ]
    }
   ],
   "source": [
    "random.seed(42)\n",
    "\n",
    "# Paramètres des deux classes :\n",
    "mu1 = np.array([1, 1])\n",
    "cov1 = np.array([[1, 0], [0, 1]])\n",
    "\n",
    "mu2 = np.array([-0.5, -1])\n",
    "cov2 = np.array([[1, 0], [0, 1]])\n",
    "\n",
    "# Génération du dataset d'entraînement (1000 exemples)\n",
    "desc_train, label_train = ut.genere_dataset_gaussian(mu1, cov1, mu2, cov2, 500)\n",
    "\n",
    "# Génération du dataset de test (200 exemples)\n",
    "desc_test, label_test = ut.genere_dataset_gaussian(mu1, cov1, mu2, cov2, 100)\n",
    "\n",
    "foret_2 = ClassifierBaggingTree(2,5,0.8,0.0,True)\n",
    "foret_2.train((desc_train,label_train))\n",
    "\n",
    "score = foret_2.accuracy(desc_test, label_test)\n",
    "\n",
    "print(f\"Score de la forêt sur le jeu de test : {score:.4f}\")"
   ]
  },
  {
   "cell_type": "markdown",
   "metadata": {},
   "source": [
    "<font color=\"RED\" size=\"+1\">**[Q]**</font> En utilisant le résultat précédent, construire la courbe donnant la variation du **taux d'erreur** en fonction du nombre d'arbres dans la forêt.\n"
   ]
  },
  {
   "cell_type": "code",
   "execution_count": 52,
   "metadata": {},
   "outputs": [
    {
     "ename": "TypeError",
     "evalue": "ClassifierBaggingTree.__init__() got an unexpected keyword argument 'dimension'",
     "output_type": "error",
     "traceback": [
      "\u001b[0;31m---------------------------------------------------------------------------\u001b[0m",
      "\u001b[0;31mTypeError\u001b[0m                                 Traceback (most recent call last)",
      "Cell \u001b[0;32mIn[52], line 5\u001b[0m\n\u001b[1;32m      2\u001b[0m erreurs \u001b[38;5;241m=\u001b[39m []\n\u001b[1;32m      4\u001b[0m \u001b[38;5;28;01mfor\u001b[39;00m B \u001b[38;5;129;01min\u001b[39;00m liste_B:\n\u001b[0;32m----> 5\u001b[0m     clf \u001b[38;5;241m=\u001b[39m \u001b[43mClassifierBaggingTree\u001b[49m\u001b[43m(\u001b[49m\u001b[43mdimension\u001b[49m\u001b[38;5;241;43m=\u001b[39;49m\u001b[38;5;241;43m2\u001b[39;49m\u001b[43m,\u001b[49m\u001b[43m \u001b[49m\u001b[43mB\u001b[49m\u001b[38;5;241;43m=\u001b[39;49m\u001b[43mB\u001b[49m\u001b[43m,\u001b[49m\u001b[43m \u001b[49m\u001b[43mpourcentage_exemple\u001b[49m\u001b[38;5;241;43m=\u001b[39;49m\u001b[38;5;241;43m0.8\u001b[39;49m\u001b[43m,\u001b[49m\u001b[43m \u001b[49m\u001b[43mepsilon\u001b[49m\u001b[38;5;241;43m=\u001b[39;49m\u001b[38;5;241;43m0.0\u001b[39;49m\u001b[43m,\u001b[49m\u001b[43m \u001b[49m\u001b[43mavecRemise\u001b[49m\u001b[38;5;241;43m=\u001b[39;49m\u001b[38;5;28;43;01mTrue\u001b[39;49;00m\u001b[43m)\u001b[49m\n\u001b[1;32m      6\u001b[0m     clf\u001b[38;5;241m.\u001b[39mtrain((desc_train, label_train))\n\u001b[1;32m      8\u001b[0m     \u001b[38;5;66;03m# Prédiction et évaluation\u001b[39;00m\n",
      "\u001b[0;31mTypeError\u001b[0m: ClassifierBaggingTree.__init__() got an unexpected keyword argument 'dimension'"
     ]
    }
   ],
   "source": [
    "liste_B = [1, 3, 5, 10, 20, 30, 40, 50]\n",
    "erreurs = []\n",
    "\n",
    "for B in liste_B:\n",
    "    clf = ClassifierBaggingTree(2,B,0.8,0.0,True)\n",
    "    clf.train((desc_train, label_train))\n",
    "    \n",
    "    # Prédiction et évaluation\n",
    "    pred = [clf.predict(x) for x in desc_test]\n",
    "    erreur = np.mean(pred != label_test)\n",
    "    erreurs.append(erreur)\n",
    "\n",
    "# 3. Tracé de la courbe\n",
    "plt.figure(figsize=(8,5))\n",
    "plt.plot(liste_B, erreurs, marker='o', linestyle='-', color='blue')\n",
    "plt.xlabel(\"Nombre d'arbres dans la forêt\")\n",
    "plt.ylabel(\"Taux d'erreur\")\n",
    "plt.title(\"Évolution du taux d'erreur en fonction du nombre d'arbres\")\n",
    "plt.grid(True)\n",
    "plt.show()"
   ]
  },
  {
   "cell_type": "markdown",
   "metadata": {},
   "source": [
    "## Version multiclasses\n",
    "\n",
    "<font color=\"RED\" size=\"+1\">**[Q]**</font> Réaliser une version multiclasses de cet algorithme en utilisant le ̀`ClassifierMultiOAA` du TME 4 (qui doit peut être être adapté) et l'expérimenter sur les données des Iris de Fischer du TME 7.\n",
    "\n"
   ]
  },
  {
   "cell_type": "code",
   "execution_count": null,
   "metadata": {},
   "outputs": [],
   "source": []
  },
  {
   "cell_type": "markdown",
   "metadata": {},
   "source": [
    "## (optionnel) Evaluation par la méthode \"Out Of Bags\"\n",
    "\n",
    "<font color=\"RED\" size=\"+1\">**[Q]**</font> Sur les mêmes données, réaliser une évaluation par la méthode \"Out Of Bags\" vue dans le cours 11. Construire la courbe donnant le taux de prédiction OOB en fonction de la taille de la forêt d'arbres.\n",
    "\n",
    "Pour cela, écrire la classe <code>ClassifierBaggingTreeOOB</code> qui étend la classe d'un classifieur bagging pour prendre en compte la spécificité de l'approche OOB.\n",
    "Ainsi, à partir de $\\mathcal{X}$, l'ensemble des données d'apprentissage, chaque arbre $A_i$ de la forêt est associé à 2 sous-ensembles de $\\mathcal{X}$: \n",
    "- $\\mathcal{X}_i$: l'échantillon bootstrap qui sert à construire l'arbre $A_i$\n",
    "- $\\mathcal{T}_i$: l'ensemble des exemples OOB associés à l'arbre $A_i$\n",
    "\n",
    "Le calcul du taux de bonne classification s'effectuera comme suit:\n",
    "- soit $t_i$ le taux de bonne classification de $A_i$ pour l'ensemble OOB $\\mathcal{T}_i$\n",
    "- le taux de global de bonne classification de la forêt d'arbres $A_1$,..., $A_B$ est donné par $\\frac{1}{B}\\sum_{i=1}^{B} t_i$\n"
   ]
  },
  {
   "cell_type": "markdown",
   "metadata": {},
   "source": [
    "# Expérimentations\n",
    "\n",
    "Réaliser des expérimentations avec l'algorithme de bagging d'arbres sur différents jeux de données vus lors des séances précédentes.\n",
    "\n",
    "Comparer cet algorithme avec les autres algorithmes d'apprentissage que vous avez implémenter.\n"
   ]
  },
  {
   "cell_type": "code",
   "execution_count": null,
   "metadata": {},
   "outputs": [],
   "source": []
  }
 ],
 "metadata": {
  "kernelspec": {
   "display_name": "Python 3 (ipykernel)",
   "language": "python",
   "name": "python3"
  },
  "language_info": {
   "codemirror_mode": {
    "name": "ipython",
    "version": 3
   },
   "file_extension": ".py",
   "mimetype": "text/x-python",
   "name": "python",
   "nbconvert_exporter": "python",
   "pygments_lexer": "ipython3",
   "version": "3.10.12"
  }
 },
 "nbformat": 4,
 "nbformat_minor": 4
}
